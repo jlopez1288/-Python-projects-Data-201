{
  "nbformat": 4,
  "nbformat_minor": 0,
  "metadata": {
    "colab": {
      "provenance": [],
      "collapsed_sections": [
        "E9xy8hetm9wG",
        "CCJo3OYWm9oQ",
        "Dmo0wF-vnXzD",
        "RYSfWcCcnXsb"
      ],
      "include_colab_link": true
    },
    "kernelspec": {
      "name": "python3",
      "display_name": "Python 3"
    },
    "language_info": {
      "name": "python"
    }
  },
  "cells": [
    {
      "cell_type": "markdown",
      "metadata": {
        "id": "view-in-github",
        "colab_type": "text"
      },
      "source": [
        "<a href=\"https://colab.research.google.com/github/jlopez1288/-Python-projects-Data-201/blob/main/TweetSentimentAnalysis_By_JennLopez.ipynb\" target=\"_parent\"><img src=\"https://colab.research.google.com/assets/colab-badge.svg\" alt=\"Open In Colab\"/></a>"
      ]
    },
    {
      "cell_type": "markdown",
      "source": [
        "##Introduction\n",
        "\n",
        "**What is Sentimental Analysis?**\n",
        "\"*Sentiment Analysis is the most common text classification tool that analyses an incoming message and tells whether the underlying sentiment is positive, negative our neutral. \"*"
      ],
      "metadata": {
        "id": "zDX5X2NQnyKO"
      }
    },
    {
      "cell_type": "markdown",
      "metadata": {
        "id": "ZSBjGiLtkL8Z"
      },
      "source": [
        "#Task 1: Define the Problem"
      ]
    },
    {
      "cell_type": "markdown",
      "source": [
        "To predict sentiment analysis using Natural Language Processing (NLP) in a Tweet Dataset where we coud implement models that can aim to surpass the challenges of identifying the sentiments  the tweets. "
      ],
      "metadata": {
        "id": "ptEKgQ1CovcI"
      }
    },
    {
      "cell_type": "markdown",
      "metadata": {
        "id": "SYOM7cJ_kiY1"
      },
      "source": [
        "#Task 2a: Install the Needed Libraries"
      ]
    },
    {
      "cell_type": "code",
      "metadata": {
        "id": "ft8kSvTUkiUd"
      },
      "source": [
        "#Not Needed at this time"
      ],
      "execution_count": null,
      "outputs": []
    },
    {
      "cell_type": "markdown",
      "metadata": {
        "id": "OZNxHMuSkiON"
      },
      "source": [
        "#Task 2b: Import the Needed Libraries"
      ]
    },
    {
      "cell_type": "code",
      "source": [
        "#First up, I'll import every library that will be used in this project is imported at the start."
      ],
      "metadata": {
        "id": "3j0RrMFNH7Ai"
      },
      "execution_count": null,
      "outputs": []
    },
    {
      "cell_type": "code",
      "metadata": {
        "id": "HPsfw4s7kiKk"
      },
      "source": [
        "import re\n",
        "import pickle\n",
        "import numpy as np #data handling and processing\n",
        "import pandas as pd\n",
        "\n",
        "# Data visualization\n",
        "import matplotlib.pyplot as plt\n",
        "%matplotlib inline\n",
        "import seaborn as sns\n",
        "from wordcloud import WordCloud\n",
        "from textblob import TextBlob\n",
        "\n",
        "\n",
        "\n",
        "# Statistics\n",
        "from scipy import stats\n",
        "import statsmodels.api as sm\n",
        "from scipy.stats import randint as sp_randint\n",
        "from time import time\n",
        "\n",
        "# nltk\n",
        "import nltk\n",
        "from nltk.stem import WordNetLemmatizer\n",
        "\n",
        "# sklearn\n",
        "from sklearn.svm import LinearSVC\n",
        "from sklearn.naive_bayes import BernoulliNB\n",
        "from sklearn.linear_model import LogisticRegression\n",
        "#Machine Learning\n",
        "from sklearn.model_selection import train_test_split\n",
        "from sklearn.feature_extraction.text import TfidfVectorizer\n",
        "from sklearn.metrics import classification_report\n",
        "from sklearn.pipeline import Pipeline"
      ],
      "execution_count": 24,
      "outputs": []
    },
    {
      "cell_type": "code",
      "source": [
        "nltk.download('omw-1.4')\n",
        "nltk.download('wordnet')"
      ],
      "metadata": {
        "colab": {
          "base_uri": "https://localhost:8080/"
        },
        "id": "GjVBFRohEYvs",
        "outputId": "a94713a5-2822-455f-f0eb-0f7cb60525a6"
      },
      "execution_count": 17,
      "outputs": [
        {
          "output_type": "stream",
          "name": "stderr",
          "text": [
            "[nltk_data] Downloading package omw-1.4 to /root/nltk_data...\n",
            "[nltk_data]   Package omw-1.4 is already up-to-date!\n",
            "[nltk_data] Downloading package wordnet to /root/nltk_data...\n",
            "[nltk_data]   Package wordnet is already up-to-date!\n"
          ]
        },
        {
          "output_type": "execute_result",
          "data": {
            "text/plain": [
              "True"
            ]
          },
          "metadata": {},
          "execution_count": 17
        }
      ]
    },
    {
      "cell_type": "markdown",
      "metadata": {
        "id": "umeaYS-SkiGU"
      },
      "source": [
        "#Task 3: Load the Data"
      ]
    },
    {
      "cell_type": "code",
      "source": [
        "from google.colab import drive\n",
        "drive.mount('/content/drive')"
      ],
      "metadata": {
        "colab": {
          "base_uri": "https://localhost:8080/"
        },
        "id": "SWrjR2OAGIqG",
        "outputId": "f478fc44-0bac-48cc-cd1d-3a6afc94cc45"
      },
      "execution_count": 32,
      "outputs": [
        {
          "output_type": "stream",
          "name": "stdout",
          "text": [
            "Drive already mounted at /content/drive; to attempt to forcibly remount, call drive.mount(\"/content/drive\", force_remount=True).\n"
          ]
        }
      ]
    },
    {
      "cell_type": "code",
      "metadata": {
        "id": "loYU2Pg3kiCS"
      },
      "source": [
        "columns=[\"sentiment\", \"ids\", \"date\", \"flag\", \"user\", \"text\"]\n",
        "encoding= \"ISO-8859-1\"\n",
        "tweet = pd.read_csv('/content/drive/MyDrive/Tweets.csv',encoding = encoding, names = columns)"
      ],
      "execution_count": 38,
      "outputs": []
    },
    {
      "cell_type": "code",
      "source": [],
      "metadata": {
        "id": "bLisgEb0GB8h"
      },
      "execution_count": null,
      "outputs": []
    },
    {
      "cell_type": "markdown",
      "metadata": {
        "id": "OTaEVKXAkh-B"
      },
      "source": [
        "#Task 4: Perform Data Exploratory Analysis (EDA)"
      ]
    },
    {
      "cell_type": "markdown",
      "metadata": {
        "id": "2FyPB8fMkh6U"
      },
      "source": [
        "##Show the data"
      ]
    },
    {
      "cell_type": "code",
      "metadata": {
        "id": "x9efqRclkh14",
        "colab": {
          "base_uri": "https://localhost:8080/",
          "height": 49
        },
        "outputId": "c6b89db1-59b2-4b89-e1d3-29c759cd9c5b"
      },
      "source": [
        "tweet.head()"
      ],
      "execution_count": 39,
      "outputs": [
        {
          "output_type": "execute_result",
          "data": {
            "text/plain": [
              "Empty DataFrame\n",
              "Columns: [sentiment, ids, date, flag, user, text]\n",
              "Index: []"
            ],
            "text/html": [
              "\n",
              "  <div id=\"df-261dc07b-8bf5-43eb-8beb-3eef807d7232\">\n",
              "    <div class=\"colab-df-container\">\n",
              "      <div>\n",
              "<style scoped>\n",
              "    .dataframe tbody tr th:only-of-type {\n",
              "        vertical-align: middle;\n",
              "    }\n",
              "\n",
              "    .dataframe tbody tr th {\n",
              "        vertical-align: top;\n",
              "    }\n",
              "\n",
              "    .dataframe thead th {\n",
              "        text-align: right;\n",
              "    }\n",
              "</style>\n",
              "<table border=\"1\" class=\"dataframe\">\n",
              "  <thead>\n",
              "    <tr style=\"text-align: right;\">\n",
              "      <th></th>\n",
              "      <th>sentiment</th>\n",
              "      <th>ids</th>\n",
              "      <th>date</th>\n",
              "      <th>flag</th>\n",
              "      <th>user</th>\n",
              "      <th>text</th>\n",
              "    </tr>\n",
              "  </thead>\n",
              "  <tbody>\n",
              "  </tbody>\n",
              "</table>\n",
              "</div>\n",
              "      <button class=\"colab-df-convert\" onclick=\"convertToInteractive('df-261dc07b-8bf5-43eb-8beb-3eef807d7232')\"\n",
              "              title=\"Convert this dataframe to an interactive table.\"\n",
              "              style=\"display:none;\">\n",
              "        \n",
              "  <svg xmlns=\"http://www.w3.org/2000/svg\" height=\"24px\"viewBox=\"0 0 24 24\"\n",
              "       width=\"24px\">\n",
              "    <path d=\"M0 0h24v24H0V0z\" fill=\"none\"/>\n",
              "    <path d=\"M18.56 5.44l.94 2.06.94-2.06 2.06-.94-2.06-.94-.94-2.06-.94 2.06-2.06.94zm-11 1L8.5 8.5l.94-2.06 2.06-.94-2.06-.94L8.5 2.5l-.94 2.06-2.06.94zm10 10l.94 2.06.94-2.06 2.06-.94-2.06-.94-.94-2.06-.94 2.06-2.06.94z\"/><path d=\"M17.41 7.96l-1.37-1.37c-.4-.4-.92-.59-1.43-.59-.52 0-1.04.2-1.43.59L10.3 9.45l-7.72 7.72c-.78.78-.78 2.05 0 2.83L4 21.41c.39.39.9.59 1.41.59.51 0 1.02-.2 1.41-.59l7.78-7.78 2.81-2.81c.8-.78.8-2.07 0-2.86zM5.41 20L4 18.59l7.72-7.72 1.47 1.35L5.41 20z\"/>\n",
              "  </svg>\n",
              "      </button>\n",
              "      \n",
              "  <style>\n",
              "    .colab-df-container {\n",
              "      display:flex;\n",
              "      flex-wrap:wrap;\n",
              "      gap: 12px;\n",
              "    }\n",
              "\n",
              "    .colab-df-convert {\n",
              "      background-color: #E8F0FE;\n",
              "      border: none;\n",
              "      border-radius: 50%;\n",
              "      cursor: pointer;\n",
              "      display: none;\n",
              "      fill: #1967D2;\n",
              "      height: 32px;\n",
              "      padding: 0 0 0 0;\n",
              "      width: 32px;\n",
              "    }\n",
              "\n",
              "    .colab-df-convert:hover {\n",
              "      background-color: #E2EBFA;\n",
              "      box-shadow: 0px 1px 2px rgba(60, 64, 67, 0.3), 0px 1px 3px 1px rgba(60, 64, 67, 0.15);\n",
              "      fill: #174EA6;\n",
              "    }\n",
              "\n",
              "    [theme=dark] .colab-df-convert {\n",
              "      background-color: #3B4455;\n",
              "      fill: #D2E3FC;\n",
              "    }\n",
              "\n",
              "    [theme=dark] .colab-df-convert:hover {\n",
              "      background-color: #434B5C;\n",
              "      box-shadow: 0px 1px 3px 1px rgba(0, 0, 0, 0.15);\n",
              "      filter: drop-shadow(0px 1px 2px rgba(0, 0, 0, 0.3));\n",
              "      fill: #FFFFFF;\n",
              "    }\n",
              "  </style>\n",
              "\n",
              "      <script>\n",
              "        const buttonEl =\n",
              "          document.querySelector('#df-261dc07b-8bf5-43eb-8beb-3eef807d7232 button.colab-df-convert');\n",
              "        buttonEl.style.display =\n",
              "          google.colab.kernel.accessAllowed ? 'block' : 'none';\n",
              "\n",
              "        async function convertToInteractive(key) {\n",
              "          const element = document.querySelector('#df-261dc07b-8bf5-43eb-8beb-3eef807d7232');\n",
              "          const dataTable =\n",
              "            await google.colab.kernel.invokeFunction('convertToInteractive',\n",
              "                                                     [key], {});\n",
              "          if (!dataTable) return;\n",
              "\n",
              "          const docLinkHtml = 'Like what you see? Visit the ' +\n",
              "            '<a target=\"_blank\" href=https://colab.research.google.com/notebooks/data_table.ipynb>data table notebook</a>'\n",
              "            + ' to learn more about interactive tables.';\n",
              "          element.innerHTML = '';\n",
              "          dataTable['output_type'] = 'display_data';\n",
              "          await google.colab.output.renderOutput(dataTable, element);\n",
              "          const docLink = document.createElement('div');\n",
              "          docLink.innerHTML = docLinkHtml;\n",
              "          element.appendChild(docLink);\n",
              "        }\n",
              "      </script>\n",
              "    </div>\n",
              "  </div>\n",
              "  "
            ]
          },
          "metadata": {},
          "execution_count": 39
        }
      ]
    },
    {
      "cell_type": "markdown",
      "metadata": {
        "id": "yOaCGYX5khxz"
      },
      "source": [
        "##Get Data Info"
      ]
    },
    {
      "cell_type": "code",
      "metadata": {
        "id": "YbjJUPR4khtR",
        "colab": {
          "base_uri": "https://localhost:8080/"
        },
        "outputId": "4b39be1f-9e59-4c37-8c72-7d687b602e7a"
      },
      "source": [
        "tweet.info()"
      ],
      "execution_count": 8,
      "outputs": [
        {
          "output_type": "stream",
          "name": "stdout",
          "text": [
            "<class 'pandas.core.frame.DataFrame'>\n",
            "Index: 0 entries\n",
            "Data columns (total 6 columns):\n",
            " #   Column     Non-Null Count  Dtype \n",
            "---  ------     --------------  ----- \n",
            " 0   sentiment  0 non-null      object\n",
            " 1   ids        0 non-null      object\n",
            " 2   date       0 non-null      object\n",
            " 3   flag       0 non-null      object\n",
            " 4   user       0 non-null      object\n",
            " 5   text       0 non-null      object\n",
            "dtypes: object(6)\n",
            "memory usage: 0.0+ bytes\n"
          ]
        }
      ]
    },
    {
      "cell_type": "code",
      "source": [
        "tweet.columns"
      ],
      "metadata": {
        "colab": {
          "base_uri": "https://localhost:8080/"
        },
        "id": "4_jDDafsHAcF",
        "outputId": "344451b8-d948-4504-de25-8d698628e6f7"
      },
      "execution_count": 9,
      "outputs": [
        {
          "output_type": "execute_result",
          "data": {
            "text/plain": [
              "Index(['sentiment', 'ids', 'date', 'flag', 'user', 'text'], dtype='object')"
            ]
          },
          "metadata": {},
          "execution_count": 9
        }
      ]
    },
    {
      "cell_type": "code",
      "source": [
        "tweet.dtypes"
      ],
      "metadata": {
        "colab": {
          "base_uri": "https://localhost:8080/"
        },
        "id": "jdQ6f1jZI3sb",
        "outputId": "9488d2b5-9149-4128-cfba-2993dd782d0e"
      },
      "execution_count": 10,
      "outputs": [
        {
          "output_type": "execute_result",
          "data": {
            "text/plain": [
              "sentiment    object\n",
              "ids          object\n",
              "date         object\n",
              "flag         object\n",
              "user         object\n",
              "text         object\n",
              "dtype: object"
            ]
          },
          "metadata": {},
          "execution_count": 10
        }
      ]
    },
    {
      "cell_type": "code",
      "source": [
        "tweet.describe()"
      ],
      "metadata": {
        "colab": {
          "base_uri": "https://localhost:8080/",
          "height": 175
        },
        "id": "hNEF-2rhI8iR",
        "outputId": "ab94f9b9-3294-4afc-c1d8-393a401645df"
      },
      "execution_count": 11,
      "outputs": [
        {
          "output_type": "execute_result",
          "data": {
            "text/plain": [
              "       sentiment  ids date flag user text\n",
              "count          0    0    0    0    0    0\n",
              "unique         0    0    0    0    0    0\n",
              "top          NaN  NaN  NaN  NaN  NaN  NaN\n",
              "freq         NaN  NaN  NaN  NaN  NaN  NaN"
            ],
            "text/html": [
              "\n",
              "  <div id=\"df-3293a59b-a253-4697-92f5-a76a5134509b\">\n",
              "    <div class=\"colab-df-container\">\n",
              "      <div>\n",
              "<style scoped>\n",
              "    .dataframe tbody tr th:only-of-type {\n",
              "        vertical-align: middle;\n",
              "    }\n",
              "\n",
              "    .dataframe tbody tr th {\n",
              "        vertical-align: top;\n",
              "    }\n",
              "\n",
              "    .dataframe thead th {\n",
              "        text-align: right;\n",
              "    }\n",
              "</style>\n",
              "<table border=\"1\" class=\"dataframe\">\n",
              "  <thead>\n",
              "    <tr style=\"text-align: right;\">\n",
              "      <th></th>\n",
              "      <th>sentiment</th>\n",
              "      <th>ids</th>\n",
              "      <th>date</th>\n",
              "      <th>flag</th>\n",
              "      <th>user</th>\n",
              "      <th>text</th>\n",
              "    </tr>\n",
              "  </thead>\n",
              "  <tbody>\n",
              "    <tr>\n",
              "      <th>count</th>\n",
              "      <td>0</td>\n",
              "      <td>0</td>\n",
              "      <td>0</td>\n",
              "      <td>0</td>\n",
              "      <td>0</td>\n",
              "      <td>0</td>\n",
              "    </tr>\n",
              "    <tr>\n",
              "      <th>unique</th>\n",
              "      <td>0</td>\n",
              "      <td>0</td>\n",
              "      <td>0</td>\n",
              "      <td>0</td>\n",
              "      <td>0</td>\n",
              "      <td>0</td>\n",
              "    </tr>\n",
              "    <tr>\n",
              "      <th>top</th>\n",
              "      <td>NaN</td>\n",
              "      <td>NaN</td>\n",
              "      <td>NaN</td>\n",
              "      <td>NaN</td>\n",
              "      <td>NaN</td>\n",
              "      <td>NaN</td>\n",
              "    </tr>\n",
              "    <tr>\n",
              "      <th>freq</th>\n",
              "      <td>NaN</td>\n",
              "      <td>NaN</td>\n",
              "      <td>NaN</td>\n",
              "      <td>NaN</td>\n",
              "      <td>NaN</td>\n",
              "      <td>NaN</td>\n",
              "    </tr>\n",
              "  </tbody>\n",
              "</table>\n",
              "</div>\n",
              "      <button class=\"colab-df-convert\" onclick=\"convertToInteractive('df-3293a59b-a253-4697-92f5-a76a5134509b')\"\n",
              "              title=\"Convert this dataframe to an interactive table.\"\n",
              "              style=\"display:none;\">\n",
              "        \n",
              "  <svg xmlns=\"http://www.w3.org/2000/svg\" height=\"24px\"viewBox=\"0 0 24 24\"\n",
              "       width=\"24px\">\n",
              "    <path d=\"M0 0h24v24H0V0z\" fill=\"none\"/>\n",
              "    <path d=\"M18.56 5.44l.94 2.06.94-2.06 2.06-.94-2.06-.94-.94-2.06-.94 2.06-2.06.94zm-11 1L8.5 8.5l.94-2.06 2.06-.94-2.06-.94L8.5 2.5l-.94 2.06-2.06.94zm10 10l.94 2.06.94-2.06 2.06-.94-2.06-.94-.94-2.06-.94 2.06-2.06.94z\"/><path d=\"M17.41 7.96l-1.37-1.37c-.4-.4-.92-.59-1.43-.59-.52 0-1.04.2-1.43.59L10.3 9.45l-7.72 7.72c-.78.78-.78 2.05 0 2.83L4 21.41c.39.39.9.59 1.41.59.51 0 1.02-.2 1.41-.59l7.78-7.78 2.81-2.81c.8-.78.8-2.07 0-2.86zM5.41 20L4 18.59l7.72-7.72 1.47 1.35L5.41 20z\"/>\n",
              "  </svg>\n",
              "      </button>\n",
              "      \n",
              "  <style>\n",
              "    .colab-df-container {\n",
              "      display:flex;\n",
              "      flex-wrap:wrap;\n",
              "      gap: 12px;\n",
              "    }\n",
              "\n",
              "    .colab-df-convert {\n",
              "      background-color: #E8F0FE;\n",
              "      border: none;\n",
              "      border-radius: 50%;\n",
              "      cursor: pointer;\n",
              "      display: none;\n",
              "      fill: #1967D2;\n",
              "      height: 32px;\n",
              "      padding: 0 0 0 0;\n",
              "      width: 32px;\n",
              "    }\n",
              "\n",
              "    .colab-df-convert:hover {\n",
              "      background-color: #E2EBFA;\n",
              "      box-shadow: 0px 1px 2px rgba(60, 64, 67, 0.3), 0px 1px 3px 1px rgba(60, 64, 67, 0.15);\n",
              "      fill: #174EA6;\n",
              "    }\n",
              "\n",
              "    [theme=dark] .colab-df-convert {\n",
              "      background-color: #3B4455;\n",
              "      fill: #D2E3FC;\n",
              "    }\n",
              "\n",
              "    [theme=dark] .colab-df-convert:hover {\n",
              "      background-color: #434B5C;\n",
              "      box-shadow: 0px 1px 3px 1px rgba(0, 0, 0, 0.15);\n",
              "      filter: drop-shadow(0px 1px 2px rgba(0, 0, 0, 0.3));\n",
              "      fill: #FFFFFF;\n",
              "    }\n",
              "  </style>\n",
              "\n",
              "      <script>\n",
              "        const buttonEl =\n",
              "          document.querySelector('#df-3293a59b-a253-4697-92f5-a76a5134509b button.colab-df-convert');\n",
              "        buttonEl.style.display =\n",
              "          google.colab.kernel.accessAllowed ? 'block' : 'none';\n",
              "\n",
              "        async function convertToInteractive(key) {\n",
              "          const element = document.querySelector('#df-3293a59b-a253-4697-92f5-a76a5134509b');\n",
              "          const dataTable =\n",
              "            await google.colab.kernel.invokeFunction('convertToInteractive',\n",
              "                                                     [key], {});\n",
              "          if (!dataTable) return;\n",
              "\n",
              "          const docLinkHtml = 'Like what you see? Visit the ' +\n",
              "            '<a target=\"_blank\" href=https://colab.research.google.com/notebooks/data_table.ipynb>data table notebook</a>'\n",
              "            + ' to learn more about interactive tables.';\n",
              "          element.innerHTML = '';\n",
              "          dataTable['output_type'] = 'display_data';\n",
              "          await google.colab.output.renderOutput(dataTable, element);\n",
              "          const docLink = document.createElement('div');\n",
              "          docLink.innerHTML = docLinkHtml;\n",
              "          element.appendChild(docLink);\n",
              "        }\n",
              "      </script>\n",
              "    </div>\n",
              "  </div>\n",
              "  "
            ]
          },
          "metadata": {},
          "execution_count": 11
        }
      ]
    },
    {
      "cell_type": "markdown",
      "metadata": {
        "id": "6GZsnSiMkhpo"
      },
      "source": [
        "##Find Missing Values"
      ]
    },
    {
      "cell_type": "code",
      "source": [
        "tweet.isnull()"
      ],
      "metadata": {
        "id": "cowmxriqJbvU",
        "outputId": "b5160393-3e86-416b-9d34-de0004a080d4",
        "colab": {
          "base_uri": "https://localhost:8080/",
          "height": 49
        }
      },
      "execution_count": 12,
      "outputs": [
        {
          "output_type": "execute_result",
          "data": {
            "text/plain": [
              "Empty DataFrame\n",
              "Columns: [sentiment, ids, date, flag, user, text]\n",
              "Index: []"
            ],
            "text/html": [
              "\n",
              "  <div id=\"df-7ead7eb6-19ce-43b1-8561-43ded9db1fe1\">\n",
              "    <div class=\"colab-df-container\">\n",
              "      <div>\n",
              "<style scoped>\n",
              "    .dataframe tbody tr th:only-of-type {\n",
              "        vertical-align: middle;\n",
              "    }\n",
              "\n",
              "    .dataframe tbody tr th {\n",
              "        vertical-align: top;\n",
              "    }\n",
              "\n",
              "    .dataframe thead th {\n",
              "        text-align: right;\n",
              "    }\n",
              "</style>\n",
              "<table border=\"1\" class=\"dataframe\">\n",
              "  <thead>\n",
              "    <tr style=\"text-align: right;\">\n",
              "      <th></th>\n",
              "      <th>sentiment</th>\n",
              "      <th>ids</th>\n",
              "      <th>date</th>\n",
              "      <th>flag</th>\n",
              "      <th>user</th>\n",
              "      <th>text</th>\n",
              "    </tr>\n",
              "  </thead>\n",
              "  <tbody>\n",
              "  </tbody>\n",
              "</table>\n",
              "</div>\n",
              "      <button class=\"colab-df-convert\" onclick=\"convertToInteractive('df-7ead7eb6-19ce-43b1-8561-43ded9db1fe1')\"\n",
              "              title=\"Convert this dataframe to an interactive table.\"\n",
              "              style=\"display:none;\">\n",
              "        \n",
              "  <svg xmlns=\"http://www.w3.org/2000/svg\" height=\"24px\"viewBox=\"0 0 24 24\"\n",
              "       width=\"24px\">\n",
              "    <path d=\"M0 0h24v24H0V0z\" fill=\"none\"/>\n",
              "    <path d=\"M18.56 5.44l.94 2.06.94-2.06 2.06-.94-2.06-.94-.94-2.06-.94 2.06-2.06.94zm-11 1L8.5 8.5l.94-2.06 2.06-.94-2.06-.94L8.5 2.5l-.94 2.06-2.06.94zm10 10l.94 2.06.94-2.06 2.06-.94-2.06-.94-.94-2.06-.94 2.06-2.06.94z\"/><path d=\"M17.41 7.96l-1.37-1.37c-.4-.4-.92-.59-1.43-.59-.52 0-1.04.2-1.43.59L10.3 9.45l-7.72 7.72c-.78.78-.78 2.05 0 2.83L4 21.41c.39.39.9.59 1.41.59.51 0 1.02-.2 1.41-.59l7.78-7.78 2.81-2.81c.8-.78.8-2.07 0-2.86zM5.41 20L4 18.59l7.72-7.72 1.47 1.35L5.41 20z\"/>\n",
              "  </svg>\n",
              "      </button>\n",
              "      \n",
              "  <style>\n",
              "    .colab-df-container {\n",
              "      display:flex;\n",
              "      flex-wrap:wrap;\n",
              "      gap: 12px;\n",
              "    }\n",
              "\n",
              "    .colab-df-convert {\n",
              "      background-color: #E8F0FE;\n",
              "      border: none;\n",
              "      border-radius: 50%;\n",
              "      cursor: pointer;\n",
              "      display: none;\n",
              "      fill: #1967D2;\n",
              "      height: 32px;\n",
              "      padding: 0 0 0 0;\n",
              "      width: 32px;\n",
              "    }\n",
              "\n",
              "    .colab-df-convert:hover {\n",
              "      background-color: #E2EBFA;\n",
              "      box-shadow: 0px 1px 2px rgba(60, 64, 67, 0.3), 0px 1px 3px 1px rgba(60, 64, 67, 0.15);\n",
              "      fill: #174EA6;\n",
              "    }\n",
              "\n",
              "    [theme=dark] .colab-df-convert {\n",
              "      background-color: #3B4455;\n",
              "      fill: #D2E3FC;\n",
              "    }\n",
              "\n",
              "    [theme=dark] .colab-df-convert:hover {\n",
              "      background-color: #434B5C;\n",
              "      box-shadow: 0px 1px 3px 1px rgba(0, 0, 0, 0.15);\n",
              "      filter: drop-shadow(0px 1px 2px rgba(0, 0, 0, 0.3));\n",
              "      fill: #FFFFFF;\n",
              "    }\n",
              "  </style>\n",
              "\n",
              "      <script>\n",
              "        const buttonEl =\n",
              "          document.querySelector('#df-7ead7eb6-19ce-43b1-8561-43ded9db1fe1 button.colab-df-convert');\n",
              "        buttonEl.style.display =\n",
              "          google.colab.kernel.accessAllowed ? 'block' : 'none';\n",
              "\n",
              "        async function convertToInteractive(key) {\n",
              "          const element = document.querySelector('#df-7ead7eb6-19ce-43b1-8561-43ded9db1fe1');\n",
              "          const dataTable =\n",
              "            await google.colab.kernel.invokeFunction('convertToInteractive',\n",
              "                                                     [key], {});\n",
              "          if (!dataTable) return;\n",
              "\n",
              "          const docLinkHtml = 'Like what you see? Visit the ' +\n",
              "            '<a target=\"_blank\" href=https://colab.research.google.com/notebooks/data_table.ipynb>data table notebook</a>'\n",
              "            + ' to learn more about interactive tables.';\n",
              "          element.innerHTML = '';\n",
              "          dataTable['output_type'] = 'display_data';\n",
              "          await google.colab.output.renderOutput(dataTable, element);\n",
              "          const docLink = document.createElement('div');\n",
              "          docLink.innerHTML = docLinkHtml;\n",
              "          element.appendChild(docLink);\n",
              "        }\n",
              "      </script>\n",
              "    </div>\n",
              "  </div>\n",
              "  "
            ]
          },
          "metadata": {},
          "execution_count": 12
        }
      ]
    },
    {
      "cell_type": "code",
      "source": [
        "tweet.isnull().sum().sort_values(ascending=False)"
      ],
      "metadata": {
        "colab": {
          "base_uri": "https://localhost:8080/"
        },
        "id": "XOeoLsLmJHIy",
        "outputId": "db0429fd-aa03-4c3a-e958-0d18938e37f1"
      },
      "execution_count": 13,
      "outputs": [
        {
          "output_type": "execute_result",
          "data": {
            "text/plain": [
              "sentiment    0.0\n",
              "ids          0.0\n",
              "date         0.0\n",
              "flag         0.0\n",
              "user         0.0\n",
              "text         0.0\n",
              "dtype: float64"
            ]
          },
          "metadata": {},
          "execution_count": 13
        }
      ]
    },
    {
      "cell_type": "code",
      "source": [
        "\n",
        "#Sorting values from the highest to the lowest"
      ],
      "metadata": {
        "id": "DNLijjzXJOD6"
      },
      "execution_count": null,
      "outputs": []
    },
    {
      "cell_type": "code",
      "source": [
        "len(tweet)"
      ],
      "metadata": {
        "colab": {
          "base_uri": "https://localhost:8080/"
        },
        "id": "XpVoKlIXK67J",
        "outputId": "f6181647-f98f-42c1-b644-e8e23a02bb49"
      },
      "execution_count": 14,
      "outputs": [
        {
          "output_type": "execute_result",
          "data": {
            "text/plain": [
              "0"
            ]
          },
          "metadata": {},
          "execution_count": 14
        }
      ]
    },
    {
      "cell_type": "code",
      "source": [
        "#Visualize missing values\n",
        "sns.heatmap(tweet.isnull(), yticklabels=False,cbar=False,cmap='viridis')"
      ],
      "metadata": {
        "colab": {
          "base_uri": "https://localhost:8080/",
          "height": 363
        },
        "id": "u3TyO8GgLmGA",
        "outputId": "56eab4e1-633e-4ff4-e6bb-d3765f7e756e"
      },
      "execution_count": 15,
      "outputs": [
        {
          "output_type": "error",
          "ename": "ValueError",
          "evalue": "ignored",
          "traceback": [
            "\u001b[0;31m---------------------------------------------------------------------------\u001b[0m",
            "\u001b[0;31mValueError\u001b[0m                                Traceback (most recent call last)",
            "\u001b[0;32m<ipython-input-15-745bb91b588b>\u001b[0m in \u001b[0;36m<module>\u001b[0;34m\u001b[0m\n\u001b[1;32m      1\u001b[0m \u001b[0;31m#Visualize missing values\u001b[0m\u001b[0;34m\u001b[0m\u001b[0;34m\u001b[0m\u001b[0;34m\u001b[0m\u001b[0m\n\u001b[0;32m----> 2\u001b[0;31m \u001b[0msns\u001b[0m\u001b[0;34m.\u001b[0m\u001b[0mheatmap\u001b[0m\u001b[0;34m(\u001b[0m\u001b[0mtweet\u001b[0m\u001b[0;34m.\u001b[0m\u001b[0misnull\u001b[0m\u001b[0;34m(\u001b[0m\u001b[0;34m)\u001b[0m\u001b[0;34m,\u001b[0m \u001b[0myticklabels\u001b[0m\u001b[0;34m=\u001b[0m\u001b[0;32mFalse\u001b[0m\u001b[0;34m,\u001b[0m\u001b[0mcbar\u001b[0m\u001b[0;34m=\u001b[0m\u001b[0;32mFalse\u001b[0m\u001b[0;34m,\u001b[0m\u001b[0mcmap\u001b[0m\u001b[0;34m=\u001b[0m\u001b[0;34m'viridis'\u001b[0m\u001b[0;34m)\u001b[0m\u001b[0;34m\u001b[0m\u001b[0;34m\u001b[0m\u001b[0m\n\u001b[0m",
            "\u001b[0;32m/usr/local/lib/python3.8/dist-packages/seaborn/_decorators.py\u001b[0m in \u001b[0;36minner_f\u001b[0;34m(*args, **kwargs)\u001b[0m\n\u001b[1;32m     44\u001b[0m             )\n\u001b[1;32m     45\u001b[0m         \u001b[0mkwargs\u001b[0m\u001b[0;34m.\u001b[0m\u001b[0mupdate\u001b[0m\u001b[0;34m(\u001b[0m\u001b[0;34m{\u001b[0m\u001b[0mk\u001b[0m\u001b[0;34m:\u001b[0m \u001b[0marg\u001b[0m \u001b[0;32mfor\u001b[0m \u001b[0mk\u001b[0m\u001b[0;34m,\u001b[0m \u001b[0marg\u001b[0m \u001b[0;32min\u001b[0m \u001b[0mzip\u001b[0m\u001b[0;34m(\u001b[0m\u001b[0msig\u001b[0m\u001b[0;34m.\u001b[0m\u001b[0mparameters\u001b[0m\u001b[0;34m,\u001b[0m \u001b[0margs\u001b[0m\u001b[0;34m)\u001b[0m\u001b[0;34m}\u001b[0m\u001b[0;34m)\u001b[0m\u001b[0;34m\u001b[0m\u001b[0;34m\u001b[0m\u001b[0m\n\u001b[0;32m---> 46\u001b[0;31m         \u001b[0;32mreturn\u001b[0m \u001b[0mf\u001b[0m\u001b[0;34m(\u001b[0m\u001b[0;34m**\u001b[0m\u001b[0mkwargs\u001b[0m\u001b[0;34m)\u001b[0m\u001b[0;34m\u001b[0m\u001b[0;34m\u001b[0m\u001b[0m\n\u001b[0m\u001b[1;32m     47\u001b[0m     \u001b[0;32mreturn\u001b[0m \u001b[0minner_f\u001b[0m\u001b[0;34m\u001b[0m\u001b[0;34m\u001b[0m\u001b[0m\n\u001b[1;32m     48\u001b[0m \u001b[0;34m\u001b[0m\u001b[0m\n",
            "\u001b[0;32m/usr/local/lib/python3.8/dist-packages/seaborn/matrix.py\u001b[0m in \u001b[0;36mheatmap\u001b[0;34m(data, vmin, vmax, cmap, center, robust, annot, fmt, annot_kws, linewidths, linecolor, cbar, cbar_kws, cbar_ax, square, xticklabels, yticklabels, mask, ax, **kwargs)\u001b[0m\n\u001b[1;32m    538\u001b[0m     \"\"\"\n\u001b[1;32m    539\u001b[0m     \u001b[0;31m# Initialize the plotter object\u001b[0m\u001b[0;34m\u001b[0m\u001b[0;34m\u001b[0m\u001b[0;34m\u001b[0m\u001b[0m\n\u001b[0;32m--> 540\u001b[0;31m     plotter = _HeatMapper(data, vmin, vmax, cmap, center, robust, annot, fmt,\n\u001b[0m\u001b[1;32m    541\u001b[0m                           \u001b[0mannot_kws\u001b[0m\u001b[0;34m,\u001b[0m \u001b[0mcbar\u001b[0m\u001b[0;34m,\u001b[0m \u001b[0mcbar_kws\u001b[0m\u001b[0;34m,\u001b[0m \u001b[0mxticklabels\u001b[0m\u001b[0;34m,\u001b[0m\u001b[0;34m\u001b[0m\u001b[0;34m\u001b[0m\u001b[0m\n\u001b[1;32m    542\u001b[0m                           yticklabels, mask)\n",
            "\u001b[0;32m/usr/local/lib/python3.8/dist-packages/seaborn/matrix.py\u001b[0m in \u001b[0;36m__init__\u001b[0;34m(self, data, vmin, vmax, cmap, center, robust, annot, fmt, annot_kws, cbar, cbar_kws, xticklabels, yticklabels, mask)\u001b[0m\n\u001b[1;32m    157\u001b[0m \u001b[0;34m\u001b[0m\u001b[0m\n\u001b[1;32m    158\u001b[0m         \u001b[0;31m# Determine good default values for the colormapping\u001b[0m\u001b[0;34m\u001b[0m\u001b[0;34m\u001b[0m\u001b[0;34m\u001b[0m\u001b[0m\n\u001b[0;32m--> 159\u001b[0;31m         self._determine_cmap_params(plot_data, vmin, vmax,\n\u001b[0m\u001b[1;32m    160\u001b[0m                                     cmap, center, robust)\n\u001b[1;32m    161\u001b[0m \u001b[0;34m\u001b[0m\u001b[0m\n",
            "\u001b[0;32m/usr/local/lib/python3.8/dist-packages/seaborn/matrix.py\u001b[0m in \u001b[0;36m_determine_cmap_params\u001b[0;34m(self, plot_data, vmin, vmax, cmap, center, robust)\u001b[0m\n\u001b[1;32m    196\u001b[0m                 \u001b[0mvmin\u001b[0m \u001b[0;34m=\u001b[0m \u001b[0mnp\u001b[0m\u001b[0;34m.\u001b[0m\u001b[0mnanpercentile\u001b[0m\u001b[0;34m(\u001b[0m\u001b[0mcalc_data\u001b[0m\u001b[0;34m,\u001b[0m \u001b[0;36m2\u001b[0m\u001b[0;34m)\u001b[0m\u001b[0;34m\u001b[0m\u001b[0;34m\u001b[0m\u001b[0m\n\u001b[1;32m    197\u001b[0m             \u001b[0;32melse\u001b[0m\u001b[0;34m:\u001b[0m\u001b[0;34m\u001b[0m\u001b[0;34m\u001b[0m\u001b[0m\n\u001b[0;32m--> 198\u001b[0;31m                 \u001b[0mvmin\u001b[0m \u001b[0;34m=\u001b[0m \u001b[0mnp\u001b[0m\u001b[0;34m.\u001b[0m\u001b[0mnanmin\u001b[0m\u001b[0;34m(\u001b[0m\u001b[0mcalc_data\u001b[0m\u001b[0;34m)\u001b[0m\u001b[0;34m\u001b[0m\u001b[0;34m\u001b[0m\u001b[0m\n\u001b[0m\u001b[1;32m    199\u001b[0m         \u001b[0;32mif\u001b[0m \u001b[0mvmax\u001b[0m \u001b[0;32mis\u001b[0m \u001b[0;32mNone\u001b[0m\u001b[0;34m:\u001b[0m\u001b[0;34m\u001b[0m\u001b[0;34m\u001b[0m\u001b[0m\n\u001b[1;32m    200\u001b[0m             \u001b[0;32mif\u001b[0m \u001b[0mrobust\u001b[0m\u001b[0;34m:\u001b[0m\u001b[0;34m\u001b[0m\u001b[0;34m\u001b[0m\u001b[0m\n",
            "\u001b[0;32m<__array_function__ internals>\u001b[0m in \u001b[0;36mnanmin\u001b[0;34m(*args, **kwargs)\u001b[0m\n",
            "\u001b[0;32m/usr/local/lib/python3.8/dist-packages/numpy/lib/nanfunctions.py\u001b[0m in \u001b[0;36mnanmin\u001b[0;34m(a, axis, out, keepdims)\u001b[0m\n\u001b[1;32m    317\u001b[0m         \u001b[0;31m# Fast, but not safe for subclasses of ndarray, or object arrays,\u001b[0m\u001b[0;34m\u001b[0m\u001b[0;34m\u001b[0m\u001b[0;34m\u001b[0m\u001b[0m\n\u001b[1;32m    318\u001b[0m         \u001b[0;31m# which do not implement isnan (gh-9009), or fmin correctly (gh-8975)\u001b[0m\u001b[0;34m\u001b[0m\u001b[0;34m\u001b[0m\u001b[0;34m\u001b[0m\u001b[0m\n\u001b[0;32m--> 319\u001b[0;31m         \u001b[0mres\u001b[0m \u001b[0;34m=\u001b[0m \u001b[0mnp\u001b[0m\u001b[0;34m.\u001b[0m\u001b[0mfmin\u001b[0m\u001b[0;34m.\u001b[0m\u001b[0mreduce\u001b[0m\u001b[0;34m(\u001b[0m\u001b[0ma\u001b[0m\u001b[0;34m,\u001b[0m \u001b[0maxis\u001b[0m\u001b[0;34m=\u001b[0m\u001b[0maxis\u001b[0m\u001b[0;34m,\u001b[0m \u001b[0mout\u001b[0m\u001b[0;34m=\u001b[0m\u001b[0mout\u001b[0m\u001b[0;34m,\u001b[0m \u001b[0;34m**\u001b[0m\u001b[0mkwargs\u001b[0m\u001b[0;34m)\u001b[0m\u001b[0;34m\u001b[0m\u001b[0;34m\u001b[0m\u001b[0m\n\u001b[0m\u001b[1;32m    320\u001b[0m         \u001b[0;32mif\u001b[0m \u001b[0mnp\u001b[0m\u001b[0;34m.\u001b[0m\u001b[0misnan\u001b[0m\u001b[0;34m(\u001b[0m\u001b[0mres\u001b[0m\u001b[0;34m)\u001b[0m\u001b[0;34m.\u001b[0m\u001b[0many\u001b[0m\u001b[0;34m(\u001b[0m\u001b[0;34m)\u001b[0m\u001b[0;34m:\u001b[0m\u001b[0;34m\u001b[0m\u001b[0;34m\u001b[0m\u001b[0m\n\u001b[1;32m    321\u001b[0m             warnings.warn(\"All-NaN slice encountered\", RuntimeWarning,\n",
            "\u001b[0;31mValueError\u001b[0m: zero-size array to reduction operation fmin which has no identity"
          ]
        }
      ]
    },
    {
      "cell_type": "code",
      "source": [
        "#columns show white line, maybe they are presorted or organized?"
      ],
      "metadata": {
        "id": "N41VwiSnLz8O"
      },
      "execution_count": null,
      "outputs": []
    },
    {
      "cell_type": "code",
      "source": [
        "tweet['sentiment'].plot(bins=50, kind='hist')"
      ],
      "metadata": {
        "colab": {
          "base_uri": "https://localhost:8080/",
          "height": 282
        },
        "id": "yDd2CQDeLDss",
        "outputId": "1f9fbfdf-fadd-470b-ff69-d1f74f9ac1e0"
      },
      "execution_count": 30,
      "outputs": [
        {
          "output_type": "execute_result",
          "data": {
            "text/plain": [
              "<matplotlib.axes._subplots.AxesSubplot at 0x7f43ccf5c850>"
            ]
          },
          "metadata": {},
          "execution_count": 30
        },
        {
          "output_type": "display_data",
          "data": {
            "text/plain": [
              "<Figure size 432x288 with 1 Axes>"
            ],
            "image/png": "[encoded data removed]"
          },
          "metadata": {
            "needs_background": "light"
          }
        }
      ]
    },
    {
      "cell_type": "code",
      "source": [
        "#Distribution plot for sentiment column"
      ],
      "metadata": {
        "id": "DsWnlnOsLb6C"
      },
      "execution_count": null,
      "outputs": []
    },
    {
      "cell_type": "markdown",
      "metadata": {
        "id": "HvFrMzIGmMOl"
      },
      "source": [
        "#Task 5: Perform Data Cleaning"
      ]
    },
    {
      "cell_type": "code",
      "metadata": {
        "id": "S6cyPRAAmMLI",
        "colab": {
          "base_uri": "https://localhost:8080/",
          "height": 424
        },
        "outputId": "40b1adba-4f90-4a9c-ffed-d691b209eed6"
      },
      "source": [
        "tweet.drop_duplicates()"
      ],
      "execution_count": 33,
      "outputs": [
        {
          "output_type": "execute_result",
          "data": {
            "text/plain": [
              "         sentiment         ids                          date      flag  \\\n",
              "0                0  1467810369  Mon Apr 06 22:19:45 PDT 2009  NO_QUERY   \n",
              "1                0  1467810672  Mon Apr 06 22:19:49 PDT 2009  NO_QUERY   \n",
              "2                0  1467810917  Mon Apr 06 22:19:53 PDT 2009  NO_QUERY   \n",
              "3                0  1467811184  Mon Apr 06 22:19:57 PDT 2009  NO_QUERY   \n",
              "4                0  1467811193  Mon Apr 06 22:19:57 PDT 2009  NO_QUERY   \n",
              "...            ...         ...                           ...       ...   \n",
              "1599995          4  2193601966  Tue Jun 16 08:40:49 PDT 2009  NO_QUERY   \n",
              "1599996          4  2193601969  Tue Jun 16 08:40:49 PDT 2009  NO_QUERY   \n",
              "1599997          4  2193601991  Tue Jun 16 08:40:49 PDT 2009  NO_QUERY   \n",
              "1599998          4  2193602064  Tue Jun 16 08:40:49 PDT 2009  NO_QUERY   \n",
              "1599999          4  2193602129  Tue Jun 16 08:40:50 PDT 2009  NO_QUERY   \n",
              "\n",
              "                    user                                               text  \n",
              "0        _TheSpecialOne_  @switchfoot http://twitpic.com/2y1zl - Awww, t...  \n",
              "1          scotthamilton  is upset that he can't update his Facebook by ...  \n",
              "2               mattycus  @Kenichan I dived many times for the ball. Man...  \n",
              "3                ElleCTF    my whole body feels itchy and like its on fire   \n",
              "4                 Karoli  @nationwideclass no, it's not behaving at all....  \n",
              "...                  ...                                                ...  \n",
              "1599995  AmandaMarie1028  Just woke up. Having no school is the best fee...  \n",
              "1599996      TheWDBoards  TheWDB.com - Very cool to hear old Walt interv...  \n",
              "1599997           bpbabe  Are you ready for your MoJo Makeover? Ask me f...  \n",
              "1599998     tinydiamondz  Happy 38th Birthday to my boo of alll time!!! ...  \n",
              "1599999   RyanTrevMorris  happy #charitytuesday @theNSPCC @SparksCharity...  \n",
              "\n",
              "[1600000 rows x 6 columns]"
            ],
            "text/html": [
              "\n",
              "  <div id=\"df-87c6b046-84d8-4f0e-b187-26dbe3d41ead\">\n",
              "    <div class=\"colab-df-container\">\n",
              "      <div>\n",
              "<style scoped>\n",
              "    .dataframe tbody tr th:only-of-type {\n",
              "        vertical-align: middle;\n",
              "    }\n",
              "\n",
              "    .dataframe tbody tr th {\n",
              "        vertical-align: top;\n",
              "    }\n",
              "\n",
              "    .dataframe thead th {\n",
              "        text-align: right;\n",
              "    }\n",
              "</style>\n",
              "<table border=\"1\" class=\"dataframe\">\n",
              "  <thead>\n",
              "    <tr style=\"text-align: right;\">\n",
              "      <th></th>\n",
              "      <th>sentiment</th>\n",
              "      <th>ids</th>\n",
              "      <th>date</th>\n",
              "      <th>flag</th>\n",
              "      <th>user</th>\n",
              "      <th>text</th>\n",
              "    </tr>\n",
              "  </thead>\n",
              "  <tbody>\n",
              "    <tr>\n",
              "      <th>0</th>\n",
              "      <td>0</td>\n",
              "      <td>1467810369</td>\n",
              "      <td>Mon Apr 06 22:19:45 PDT 2009</td>\n",
              "      <td>NO_QUERY</td>\n",
              "      <td>_TheSpecialOne_</td>\n",
              "      <td>@switchfoot http://twitpic.com/2y1zl - Awww, t...</td>\n",
              "    </tr>\n",
              "    <tr>\n",
              "      <th>1</th>\n",
              "      <td>0</td>\n",
              "      <td>1467810672</td>\n",
              "      <td>Mon Apr 06 22:19:49 PDT 2009</td>\n",
              "      <td>NO_QUERY</td>\n",
              "      <td>scotthamilton</td>\n",
              "      <td>is upset that he can't update his Facebook by ...</td>\n",
              "    </tr>\n",
              "    <tr>\n",
              "      <th>2</th>\n",
              "      <td>0</td>\n",
              "      <td>1467810917</td>\n",
              "      <td>Mon Apr 06 22:19:53 PDT 2009</td>\n",
              "      <td>NO_QUERY</td>\n",
              "      <td>mattycus</td>\n",
              "      <td>@Kenichan I dived many times for the ball. Man...</td>\n",
              "    </tr>\n",
              "    <tr>\n",
              "      <th>3</th>\n",
              "      <td>0</td>\n",
              "      <td>1467811184</td>\n",
              "      <td>Mon Apr 06 22:19:57 PDT 2009</td>\n",
              "      <td>NO_QUERY</td>\n",
              "      <td>ElleCTF</td>\n",
              "      <td>my whole body feels itchy and like its on fire</td>\n",
              "    </tr>\n",
              "    <tr>\n",
              "      <th>4</th>\n",
              "      <td>0</td>\n",
              "      <td>1467811193</td>\n",
              "      <td>Mon Apr 06 22:19:57 PDT 2009</td>\n",
              "      <td>NO_QUERY</td>\n",
              "      <td>Karoli</td>\n",
              "      <td>@nationwideclass no, it's not behaving at all....</td>\n",
              "    </tr>\n",
              "    <tr>\n",
              "      <th>...</th>\n",
              "      <td>...</td>\n",
              "      <td>...</td>\n",
              "      <td>...</td>\n",
              "      <td>...</td>\n",
              "      <td>...</td>\n",
              "      <td>...</td>\n",
              "    </tr>\n",
              "    <tr>\n",
              "      <th>1599995</th>\n",
              "      <td>4</td>\n",
              "      <td>2193601966</td>\n",
              "      <td>Tue Jun 16 08:40:49 PDT 2009</td>\n",
              "      <td>NO_QUERY</td>\n",
              "      <td>AmandaMarie1028</td>\n",
              "      <td>Just woke up. Having no school is the best fee...</td>\n",
              "    </tr>\n",
              "    <tr>\n",
              "      <th>1599996</th>\n",
              "      <td>4</td>\n",
              "      <td>2193601969</td>\n",
              "      <td>Tue Jun 16 08:40:49 PDT 2009</td>\n",
              "      <td>NO_QUERY</td>\n",
              "      <td>TheWDBoards</td>\n",
              "      <td>TheWDB.com - Very cool to hear old Walt interv...</td>\n",
              "    </tr>\n",
              "    <tr>\n",
              "      <th>1599997</th>\n",
              "      <td>4</td>\n",
              "      <td>2193601991</td>\n",
              "      <td>Tue Jun 16 08:40:49 PDT 2009</td>\n",
              "      <td>NO_QUERY</td>\n",
              "      <td>bpbabe</td>\n",
              "      <td>Are you ready for your MoJo Makeover? Ask me f...</td>\n",
              "    </tr>\n",
              "    <tr>\n",
              "      <th>1599998</th>\n",
              "      <td>4</td>\n",
              "      <td>2193602064</td>\n",
              "      <td>Tue Jun 16 08:40:49 PDT 2009</td>\n",
              "      <td>NO_QUERY</td>\n",
              "      <td>tinydiamondz</td>\n",
              "      <td>Happy 38th Birthday to my boo of alll time!!! ...</td>\n",
              "    </tr>\n",
              "    <tr>\n",
              "      <th>1599999</th>\n",
              "      <td>4</td>\n",
              "      <td>2193602129</td>\n",
              "      <td>Tue Jun 16 08:40:50 PDT 2009</td>\n",
              "      <td>NO_QUERY</td>\n",
              "      <td>RyanTrevMorris</td>\n",
              "      <td>happy #charitytuesday @theNSPCC @SparksCharity...</td>\n",
              "    </tr>\n",
              "  </tbody>\n",
              "</table>\n",
              "<p>1600000 rows × 6 columns</p>\n",
              "</div>\n",
              "      <button class=\"colab-df-convert\" onclick=\"convertToInteractive('df-87c6b046-84d8-4f0e-b187-26dbe3d41ead')\"\n",
              "              title=\"Convert this dataframe to an interactive table.\"\n",
              "              style=\"display:none;\">\n",
              "        \n",
              "  <svg xmlns=\"http://www.w3.org/2000/svg\" height=\"24px\"viewBox=\"0 0 24 24\"\n",
              "       width=\"24px\">\n",
              "    <path d=\"M0 0h24v24H0V0z\" fill=\"none\"/>\n",
              "    <path d=\"M18.56 5.44l.94 2.06.94-2.06 2.06-.94-2.06-.94-.94-2.06-.94 2.06-2.06.94zm-11 1L8.5 8.5l.94-2.06 2.06-.94-2.06-.94L8.5 2.5l-.94 2.06-2.06.94zm10 10l.94 2.06.94-2.06 2.06-.94-2.06-.94-.94-2.06-.94 2.06-2.06.94z\"/><path d=\"M17.41 7.96l-1.37-1.37c-.4-.4-.92-.59-1.43-.59-.52 0-1.04.2-1.43.59L10.3 9.45l-7.72 7.72c-.78.78-.78 2.05 0 2.83L4 21.41c.39.39.9.59 1.41.59.51 0 1.02-.2 1.41-.59l7.78-7.78 2.81-2.81c.8-.78.8-2.07 0-2.86zM5.41 20L4 18.59l7.72-7.72 1.47 1.35L5.41 20z\"/>\n",
              "  </svg>\n",
              "      </button>\n",
              "      \n",
              "  <style>\n",
              "    .colab-df-container {\n",
              "      display:flex;\n",
              "      flex-wrap:wrap;\n",
              "      gap: 12px;\n",
              "    }\n",
              "\n",
              "    .colab-df-convert {\n",
              "      background-color: #E8F0FE;\n",
              "      border: none;\n",
              "      border-radius: 50%;\n",
              "      cursor: pointer;\n",
              "      display: none;\n",
              "      fill: #1967D2;\n",
              "      height: 32px;\n",
              "      padding: 0 0 0 0;\n",
              "      width: 32px;\n",
              "    }\n",
              "\n",
              "    .colab-df-convert:hover {\n",
              "      background-color: #E2EBFA;\n",
              "      box-shadow: 0px 1px 2px rgba(60, 64, 67, 0.3), 0px 1px 3px 1px rgba(60, 64, 67, 0.15);\n",
              "      fill: #174EA6;\n",
              "    }\n",
              "\n",
              "    [theme=dark] .colab-df-convert {\n",
              "      background-color: #3B4455;\n",
              "      fill: #D2E3FC;\n",
              "    }\n",
              "\n",
              "    [theme=dark] .colab-df-convert:hover {\n",
              "      background-color: #434B5C;\n",
              "      box-shadow: 0px 1px 3px 1px rgba(0, 0, 0, 0.15);\n",
              "      filter: drop-shadow(0px 1px 2px rgba(0, 0, 0, 0.3));\n",
              "      fill: #FFFFFF;\n",
              "    }\n",
              "  </style>\n",
              "\n",
              "      <script>\n",
              "        const buttonEl =\n",
              "          document.querySelector('#df-87c6b046-84d8-4f0e-b187-26dbe3d41ead button.colab-df-convert');\n",
              "        buttonEl.style.display =\n",
              "          google.colab.kernel.accessAllowed ? 'block' : 'none';\n",
              "\n",
              "        async function convertToInteractive(key) {\n",
              "          const element = document.querySelector('#df-87c6b046-84d8-4f0e-b187-26dbe3d41ead');\n",
              "          const dataTable =\n",
              "            await google.colab.kernel.invokeFunction('convertToInteractive',\n",
              "                                                     [key], {});\n",
              "          if (!dataTable) return;\n",
              "\n",
              "          const docLinkHtml = 'Like what you see? Visit the ' +\n",
              "            '<a target=\"_blank\" href=https://colab.research.google.com/notebooks/data_table.ipynb>data table notebook</a>'\n",
              "            + ' to learn more about interactive tables.';\n",
              "          element.innerHTML = '';\n",
              "          dataTable['output_type'] = 'display_data';\n",
              "          await google.colab.output.renderOutput(dataTable, element);\n",
              "          const docLink = document.createElement('div');\n",
              "          docLink.innerHTML = docLinkHtml;\n",
              "          element.appendChild(docLink);\n",
              "        }\n",
              "      </script>\n",
              "    </div>\n",
              "  </div>\n",
              "  "
            ]
          },
          "metadata": {},
          "execution_count": 33
        }
      ]
    },
    {
      "cell_type": "code",
      "source": [
        "# Removing the unnecessary columns.\n",
        "tweet = tweet[['sentiment','text']]"
      ],
      "metadata": {
        "id": "3jk2NlXaMeyw"
      },
      "execution_count": 34,
      "outputs": []
    },
    {
      "cell_type": "markdown",
      "metadata": {
        "id": "nNu-6-3emMH5"
      },
      "source": [
        "#Task 6: Visualize Cleaned up Dataset"
      ]
    },
    {
      "cell_type": "code",
      "metadata": {
        "id": "0HXS27ktmMEs",
        "colab": {
          "base_uri": "https://localhost:8080/",
          "height": 206
        },
        "outputId": "01654a4a-14a6-427c-e81e-b0270861a488"
      },
      "source": [
        "tweet.head()"
      ],
      "execution_count": 35,
      "outputs": [
        {
          "output_type": "execute_result",
          "data": {
            "text/plain": [
              "   sentiment                                               text\n",
              "0          0  @switchfoot http://twitpic.com/2y1zl - Awww, t...\n",
              "1          0  is upset that he can't update his Facebook by ...\n",
              "2          0  @Kenichan I dived many times for the ball. Man...\n",
              "3          0    my whole body feels itchy and like its on fire \n",
              "4          0  @nationwideclass no, it's not behaving at all...."
            ],
            "text/html": [
              "\n",
              "  <div id=\"df-d69b4b04-5134-4be2-87ee-ac3954aea96a\">\n",
              "    <div class=\"colab-df-container\">\n",
              "      <div>\n",
              "<style scoped>\n",
              "    .dataframe tbody tr th:only-of-type {\n",
              "        vertical-align: middle;\n",
              "    }\n",
              "\n",
              "    .dataframe tbody tr th {\n",
              "        vertical-align: top;\n",
              "    }\n",
              "\n",
              "    .dataframe thead th {\n",
              "        text-align: right;\n",
              "    }\n",
              "</style>\n",
              "<table border=\"1\" class=\"dataframe\">\n",
              "  <thead>\n",
              "    <tr style=\"text-align: right;\">\n",
              "      <th></th>\n",
              "      <th>sentiment</th>\n",
              "      <th>text</th>\n",
              "    </tr>\n",
              "  </thead>\n",
              "  <tbody>\n",
              "    <tr>\n",
              "      <th>0</th>\n",
              "      <td>0</td>\n",
              "      <td>@switchfoot http://twitpic.com/2y1zl - Awww, t...</td>\n",
              "    </tr>\n",
              "    <tr>\n",
              "      <th>1</th>\n",
              "      <td>0</td>\n",
              "      <td>is upset that he can't update his Facebook by ...</td>\n",
              "    </tr>\n",
              "    <tr>\n",
              "      <th>2</th>\n",
              "      <td>0</td>\n",
              "      <td>@Kenichan I dived many times for the ball. Man...</td>\n",
              "    </tr>\n",
              "    <tr>\n",
              "      <th>3</th>\n",
              "      <td>0</td>\n",
              "      <td>my whole body feels itchy and like its on fire</td>\n",
              "    </tr>\n",
              "    <tr>\n",
              "      <th>4</th>\n",
              "      <td>0</td>\n",
              "      <td>@nationwideclass no, it's not behaving at all....</td>\n",
              "    </tr>\n",
              "  </tbody>\n",
              "</table>\n",
              "</div>\n",
              "      <button class=\"colab-df-convert\" onclick=\"convertToInteractive('df-d69b4b04-5134-4be2-87ee-ac3954aea96a')\"\n",
              "              title=\"Convert this dataframe to an interactive table.\"\n",
              "              style=\"display:none;\">\n",
              "        \n",
              "  <svg xmlns=\"http://www.w3.org/2000/svg\" height=\"24px\"viewBox=\"0 0 24 24\"\n",
              "       width=\"24px\">\n",
              "    <path d=\"M0 0h24v24H0V0z\" fill=\"none\"/>\n",
              "    <path d=\"M18.56 5.44l.94 2.06.94-2.06 2.06-.94-2.06-.94-.94-2.06-.94 2.06-2.06.94zm-11 1L8.5 8.5l.94-2.06 2.06-.94-2.06-.94L8.5 2.5l-.94 2.06-2.06.94zm10 10l.94 2.06.94-2.06 2.06-.94-2.06-.94-.94-2.06-.94 2.06-2.06.94z\"/><path d=\"M17.41 7.96l-1.37-1.37c-.4-.4-.92-.59-1.43-.59-.52 0-1.04.2-1.43.59L10.3 9.45l-7.72 7.72c-.78.78-.78 2.05 0 2.83L4 21.41c.39.39.9.59 1.41.59.51 0 1.02-.2 1.41-.59l7.78-7.78 2.81-2.81c.8-.78.8-2.07 0-2.86zM5.41 20L4 18.59l7.72-7.72 1.47 1.35L5.41 20z\"/>\n",
              "  </svg>\n",
              "      </button>\n",
              "      \n",
              "  <style>\n",
              "    .colab-df-container {\n",
              "      display:flex;\n",
              "      flex-wrap:wrap;\n",
              "      gap: 12px;\n",
              "    }\n",
              "\n",
              "    .colab-df-convert {\n",
              "      background-color: #E8F0FE;\n",
              "      border: none;\n",
              "      border-radius: 50%;\n",
              "      cursor: pointer;\n",
              "      display: none;\n",
              "      fill: #1967D2;\n",
              "      height: 32px;\n",
              "      padding: 0 0 0 0;\n",
              "      width: 32px;\n",
              "    }\n",
              "\n",
              "    .colab-df-convert:hover {\n",
              "      background-color: #E2EBFA;\n",
              "      box-shadow: 0px 1px 2px rgba(60, 64, 67, 0.3), 0px 1px 3px 1px rgba(60, 64, 67, 0.15);\n",
              "      fill: #174EA6;\n",
              "    }\n",
              "\n",
              "    [theme=dark] .colab-df-convert {\n",
              "      background-color: #3B4455;\n",
              "      fill: #D2E3FC;\n",
              "    }\n",
              "\n",
              "    [theme=dark] .colab-df-convert:hover {\n",
              "      background-color: #434B5C;\n",
              "      box-shadow: 0px 1px 3px 1px rgba(0, 0, 0, 0.15);\n",
              "      filter: drop-shadow(0px 1px 2px rgba(0, 0, 0, 0.3));\n",
              "      fill: #FFFFFF;\n",
              "    }\n",
              "  </style>\n",
              "\n",
              "      <script>\n",
              "        const buttonEl =\n",
              "          document.querySelector('#df-d69b4b04-5134-4be2-87ee-ac3954aea96a button.colab-df-convert');\n",
              "        buttonEl.style.display =\n",
              "          google.colab.kernel.accessAllowed ? 'block' : 'none';\n",
              "\n",
              "        async function convertToInteractive(key) {\n",
              "          const element = document.querySelector('#df-d69b4b04-5134-4be2-87ee-ac3954aea96a');\n",
              "          const dataTable =\n",
              "            await google.colab.kernel.invokeFunction('convertToInteractive',\n",
              "                                                     [key], {});\n",
              "          if (!dataTable) return;\n",
              "\n",
              "          const docLinkHtml = 'Like what you see? Visit the ' +\n",
              "            '<a target=\"_blank\" href=https://colab.research.google.com/notebooks/data_table.ipynb>data table notebook</a>'\n",
              "            + ' to learn more about interactive tables.';\n",
              "          element.innerHTML = '';\n",
              "          dataTable['output_type'] = 'display_data';\n",
              "          await google.colab.output.renderOutput(dataTable, element);\n",
              "          const docLink = document.createElement('div');\n",
              "          docLink.innerHTML = docLinkHtml;\n",
              "          element.appendChild(docLink);\n",
              "        }\n",
              "      </script>\n",
              "    </div>\n",
              "  </div>\n",
              "  "
            ]
          },
          "metadata": {},
          "execution_count": 35
        }
      ]
    },
    {
      "cell_type": "code",
      "source": [
        "tweet['sentiment'].unique()"
      ],
      "metadata": {
        "colab": {
          "base_uri": "https://localhost:8080/"
        },
        "id": "s7IexdQTMuzw",
        "outputId": "ef76ed35-9401-4c03-b9ca-94ec86fcc3c1"
      },
      "execution_count": 38,
      "outputs": [
        {
          "output_type": "execute_result",
          "data": {
            "text/plain": [
              "array([0, 4])"
            ]
          },
          "metadata": {},
          "execution_count": 38
        }
      ]
    },
    {
      "cell_type": "code",
      "source": [
        "#array should be binary when training and testing the models. Otherwise it would be a problem"
      ],
      "metadata": {
        "id": "xCIPeZM8NPjw"
      },
      "execution_count": null,
      "outputs": []
    },
    {
      "cell_type": "code",
      "source": [
        "#To ease the understanding values have to be 0,1 or 1,0, etc... In this case 4 has to be replaced"
      ],
      "metadata": {
        "id": "ruHZ8cPWNcjW"
      },
      "execution_count": null,
      "outputs": []
    },
    {
      "cell_type": "code",
      "source": [
        "tweet['sentiment'] = tweet['sentiment'].replace(4, 1)"
      ],
      "metadata": {
        "colab": {
          "base_uri": "https://localhost:8080/"
        },
        "id": "Kuk4kAZ3N2ES",
        "outputId": "7afe8b6b-9ada-4701-ac74-1777e9383bc1"
      },
      "execution_count": 39,
      "outputs": [
        {
          "output_type": "stream",
          "name": "stderr",
          "text": [
            "<ipython-input-39-1bbb48d8dafa>:1: SettingWithCopyWarning: \n",
            "A value is trying to be set on a copy of a slice from a DataFrame.\n",
            "Try using .loc[row_indexer,col_indexer] = value instead\n",
            "\n",
            "See the caveats in the documentation: https://pandas.pydata.org/pandas-docs/stable/user_guide/indexing.html#returning-a-view-versus-a-copy\n",
            "  tweet['sentiment'] = tweet['sentiment'].replace(4, 1)\n"
          ]
        }
      ]
    },
    {
      "cell_type": "code",
      "source": [
        "tweet['sentiment'].unique()"
      ],
      "metadata": {
        "colab": {
          "base_uri": "https://localhost:8080/"
        },
        "id": "EG8Y6j74OH6y",
        "outputId": "0c51b88e-2b37-4f06-fa22-a90fda399304"
      },
      "execution_count": 40,
      "outputs": [
        {
          "output_type": "execute_result",
          "data": {
            "text/plain": [
              "array([0, 1])"
            ]
          },
          "metadata": {},
          "execution_count": 40
        }
      ]
    },
    {
      "cell_type": "code",
      "source": [
        "#now data is in binary form"
      ],
      "metadata": {
        "id": "u85CEhjdOPHX"
      },
      "execution_count": null,
      "outputs": []
    },
    {
      "cell_type": "code",
      "source": [
        "#Visualize array\n",
        "sns.catplot('sentiment', data=tweet, kind='count',aspect=2.5)"
      ],
      "metadata": {
        "colab": {
          "base_uri": "https://localhost:8080/",
          "height": 441
        },
        "id": "y4x03xjlPPDq",
        "outputId": "7b8a87cc-8a5a-4a8a-c7bb-d3fe53caaa3e"
      },
      "execution_count": 44,
      "outputs": [
        {
          "output_type": "stream",
          "name": "stderr",
          "text": [
            "/usr/local/lib/python3.8/dist-packages/seaborn/_decorators.py:36: FutureWarning: Pass the following variable as a keyword arg: x. From version 0.12, the only valid positional argument will be `data`, and passing other arguments without an explicit keyword will result in an error or misinterpretation.\n",
            "  warnings.warn(\n"
          ]
        },
        {
          "output_type": "execute_result",
          "data": {
            "text/plain": [
              "<seaborn.axisgrid.FacetGrid at 0x7f43cce04dc0>"
            ]
          },
          "metadata": {},
          "execution_count": 44
        },
        {
          "output_type": "display_data",
          "data": {
            "text/plain": [
              "<Figure size 900x360 with 1 Axes>"
            ],
            "image/png": "[encoded data removed]"
          },
          "metadata": {
            "needs_background": "light"
          }
        }
      ]
    },
    {
      "cell_type": "code",
      "source": [
        "#We could use 0=negative and 1= positive to visualize the problem"
      ],
      "metadata": {
        "id": "htMLstttPf34"
      },
      "execution_count": null,
      "outputs": []
    },
    {
      "cell_type": "markdown",
      "metadata": {
        "id": "4k8nJyFemMBY"
      },
      "source": [
        "#Task 7: Conceptualize the problem"
      ]
    },
    {
      "cell_type": "code",
      "metadata": {
        "id": "gu4nQbmQm9z8",
        "colab": {
          "base_uri": "https://localhost:8080/",
          "height": 206
        },
        "outputId": "f7a2e7c8-4849-4c70-c312-d242456276e9"
      },
      "source": [
        "tweet.head()"
      ],
      "execution_count": 41,
      "outputs": [
        {
          "output_type": "execute_result",
          "data": {
            "text/plain": [
              "   sentiment                                               text\n",
              "0          0  @switchfoot http://twitpic.com/2y1zl - Awww, t...\n",
              "1          0  is upset that he can't update his Facebook by ...\n",
              "2          0  @Kenichan I dived many times for the ball. Man...\n",
              "3          0    my whole body feels itchy and like its on fire \n",
              "4          0  @nationwideclass no, it's not behaving at all...."
            ],
            "text/html": [
              "\n",
              "  <div id=\"df-912b1143-63a9-4c4f-83d7-f1e6fa04a2d5\">\n",
              "    <div class=\"colab-df-container\">\n",
              "      <div>\n",
              "<style scoped>\n",
              "    .dataframe tbody tr th:only-of-type {\n",
              "        vertical-align: middle;\n",
              "    }\n",
              "\n",
              "    .dataframe tbody tr th {\n",
              "        vertical-align: top;\n",
              "    }\n",
              "\n",
              "    .dataframe thead th {\n",
              "        text-align: right;\n",
              "    }\n",
              "</style>\n",
              "<table border=\"1\" class=\"dataframe\">\n",
              "  <thead>\n",
              "    <tr style=\"text-align: right;\">\n",
              "      <th></th>\n",
              "      <th>sentiment</th>\n",
              "      <th>text</th>\n",
              "    </tr>\n",
              "  </thead>\n",
              "  <tbody>\n",
              "    <tr>\n",
              "      <th>0</th>\n",
              "      <td>0</td>\n",
              "      <td>@switchfoot http://twitpic.com/2y1zl - Awww, t...</td>\n",
              "    </tr>\n",
              "    <tr>\n",
              "      <th>1</th>\n",
              "      <td>0</td>\n",
              "      <td>is upset that he can't update his Facebook by ...</td>\n",
              "    </tr>\n",
              "    <tr>\n",
              "      <th>2</th>\n",
              "      <td>0</td>\n",
              "      <td>@Kenichan I dived many times for the ball. Man...</td>\n",
              "    </tr>\n",
              "    <tr>\n",
              "      <th>3</th>\n",
              "      <td>0</td>\n",
              "      <td>my whole body feels itchy and like its on fire</td>\n",
              "    </tr>\n",
              "    <tr>\n",
              "      <th>4</th>\n",
              "      <td>0</td>\n",
              "      <td>@nationwideclass no, it's not behaving at all....</td>\n",
              "    </tr>\n",
              "  </tbody>\n",
              "</table>\n",
              "</div>\n",
              "      <button class=\"colab-df-convert\" onclick=\"convertToInteractive('df-912b1143-63a9-4c4f-83d7-f1e6fa04a2d5')\"\n",
              "              title=\"Convert this dataframe to an interactive table.\"\n",
              "              style=\"display:none;\">\n",
              "        \n",
              "  <svg xmlns=\"http://www.w3.org/2000/svg\" height=\"24px\"viewBox=\"0 0 24 24\"\n",
              "       width=\"24px\">\n",
              "    <path d=\"M0 0h24v24H0V0z\" fill=\"none\"/>\n",
              "    <path d=\"M18.56 5.44l.94 2.06.94-2.06 2.06-.94-2.06-.94-.94-2.06-.94 2.06-2.06.94zm-11 1L8.5 8.5l.94-2.06 2.06-.94-2.06-.94L8.5 2.5l-.94 2.06-2.06.94zm10 10l.94 2.06.94-2.06 2.06-.94-2.06-.94-.94-2.06-.94 2.06-2.06.94z\"/><path d=\"M17.41 7.96l-1.37-1.37c-.4-.4-.92-.59-1.43-.59-.52 0-1.04.2-1.43.59L10.3 9.45l-7.72 7.72c-.78.78-.78 2.05 0 2.83L4 21.41c.39.39.9.59 1.41.59.51 0 1.02-.2 1.41-.59l7.78-7.78 2.81-2.81c.8-.78.8-2.07 0-2.86zM5.41 20L4 18.59l7.72-7.72 1.47 1.35L5.41 20z\"/>\n",
              "  </svg>\n",
              "      </button>\n",
              "      \n",
              "  <style>\n",
              "    .colab-df-container {\n",
              "      display:flex;\n",
              "      flex-wrap:wrap;\n",
              "      gap: 12px;\n",
              "    }\n",
              "\n",
              "    .colab-df-convert {\n",
              "      background-color: #E8F0FE;\n",
              "      border: none;\n",
              "      border-radius: 50%;\n",
              "      cursor: pointer;\n",
              "      display: none;\n",
              "      fill: #1967D2;\n",
              "      height: 32px;\n",
              "      padding: 0 0 0 0;\n",
              "      width: 32px;\n",
              "    }\n",
              "\n",
              "    .colab-df-convert:hover {\n",
              "      background-color: #E2EBFA;\n",
              "      box-shadow: 0px 1px 2px rgba(60, 64, 67, 0.3), 0px 1px 3px 1px rgba(60, 64, 67, 0.15);\n",
              "      fill: #174EA6;\n",
              "    }\n",
              "\n",
              "    [theme=dark] .colab-df-convert {\n",
              "      background-color: #3B4455;\n",
              "      fill: #D2E3FC;\n",
              "    }\n",
              "\n",
              "    [theme=dark] .colab-df-convert:hover {\n",
              "      background-color: #434B5C;\n",
              "      box-shadow: 0px 1px 3px 1px rgba(0, 0, 0, 0.15);\n",
              "      filter: drop-shadow(0px 1px 2px rgba(0, 0, 0, 0.3));\n",
              "      fill: #FFFFFF;\n",
              "    }\n",
              "  </style>\n",
              "\n",
              "      <script>\n",
              "        const buttonEl =\n",
              "          document.querySelector('#df-912b1143-63a9-4c4f-83d7-f1e6fa04a2d5 button.colab-df-convert');\n",
              "        buttonEl.style.display =\n",
              "          google.colab.kernel.accessAllowed ? 'block' : 'none';\n",
              "\n",
              "        async function convertToInteractive(key) {\n",
              "          const element = document.querySelector('#df-912b1143-63a9-4c4f-83d7-f1e6fa04a2d5');\n",
              "          const dataTable =\n",
              "            await google.colab.kernel.invokeFunction('convertToInteractive',\n",
              "                                                     [key], {});\n",
              "          if (!dataTable) return;\n",
              "\n",
              "          const docLinkHtml = 'Like what you see? Visit the ' +\n",
              "            '<a target=\"_blank\" href=https://colab.research.google.com/notebooks/data_table.ipynb>data table notebook</a>'\n",
              "            + ' to learn more about interactive tables.';\n",
              "          element.innerHTML = '';\n",
              "          dataTable['output_type'] = 'display_data';\n",
              "          await google.colab.output.renderOutput(dataTable, element);\n",
              "          const docLink = document.createElement('div');\n",
              "          docLink.innerHTML = docLinkHtml;\n",
              "          element.appendChild(docLink);\n",
              "        }\n",
              "      </script>\n",
              "    </div>\n",
              "  </div>\n",
              "  "
            ]
          },
          "metadata": {},
          "execution_count": 41
        }
      ]
    },
    {
      "cell_type": "code",
      "source": [
        "# Data Distribution Plot\n",
        "graph = tweet.groupby('sentiment').count().plot(kind='bar', title='Distribution of DATA',\n",
        "                                               legend=False)\n",
        "graph.set_xticklabels(['Negative','Positive'], rotation=0)\n",
        "\n",
        "graph.set_xlabel('Sentiment')\n",
        "graph.set_ylabel('No. of Tweets')\n",
        "# Storing data in lists.\n",
        "text, sentiment = list(tweet['text']), list(tweet['sentiment'])"
      ],
      "metadata": {
        "colab": {
          "base_uri": "https://localhost:8080/",
          "height": 295
        },
        "id": "W297aQq4OpAn",
        "outputId": "f0bcba1e-47ac-42f3-f0b7-43558bddd4b0"
      },
      "execution_count": 42,
      "outputs": [
        {
          "output_type": "display_data",
          "data": {
            "text/plain": [
              "<Figure size 432x288 with 1 Axes>"
            ],
            "image/png": "[encoded data removed]"
          },
          "metadata": {
            "needs_background": "light"
          }
        }
      ]
    },
    {
      "cell_type": "code",
      "source": [
        "#data is equally distributed"
      ],
      "metadata": {
        "id": "bb7PcTW6PJH8"
      },
      "execution_count": null,
      "outputs": []
    },
    {
      "cell_type": "code",
      "source": [
        "# Generate a word cloud image\n",
        "from wordcloud import WordCloud\n",
        "wordcloud = WordCloud(background_color=\"white\").generate(text)\n",
        "\n",
        "# Display the generated image:\n",
        "# the matplotlib way:\n",
        "plt.figure(figsize=(10,10))\n",
        "plt.imshow(wordcloud, interpolation='bilinear')\n",
        "plt.axis(\"off\")\n",
        "plt.show()"
      ],
      "metadata": {
        "colab": {
          "base_uri": "https://localhost:8080/",
          "height": 235
        },
        "id": "4VxNwEUI-LgD",
        "outputId": "769c6d39-c770-44c5-b02e-f3db777d9acf"
      },
      "execution_count": 2,
      "outputs": [
        {
          "output_type": "error",
          "ename": "NameError",
          "evalue": "ignored",
          "traceback": [
            "\u001b[0;31m---------------------------------------------------------------------------\u001b[0m",
            "\u001b[0;31mNameError\u001b[0m                                 Traceback (most recent call last)",
            "\u001b[0;32m<ipython-input-2-5d0e42777f2a>\u001b[0m in \u001b[0;36m<module>\u001b[0;34m\u001b[0m\n\u001b[1;32m      1\u001b[0m \u001b[0;31m# Generate a word cloud image\u001b[0m\u001b[0;34m\u001b[0m\u001b[0;34m\u001b[0m\u001b[0;34m\u001b[0m\u001b[0m\n\u001b[1;32m      2\u001b[0m \u001b[0;32mfrom\u001b[0m \u001b[0mwordcloud\u001b[0m \u001b[0;32mimport\u001b[0m \u001b[0mWordCloud\u001b[0m\u001b[0;34m\u001b[0m\u001b[0;34m\u001b[0m\u001b[0m\n\u001b[0;32m----> 3\u001b[0;31m \u001b[0mwordcloud\u001b[0m \u001b[0;34m=\u001b[0m \u001b[0mWordCloud\u001b[0m\u001b[0;34m(\u001b[0m\u001b[0mbackground_color\u001b[0m\u001b[0;34m=\u001b[0m\u001b[0;34m\"white\"\u001b[0m\u001b[0;34m)\u001b[0m\u001b[0;34m.\u001b[0m\u001b[0mgenerate\u001b[0m\u001b[0;34m(\u001b[0m\u001b[0mtext\u001b[0m\u001b[0;34m)\u001b[0m\u001b[0;34m\u001b[0m\u001b[0;34m\u001b[0m\u001b[0m\n\u001b[0m\u001b[1;32m      4\u001b[0m \u001b[0;34m\u001b[0m\u001b[0m\n\u001b[1;32m      5\u001b[0m \u001b[0;31m# Display the generated image:\u001b[0m\u001b[0;34m\u001b[0m\u001b[0;34m\u001b[0m\u001b[0;34m\u001b[0m\u001b[0m\n",
            "\u001b[0;31mNameError\u001b[0m: name 'text' is not defined"
          ]
        }
      ]
    },
    {
      "cell_type": "code",
      "source": [
        "#Create a dictionary to understand meanings or concepts\n",
        "# Defining dictionary containing all emojis with their meanings.\n",
        "emojis = {':)': 'smile', ':-)': 'smile', ';d': 'wink', ':-E': 'vampire', ':(': 'sad', \n",
        "          ':-(': 'sad', ':-<': 'sad', ':P': 'raspberry', ':O': 'surprised',\n",
        "          ':-@': 'shocked', ':@': 'shocked',':-$': 'confused', ':\\\\': 'annoyed', \n",
        "          ':#': 'mute', ':X': 'mute', ':^)': 'smile', ':-&': 'confused', '$_$': 'greedy',\n",
        "          '@@': 'eyeroll', ':-!': 'confused', ':-D': 'smile', ':-0': 'yell', 'O.o': 'confused',\n",
        "          '<(-_-)>': 'robot', 'd[-_-]b': 'dj', \":'-)\": 'sadsmile', ';)': 'wink', \n",
        "          ';-)': 'wink', 'O:-)': 'angel','O*-)': 'angel','(:-D': 'gossip', '=^.^=': 'cat'}"
      ],
      "metadata": {
        "id": "E9evUW7xP9Ry"
      },
      "execution_count": 45,
      "outputs": []
    },
    {
      "cell_type": "code",
      "source": [
        "#Use of stop words\n",
        "## Defining set containing all stopwords in english.\n",
        "stopwords = ['a', 'about', 'above', 'after', 'again', 'ain', 'all', 'am', 'an',\n",
        "             'and','any','are', 'as', 'at', 'be', 'because', 'been', 'before',\n",
        "             'being', 'below', 'between','both', 'by', 'can', 'd', 'did', 'do',\n",
        "             'does', 'doing', 'down', 'during', 'each','few', 'for', 'from', \n",
        "             'further', 'had', 'has', 'have', 'having', 'he', 'her', 'here',\n",
        "             'hers', 'herself', 'him', 'himself', 'his', 'how', 'i', 'if', 'in',\n",
        "             'into','is', 'it', 'its', 'itself', 'just', 'll', 'm', 'ma',\n",
        "             'me', 'more', 'most','my', 'myself', 'now', 'o', 'of', 'on', 'once',\n",
        "             'only', 'or', 'other', 'our', 'ours','ourselves', 'out', 'own', 're',\n",
        "             's', 'same', 'she', \"shes\", 'should', \"shouldve\",'so', 'some', 'such',\n",
        "             't', 'than', 'that', \"thatll\", 'the', 'their', 'theirs', 'them',\n",
        "             'themselves', 'then', 'there', 'these', 'they', 'this', 'those', \n",
        "             'through', 'to', 'too','under', 'until', 'up', 've', 'very', 'was',\n",
        "             'we', 'were', 'what', 'when', 'where','which','while', 'who', 'whom',\n",
        "             'why', 'will', 'with', 'won', 'y', 'you', \"youd\",\"youll\", \"youre\",\n",
        "             \"youve\", 'your', 'yours', 'yourself', 'yourselves']"
      ],
      "metadata": {
        "id": "3VYd0ASMP5e6"
      },
      "execution_count": 46,
      "outputs": []
    },
    {
      "cell_type": "code",
      "source": [
        "tweet.head()"
      ],
      "metadata": {
        "colab": {
          "base_uri": "https://localhost:8080/",
          "height": 206
        },
        "id": "OYcmI36SQM8X",
        "outputId": "dc617981-4790-4c2f-e021-8dec6d278037"
      },
      "execution_count": 48,
      "outputs": [
        {
          "output_type": "execute_result",
          "data": {
            "text/plain": [
              "   sentiment                                               text\n",
              "0          0  @switchfoot http://twitpic.com/2y1zl - Awww, t...\n",
              "1          0  is upset that he can't update his Facebook by ...\n",
              "2          0  @Kenichan I dived many times for the ball. Man...\n",
              "3          0    my whole body feels itchy and like its on fire \n",
              "4          0  @nationwideclass no, it's not behaving at all...."
            ],
            "text/html": [
              "\n",
              "  <div id=\"df-8e2f0592-7c50-4b88-b082-70a021f83c85\">\n",
              "    <div class=\"colab-df-container\">\n",
              "      <div>\n",
              "<style scoped>\n",
              "    .dataframe tbody tr th:only-of-type {\n",
              "        vertical-align: middle;\n",
              "    }\n",
              "\n",
              "    .dataframe tbody tr th {\n",
              "        vertical-align: top;\n",
              "    }\n",
              "\n",
              "    .dataframe thead th {\n",
              "        text-align: right;\n",
              "    }\n",
              "</style>\n",
              "<table border=\"1\" class=\"dataframe\">\n",
              "  <thead>\n",
              "    <tr style=\"text-align: right;\">\n",
              "      <th></th>\n",
              "      <th>sentiment</th>\n",
              "      <th>text</th>\n",
              "    </tr>\n",
              "  </thead>\n",
              "  <tbody>\n",
              "    <tr>\n",
              "      <th>0</th>\n",
              "      <td>0</td>\n",
              "      <td>@switchfoot http://twitpic.com/2y1zl - Awww, t...</td>\n",
              "    </tr>\n",
              "    <tr>\n",
              "      <th>1</th>\n",
              "      <td>0</td>\n",
              "      <td>is upset that he can't update his Facebook by ...</td>\n",
              "    </tr>\n",
              "    <tr>\n",
              "      <th>2</th>\n",
              "      <td>0</td>\n",
              "      <td>@Kenichan I dived many times for the ball. Man...</td>\n",
              "    </tr>\n",
              "    <tr>\n",
              "      <th>3</th>\n",
              "      <td>0</td>\n",
              "      <td>my whole body feels itchy and like its on fire</td>\n",
              "    </tr>\n",
              "    <tr>\n",
              "      <th>4</th>\n",
              "      <td>0</td>\n",
              "      <td>@nationwideclass no, it's not behaving at all....</td>\n",
              "    </tr>\n",
              "  </tbody>\n",
              "</table>\n",
              "</div>\n",
              "      <button class=\"colab-df-convert\" onclick=\"convertToInteractive('df-8e2f0592-7c50-4b88-b082-70a021f83c85')\"\n",
              "              title=\"Convert this dataframe to an interactive table.\"\n",
              "              style=\"display:none;\">\n",
              "        \n",
              "  <svg xmlns=\"http://www.w3.org/2000/svg\" height=\"24px\"viewBox=\"0 0 24 24\"\n",
              "       width=\"24px\">\n",
              "    <path d=\"M0 0h24v24H0V0z\" fill=\"none\"/>\n",
              "    <path d=\"M18.56 5.44l.94 2.06.94-2.06 2.06-.94-2.06-.94-.94-2.06-.94 2.06-2.06.94zm-11 1L8.5 8.5l.94-2.06 2.06-.94-2.06-.94L8.5 2.5l-.94 2.06-2.06.94zm10 10l.94 2.06.94-2.06 2.06-.94-2.06-.94-.94-2.06-.94 2.06-2.06.94z\"/><path d=\"M17.41 7.96l-1.37-1.37c-.4-.4-.92-.59-1.43-.59-.52 0-1.04.2-1.43.59L10.3 9.45l-7.72 7.72c-.78.78-.78 2.05 0 2.83L4 21.41c.39.39.9.59 1.41.59.51 0 1.02-.2 1.41-.59l7.78-7.78 2.81-2.81c.8-.78.8-2.07 0-2.86zM5.41 20L4 18.59l7.72-7.72 1.47 1.35L5.41 20z\"/>\n",
              "  </svg>\n",
              "      </button>\n",
              "      \n",
              "  <style>\n",
              "    .colab-df-container {\n",
              "      display:flex;\n",
              "      flex-wrap:wrap;\n",
              "      gap: 12px;\n",
              "    }\n",
              "\n",
              "    .colab-df-convert {\n",
              "      background-color: #E8F0FE;\n",
              "      border: none;\n",
              "      border-radius: 50%;\n",
              "      cursor: pointer;\n",
              "      display: none;\n",
              "      fill: #1967D2;\n",
              "      height: 32px;\n",
              "      padding: 0 0 0 0;\n",
              "      width: 32px;\n",
              "    }\n",
              "\n",
              "    .colab-df-convert:hover {\n",
              "      background-color: #E2EBFA;\n",
              "      box-shadow: 0px 1px 2px rgba(60, 64, 67, 0.3), 0px 1px 3px 1px rgba(60, 64, 67, 0.15);\n",
              "      fill: #174EA6;\n",
              "    }\n",
              "\n",
              "    [theme=dark] .colab-df-convert {\n",
              "      background-color: #3B4455;\n",
              "      fill: #D2E3FC;\n",
              "    }\n",
              "\n",
              "    [theme=dark] .colab-df-convert:hover {\n",
              "      background-color: #434B5C;\n",
              "      box-shadow: 0px 1px 3px 1px rgba(0, 0, 0, 0.15);\n",
              "      filter: drop-shadow(0px 1px 2px rgba(0, 0, 0, 0.3));\n",
              "      fill: #FFFFFF;\n",
              "    }\n",
              "  </style>\n",
              "\n",
              "      <script>\n",
              "        const buttonEl =\n",
              "          document.querySelector('#df-8e2f0592-7c50-4b88-b082-70a021f83c85 button.colab-df-convert');\n",
              "        buttonEl.style.display =\n",
              "          google.colab.kernel.accessAllowed ? 'block' : 'none';\n",
              "\n",
              "        async function convertToInteractive(key) {\n",
              "          const element = document.querySelector('#df-8e2f0592-7c50-4b88-b082-70a021f83c85');\n",
              "          const dataTable =\n",
              "            await google.colab.kernel.invokeFunction('convertToInteractive',\n",
              "                                                     [key], {});\n",
              "          if (!dataTable) return;\n",
              "\n",
              "          const docLinkHtml = 'Like what you see? Visit the ' +\n",
              "            '<a target=\"_blank\" href=https://colab.research.google.com/notebooks/data_table.ipynb>data table notebook</a>'\n",
              "            + ' to learn more about interactive tables.';\n",
              "          element.innerHTML = '';\n",
              "          dataTable['output_type'] = 'display_data';\n",
              "          await google.colab.output.renderOutput(dataTable, element);\n",
              "          const docLink = document.createElement('div');\n",
              "          docLink.innerHTML = docLinkHtml;\n",
              "          element.appendChild(docLink);\n",
              "        }\n",
              "      </script>\n",
              "    </div>\n",
              "  </div>\n",
              "  "
            ]
          },
          "metadata": {},
          "execution_count": 48
        }
      ]
    },
    {
      "cell_type": "code",
      "source": [
        "#Data needs to be preproccessed since it has too many character and other patters that can affect the model"
      ],
      "metadata": {
        "id": "BFB5W7e4QX4y"
      },
      "execution_count": null,
      "outputs": []
    },
    {
      "cell_type": "code",
      "source": [
        "text2=list(tweet['text'])"
      ],
      "metadata": {
        "id": "taYIRhgYRBE_"
      },
      "execution_count": 51,
      "outputs": []
    },
    {
      "cell_type": "code",
      "source": [
        "text2"
      ],
      "metadata": {
        "colab": {
          "base_uri": "https://localhost:8080/"
        },
        "id": "L41qmrJcRdRu",
        "outputId": "3fd66021-aa26-4985-fce0-e43c44c07213"
      },
      "execution_count": 52,
      "outputs": [
        {
          "output_type": "execute_result",
          "data": {
            "text/plain": [
              "[\"@switchfoot http://twitpic.com/2y1zl - Awww, that's a bummer.  You shoulda got David Carr of Third Day to do it. ;D\",\n",
              " \"is upset that he can't update his Facebook by texting it... and might cry as a result  School today also. Blah!\",\n",
              " '@Kenichan I dived many times for the ball. Managed to save 50%  The rest go out of bounds',\n",
              " 'my whole body feels itchy and like its on fire ',\n",
              " \"@nationwideclass no, it's not behaving at all. i'm mad. why am i here? because I can't see you all over there. \",\n",
              " '@Kwesidei not the whole crew ',\n",
              " 'Need a hug ',\n",
              " \"@LOLTrish hey  long time no see! Yes.. Rains a bit ,only a bit  LOL , I'm fine thanks , how's you ?\",\n",
              " \"@Tatiana_K nope they didn't have it \",\n",
              " '@twittera que me muera ? ',\n",
              " \"spring break in plain city... it's snowing \",\n",
              " 'I just re-pierced my ears ',\n",
              " \"@caregiving I couldn't bear to watch it.  And I thought the UA loss was embarrassing . . . . .\",\n",
              " '@octolinz16 It it counts, idk why I did either. you never talk to me anymore ',\n",
              " \"@smarrison i would've been the first, but i didn't have a gun.    not really though, zac snyder's just a doucheclown.\",\n",
              " '@iamjazzyfizzle I wish I got to watch it with you!! I miss you and @iamlilnicki  how was the premiere?!',\n",
              " \"Hollis' death scene will hurt me severely to watch on film  wry is directors cut not out now?\",\n",
              " 'about to file taxes ',\n",
              " '@LettyA ahh ive always wanted to see rent  love the soundtrack!!',\n",
              " '@FakerPattyPattz Oh dear. Were you drinking out of the forgotten table drinks? ',\n",
              " \"@alydesigns i was out most of the day so didn't get much done \",\n",
              " \"one of my friend called me, and asked to meet with her at Mid Valley today...but i've no time *sigh* \",\n",
              " '@angry_barista I baked you a cake but I ated it ',\n",
              " 'this week is not going as i had hoped ',\n",
              " 'blagh class at 8 tomorrow ',\n",
              " 'I hate when I have to call and wake people up ',\n",
              " 'Just going to cry myself to sleep after watching Marley and Me.  ',\n",
              " 'im sad now  Miss.Lilly',\n",
              " \"ooooh.... LOL  that leslie.... and ok I won't do it again so leslie won't  get mad again \",\n",
              " 'Meh... Almost Lover is the exception... this track gets me depressed every time. ',\n",
              " 'some1 hacked my account on aim  now i have to make a new one',\n",
              " '@alielayus I want to go to promote GEAR AND GROOVE but unfornately no ride there  I may b going to the one in Anaheim in May though',\n",
              " 'thought sleeping in was an option tomorrow but realizing that it now is not. evaluations in the morning and work in the afternoon! ',\n",
              " '@julieebaby awe i love you too!!!! 1 am here  i miss you',\n",
              " '@HumpNinja I cry my asian eyes to sleep at night ',\n",
              " \"ok I'm sick and spent an hour sitting in the shower cause I was too sick to stand and held back the puke like a champ. BED now \",\n",
              " '@cocomix04 ill tell ya the story later  not a good day and ill be workin for like three more hours...',\n",
              " '@MissXu sorry! bed time came here (GMT+1)   http://is.gd/fNge',\n",
              " \"@fleurylis I don't either. Its depressing. I don't think I even want to know about the kids in suitcases. \",\n",
              " \"Bed. Class 8-12. Work 12-3. Gym 3-5 or 6. Then class 6-10. Another day that's gonna fly by. I miss my girlfriend \",\n",
              " \"really don't feel like getting up today... but got to study to for tomorrows practical exam... \",\n",
              " \"He's the reason for the teardrops on my guitar the only one who has enough of me to break my heart \",\n",
              " \"Sad, sad, sad. I don't know why but I hate this feeling  I wanna sleep and I still can't!\",\n",
              " '@JonathanRKnight Awww I soo wish I was there to see you finally comfortable! Im sad that I missed it ',\n",
              " \"Falling asleep. Just heard about that Tracy girl's body being found. How sad  My heart breaks for that family.\",\n",
              " \"@Viennah Yay! I'm happy for you with your job! But that also means less time for me and you... \",\n",
              " 'Just checked my user timeline on my blackberry, it looks like the twanking is still happening  Are ppl still having probs w/ BGs and UIDs?',\n",
              " \"Oh man...was ironing @jeancjumbe's fave top to wear to a meeting. Burnt it \",\n",
              " 'is strangely sad about LiLo and SamRo breaking up. ',\n",
              " \"@tea oh! i'm so sorry  i didn't think about that before retweeting.\",\n",
              " \"Broadband plan 'a massive broken promise' http://tinyurl.com/dcuc33 via www.diigo.com/~tautao Still waiting for broadband we are \",\n",
              " \"@localtweeps Wow, tons of replies from you, may have to unfollow so I can see my friends' tweets, you're scrolling the feed a lot. \",\n",
              " 'our duck and chicken are taking wayyy too long to hatch ',\n",
              " 'Put vacation photos online a few yrs ago. PC crashed, and now I forget the name of the site. ',\n",
              " 'I need a hug ',\n",
              " '@andywana Not sure what they are, only that they are PoS! As much as I want to, I dont think can trade away company assets sorry andy! ',\n",
              " '@oanhLove I hate when that happens... ',\n",
              " \"I have a sad feeling that Dallas is not going to show up  I gotta say though, you'd think more shows would use music from the game. mmm\",\n",
              " 'Ugh....92 degrees tomorrow ',\n",
              " 'Where did u move to?  I thought u were already in sd. ?? Hmmm. Random u found me. Glad to hear yer doing well.',\n",
              " \"@BatManYNG I miss my ps3, it's out of commission  Wutcha playing? Have you copped 'Blood On The Sand'?\",\n",
              " 'just leaving the parking lot of work! ',\n",
              " 'The Life is cool. But not for Me. ',\n",
              " \"Sadly though, I've never gotten to experience the post coitus cigarette before, and now I never will. \",\n",
              " 'I had such a nice day. Too bad the rain comes in tomorrow at 5am ',\n",
              " \"@Starrbby too bad I won't be around I lost my job and can't even pay my phone bill lmao aw shucks \",\n",
              " 'Damm back to school tomorrow ',\n",
              " \"Mo jobs, no money.  how in the hell is min wage here 4 f'n clams an hour?\",\n",
              " '@katortiz  Not forever... See you soon!',\n",
              " '@Lt_Algonquin agreed, I saw the failwhale allllll day today. ',\n",
              " \"@jdarter Oh! Haha... dude I dont really look at em unless someone says HEY I ADDED YOU. Sorry  I'm so terrible at that. I need a pop up!\",\n",
              " \"@ninjen I'm sure you're right...    I need to start working out with you and the Nikster... Or Jared at least!\",\n",
              " 'i really hate how people diss my bands!  Trace is clearly NOT ugly!',\n",
              " 'Gym attire today was: Puma singlet, Adidas shorts.......and black business socks and leather shoes  Lucky did not run into any cute girls.',\n",
              " \"Why won't you show my location?!   http://twitpic.com/2y2es\",\n",
              " 'No picnic  my phone smells like citrus.',\n",
              " \"@ashleyac My donkey is sensitive about such comments. Nevertheless, he'd (and me'd) be glad to see your mug asap. Charger is still awol. \",\n",
              " 'No new csi tonight.  FML',\n",
              " 'i think my arms are sore from tennis ',\n",
              " 'wonders why someone that u like so much can make you so unhappy in a split seccond . depressed . ',\n",
              " 'sleep soon... i just hate saying bye and see you tomorrow for the night. ',\n",
              " '@statravelAU just got ur newsletter, those fares really are unbelievable, shame I already booked and paid for mine ',\n",
              " \"missin' the boo \",\n",
              " '@markhardy1974 Me too  #itm',\n",
              " \"Damn... I don't have any chalk! MY CHALKBOARD IS USELESS \",\n",
              " \"had a blast at the Getty Villa, but hates that she's had a sore throat all day. It's just getting worse too \",\n",
              " '@msdrama hey missed ya at the meeting  sup mama',\n",
              " \"My tummy hurts.  I wonder if the hypnosis has anything to do with it? If so, it's working, I get it, STOP SMOKING!!!\",\n",
              " 'why is it always the fat ones?! ',\n",
              " \"@januarycrimson Sorry, babe!!  My fam annoys me too. Thankfully, they're asleep right now. Muahaha. *evil laugh*\",\n",
              " '@Hollywoodheat I should have paid more attention when we covered photoshop in my webpage design class in undergrad ',\n",
              " \"wednesday my b-day! don't know what 2 do!! \",\n",
              " 'Poor cameron (the hills) ',\n",
              " 'pray for me please, the ex is threatening to start sh** at my/our babies 1st Birthday party. what a jerk. and I still have a headache ',\n",
              " '@makeherfamous hmm  , do u really enjoy being with him ? if the problems are too constants u should think things more , find someone ulike',\n",
              " 'Strider is a sick little puppy  http://apps.facebook.com/dogbook/profile/view/5248435',\n",
              " \"so rylee,grace...wana go steve's party or not?? SADLY SINCE ITS EASTER I WNT B ABLE 2 DO MUCH  BUT OHH WELL.....\",\n",
              " \"hey, I actually won one of my bracket pools! Too bad it wasn't the one for money \",\n",
              " \"@stark YOU don't follow me, either  and i work for you!\",\n",
              " 'A bad nite for the favorite teams: Astros and Spartans lose.  The nite out with T.W. was good.',\n",
              " ' Body Of Missing Northern Calif. Girl Found: Police have found the remains of a missing Northern California girl .. http://tr.im/imji',\n",
              " '@mangaaa I hope they will increase the capacity fast, yesterday was such a pain. Got the fail whale +15 times in 2 hours.... ',\n",
              " 'Behind on my classes for work ',\n",
              " 'watching &quot;House&quot; ',\n",
              " '@kpreyes Remember my bum leg? Strikes back this time its serious ',\n",
              " '@paradisej cool, i will. their are all kinds of complaints about this laptop online about overheating, but no recalls ',\n",
              " 'Emily will be glad when Mommy is done training at her new job. She misses her.  http://apps.facebook.com/dogbook/profile/view/6176014',\n",
              " 'would rather the first party send bad messages than the 3rd party send mixed ones  Sophmore year all over again?',\n",
              " \"@Henkuyinepu it's overrated \",\n",
              " '@marykatherine_q i know! I heard it this afternoon and wondered the same thing. Moscow is so behind the times ',\n",
              " 'laying in bed with no voice.. ',\n",
              " \"I'm sooo sad!!! they killed off Kutner on House  whyyyyyyyy\",\n",
              " '@jacobsummers Sorry  tell them mea culpa from me and that I really am sorry.',\n",
              " \"@Alliana07 it didn't make any sense to me, the suicide thing. I refuse to believe that that is actually what happened. \",\n",
              " '@salancaster  hope your ok.',\n",
              " \"@mercedesashley Damn! The grind is inspirational and saddening at the same time.  Don't want you to stop cuz I like what u do! Much love\",\n",
              " '@HibaNick yeah aw but i know i wudnt stand a chance ',\n",
              " 'ugh. cant sleep. its 1:30am. ',\n",
              " \"Hanging in Crooners. Wanna sing. Can't. Sucks. \",\n",
              " '@eRRe_sC aaw i miss ya all too.. im leaving to BH tomorrow &quot;morning&quot; i think.. aww i wanna go to the beach w u girls!! ',\n",
              " \"Is pissed off that there's no ASBA's for a radio station. \",\n",
              " \"wednesday my b-day n don't know what 2 do!  \",\n",
              " 'I know my life has been flipped upside down when I just thought in my head that some Ramen sounds good. ',\n",
              " 'I am in pain. My back and sides hurt. Not to mention crying is made of fail. ',\n",
              " \"Late night snack, glass of OJ b/c I'm &quot;down with the sickness&quot;, then back to sleep...ugh I hate getting sick... \",\n",
              " \"@allyheman but.. but.. but.. I'm not a big fan on camilla belle \",\n",
              " \"@grum WAH I can't see clip, must be el-stupido work filters. Can't wait 'till I get a 'puter. Something else 2 blame ex 4. He broke mine \",\n",
              " \"This week just seems to get longer and longer in terms of how much I need to do.. and how much I'm actually going to get done \",\n",
              " \"I'm so cold \",\n",
              " \"@thecoolestout Ehhh don't. Weather's gonna take a turn for the ugly tomorrow \",\n",
              " '@chelserlynn haha its so cooooold in the d! and no  but you should still go to the show. they do some incredible stuff',\n",
              " 'Hoping the tummy rumbles go away soon ',\n",
              " \"@Knights_ No, no notice. They told me I'd be working tomorrow, and then I called the agency to follow up and they said it was over. \",\n",
              " 'almost bedtime ',\n",
              " \"I'm missing you babe..  but as long as your alive I'm happy.. Yawwwnn.. I'm tired my love imma try to sleep hopefully you had a headstart\",\n",
              " 'Agh...snow!!! ',\n",
              " 'i miss kenny powers ',\n",
              " \"@BridgetsBeaches Thank you for letting people know, but now I'm sad that the direct message I got wasn't actually from Bridget \",\n",
              " '...and, India missed out its 100th Test victory n 10th consecutive win without a loss. ',\n",
              " \"@JonathanRKnight I guess that's a no then. \",\n",
              " 'sadly is going to bed. ',\n",
              " '@ozesteph1992 Shame to hear this Stephan ',\n",
              " \"@mrsaintnick hey! i'm leavin in the morning... \",\n",
              " 'Was intending to finish editing my 536-page novel manuscript tonight, but that will probably not happen. And only 12 pages are left ',\n",
              " 'laid around too much today... now my head hurts ',\n",
              " \"@twista202 I still haven't read the 9th&amp;10th Princess diaries  Saving Francesca made me cry at the end. Hmm those are easy books.\",\n",
              " 'my nokia 1110 died..  ',\n",
              " \"My mom might have breast cancer won't find out anything for. Like a week I'm so worried! \",\n",
              " 'Going to sleep. Hoping tomorrow is a better day. ',\n",
              " '@rumblepurr lol.. wish they understood daylight savings has ended though and breakfast is an hour later  They keep waking the kids up too',\n",
              " '@onemoreproject that is lame ',\n",
              " \"I don't understand... I really don't \",\n",
              " \"HEROES just isn't doing it for me this season... \",\n",
              " \"Living not downtown sure isn't much fun.  \",\n",
              " '@jonathanchard Not calorie wise   I wish junk food was calorie free! I ate a thing of sour skittles and a big ass cherry coke!',\n",
              " 'Man Work is Hard ',\n",
              " 'getting sick  time for some hot tea, studying, and then sleeeep',\n",
              " 'Getting eyebrows waxed. More pain ',\n",
              " 'No phantasy star yesterday  going to work...',\n",
              " \"Oh - Just got all my MacHeist 3.0 apps - sweet. Didn't get the Espresso serial no though although they said they sent it - oh well \",\n",
              " \"Picked Mich St to win it all from the get go.  Was feeling pretty good about that pick all the way up until......tonight.  A's lost too \",\n",
              " 'is alone downstairs...working ',\n",
              " 'I feel bad for doing it ',\n",
              " \"@RyanSeacrest is it just me, or she hates anoop. i mean seriously, she's kinda mean to him. \",\n",
              " '@pinkserendipity yes sprint has 4g only in baltimore and chicago so far ',\n",
              " \"I'm stuck awake in the middle of the night for the second day in a row. And I felt terrible yesterday. \",\n",
              " 'Thanks for bursting my bubble ',\n",
              " \"Going to school soon... can't find anything to wear!! gosh it's so hard \",\n",
              " '@marieclr I was serious  LOL',\n",
              " '@naughtyhaughty I had on my page for sooooo long!!! Until it got deleted  Sad day in history',\n",
              " 'Crazy wind today = no birding  http://ff.im/1XTTi',\n",
              " 'currently at work.. ',\n",
              " \"Grrr.. my ipods acting weird too! Jai ho and thinking of you aren't playing the full songs.. ughh. \",\n",
              " '@penndbad send me the DVD cos I have missed out on heaps  NOT happy about that!',\n",
              " \"i don't see the big deal with this website \",\n",
              " \"@machineplay I'm so sorry you're having to go through this. Again.  #therapyfail\",\n",
              " '@ColinDeMar Far too out of the way for rail.  any other tips?',\n",
              " \"I'm not still up I swear. Why do I keep losing. gaining. losing. gaining. tweeps?  So heart wrenching.\",\n",
              " \"Today I realized I am too good at hiding things, even I can't find it \",\n",
              " 'Staying at a friends house...house sitting, neighbors are SO loud-having a party ',\n",
              " '@dannyvegasbaby danny im upset that i wasnt here to watch the live chat  i was in a car. for 3 hours on a trip im soooo upset!!',\n",
              " 'Check out my mug  http://www.erika-obscura.blogspot.com',\n",
              " 'Borders closed at 10 ',\n",
              " \"Downloading NIN's new album &quot;the slip&quot; - when the hell did this come out? I'm so behind the times these days \",\n",
              " \"Just woke up an already have written some e-mail... I've to go early at University today as I have to teach at 8:30 AM! \",\n",
              " 'is watching the hill . . .and its making me sad ',\n",
              " 'So many channels.... yet so so boring... lazy day again  may have to find a hobby',\n",
              " '@supersport I miss my buddy  ill be in NY on the 25th',\n",
              " \"@robluketic  love the french. I tell people here in the south i'm qtr. french and they snarl at me.  french are beautiful people\",\n",
              " 'Opps.. As I said.. I still got one day remain and now problem come ',\n",
              " \"I activated my Selfcontrol block early, meaning I can't check out the new QC.  Regularizing my internal clock is might be difficult. #fb\",\n",
              " '@HillyDoP  oH NO',\n",
              " 'spencer is not a good guy. ',\n",
              " '@goodlaura What about Reese dying on #TTSC? And season finale next week.  #24 boring, Madame President is a crazy woman.',\n",
              " '@JonathanRKnight I hate the limited letters,too.Hope you and the guys are fine?I pray for my dog,sheï¿½s not well ',\n",
              " \"didn't get shit done today ~ i'm so screwed \",\n",
              " 'wanttss to go out ',\n",
              " 'Is not going to sleep tonite. ',\n",
              " 'too worried and tired to post tonight ',\n",
              " \"couldn't get shit done today ~ i'm so screwed \",\n",
              " 'Job Interview in Cardiff today, wish me luck! Got about 3 hours sleep ',\n",
              " \"@stustone Your show is whack. Way worse than whack, it's wiggety-whack.    :*(:*(:*(\",\n",
              " \"@DjAlizay I really don't think people choose to be that way. But I think he chose not to accept my family's help   He might be dead by now\",\n",
              " \"@eloquentembrace You're going to kill me, but I've not seen DS9. I've been waiting till I can do it in one solid week sitting. \",\n",
              " '@cheechbud i think ur right!! hahaha!! 4.5 hrs now!! ',\n",
              " 'i hate to see the spartans so sad ',\n",
              " 'My mind and body are severely protesting this &quot;getting up&quot;  thing. Had nightmares to boot ',\n",
              " \"@MySteezRadio I'm goin' to follow u, since u didn't  LOL  GO ANGELS!\",\n",
              " '@mandayyy ',\n",
              " \"@twista202 I think I want to read some books but the library doesn't have them \",\n",
              " \"My nap was interrupted so many times today  Going out for Japanese with the 'rents again...\",\n",
              " 'Kind of longs for the bus that shows up at the end of Ghost World right now. Ugh. ',\n",
              " \"@GuruMN but this is canada  canada is weird. we're supposed to get snow through wednesday. ugh.\",\n",
              " \"Awwh babs... you look so sad underneith that shop entrance of &quot;Yesterday's Musik&quot;  O-: I like the look of the new transformer movie \",\n",
              " \"sad that the 'feet' of my macbook just fell off \",\n",
              " \"I'm gonna get up late tomorrow and it's 132am here. I gonna get tipsy by my lonesome. That's...that's just sad \",\n",
              " \"I'm sweating my forthcoming trip to E3.  If I can't find someone to crash with while I'm out there, I may be screwed.  \",\n",
              " 'Has now gotten somebody to read his tweets, but cant get them to make an account. ',\n",
              " '@infinitydefines  omgawd i couldnt handle my cat being in heat all the time D: D:',\n",
              " '@DonnieWahlberg I hope i can make it to the auburn show. but its not looking good for me ',\n",
              " '@David_Henrie *thats people mag haha i couldnt fit it all in.. i dont think those pictures ever made it in the magazine tho!  haha',\n",
              " '@breadandbadger Congrats!!  i totally forgot to submit photos ',\n",
              " \"@PaulaAbdul awww, Good luck Paula!! Please don't work too hard  but I hope you have fun  Your new album is gonna be amazing!  xxx\",\n",
              " '@imaginarypeach now your leaving me  .... -gets sad-',\n",
              " \"I miss you twitter. My phone broke, now I'm using a stupid Nokia phone. Ughhh, I miss my advance phone. \",\n",
              " 'SHOOTING OUTSIDE MY HOUSE :O NOT KIDDING! So SCARED ',\n",
              " 'Tuesdayï¿½ll start with reflection ï¿½n then a lecture in Stress reducing techniques. That sure might become very useful for us accompaniers ',\n",
              " 'What tragedy and disaster in the news this week ',\n",
              " 'yes yes still trying to find a picture that will upload correclty.. ',\n",
              " 'Why oh why was the Red Sox game rained out? I was so looking forward to opening day ',\n",
              " \"I still can't find my keys. \",\n",
              " '@charlietm I know right. I dunno what is going on with twitter. ',\n",
              " 'might be getting a sore throat again ',\n",
              " '@labelsnotlove   my home town. My mammy called all depressd.  Pls explain y a parent let their 8yr old child walk alone? Hello? Its 2009!',\n",
              " '@ircmaxell - I think I need to find better anti-depressants.  I think this Paxil/Wellbutrin combo is losing its efficacy.  ',\n",
              " '@MyConnecticut Restaurant called WoodNTap has competitive eating tourney round tourney time. We place 2nd ',\n",
              " 'is in the bathroom... wake up lakin. ',\n",
              " '@CaitlinOConnor i want tacos and margarhitas  telll gay i say hello&lt;3',\n",
              " 'im lonely  keep me company! 22 female, california',\n",
              " 'bad day at the betfair office ',\n",
              " \"I miss him.  Can't wait to celebrate the Tar Heel win this weekend though!!\",\n",
              " \"I'm really cold. I don't want to go to sleep yet but there's nothing to do \",\n",
              " \"@kristencampisi is this it 4 u? Its ' officially over ' 4 me this go round! \",\n",
              " \"monkeys??? i just found out you my twin and you wont even write back.  i'm heartbroken\",\n",
              " '@miss_om Aww  I know I felt like that yesterday at work ',\n",
              " \"@SarahReedSC treaty isn't defined \",\n",
              " 'missed Brent at praise band.   No fun to not have the your lead guitarist.  &lt;pout&gt;',\n",
              " '@jpfurry poor john  this is what happens when you play with fruit and a microwave! Seriously though HAVE you seen a doctor?? Xxx',\n",
              " 'Missing My BFF  watching home and away it reminds me of her and me  we &lt;3 It. shout out to u courts',\n",
              " '@mandayyy   ',\n",
              " 'New video card is DOA. ',\n",
              " 'feeling lost, naked and confused (JK, sort of).....no iphone for me. ',\n",
              " 'Damn i am so late at filling this appraisal form, people have almost sent it .. i was so occupied in work ',\n",
              " 'missed Brent at praise band.  No fun to not have your lead guitarist. &lt;pout&gt;',\n",
              " 'i think to much on the past. i cant change it. i deserved so much more then wat i got. ..but why am i still thinking about him  gah',\n",
              " \"has lost his ring. It's no-where to be seen \",\n",
              " '@burgaw Ooooooh! *sealclap* See, I download shitloads of zip folders off 4chan. I have no internet moneys.  FUCK YEAH ALICIA &amp; MIKEY.',\n",
              " 'Is still nursing my Nile but glad he is feeling better. I hate when my baby is sick ',\n",
              " 'Is fucked to go back to IC ',\n",
              " \"@Brandizzzle08 yoyoyo. my internet has been rude tonight. it JUST reconnected and I'm about to go to bed. \",\n",
              " \"@jemcam well i have uni stuff and netball  but after netbal if i've done uni stuff we can\",\n",
              " '@kissability Me too I is poor ',\n",
              " 'help me forget 8th april &amp; 13th july! ',\n",
              " \"dierks bentley is comin' to columbus, OH!! i wanna go so bad \",\n",
              " 'i have to take my sidekick back. ',\n",
              " \"@chriscantore congrats! I'm totally jealous! only wish my XM was working \",\n",
              " 'gr8t my face is very itchy ',\n",
              " 'poor socks  luvvvvv the golden retriever!! I want one sighhhh',\n",
              " 'I just saw that they found that Tracy girl in a piece of luggage... How fucking terrible ',\n",
              " 'Aaaaand the nausea is back. ',\n",
              " '@DonnieWahlberg ooh Iï¿½m excited and not even going 2 be there  long love YOUTUBE!',\n",
              " 'spent 1 hour to reach to Axis bank only to find out today is holiday for Mahavir Jayanti  contd..',\n",
              " '@mathewsmichael  i agree... the jobros dont update theres very often ',\n",
              " '@fishmouse it is hilarious and I linked the clip from LJ some time ago but when I went back just now it was a dead link ',\n",
              " '@DiannePulham OOOOOOOO who with? (im not neither but thats because i need to study  )',\n",
              " \"Haven't tweeted nearly all day  Posted my website tonight, hopefully that goes well  Night time!\",\n",
              " '@bostongarden I miss bentley ',\n",
              " 'seriously needs to finish these job applications ',\n",
              " 'My son Vincas is sick, so I stay at home  Just three tense days at work, and I am back on holiday with kids',\n",
              " \"Whinging. My client&amp;boss don't understand English well. Rewrote some text unreadable. It's written by v. good writer&amp;reviewed correctly. \",\n",
              " \"@huntermoore I don't want him to ever punch me.  \",\n",
              " 'sooo sick of the snow  ughh',\n",
              " '@ITS_NEMESIS ------- ',\n",
              " \"@LoveMeagan it doesn't work your fan is upset \",\n",
              " 'I would like to apologize for the repeated Video Games Live related tweets. I am going to have a stern discussion with Koodo soon. Stern. ',\n",
              " '@zaydia but i cant figure out how to get there / back / pay for a hotel etc ',\n",
              " 'FML: So much for seniority, bc of technological ineptness, I now have to &quot;register&quot; for classes AGAIN ',\n",
              " 'feels like she slept the day away.    Not looking forward to any more bouts with my gallbladder.  At least I have pills now for the pain.',\n",
              " '@ThaStevieG but what I really want is my old bass back ',\n",
              " 'Mad tired today... Callin it in early tonight  nighty night twittas',\n",
              " '@LevenRambin: Take it easy, and be good to you. ',\n",
              " \"I'm afraid I had bad code. \",\n",
              " \"Think I'm going to bed. Goodniight. I hate this \",\n",
              " \"@riancurtis  i'm here, friend, and i love you.\",\n",
              " \"@kariajay  All this time you didn't notice I was gone...just needed DB2 is it??\",\n",
              " '@aaronrva is in the bathroom and i have to pee!    ',\n",
              " '@ashleyskyy but I wanted a margarita too! ',\n",
              " '@KourtneyKardash yup night workouts r the worst but unfortunetly my work schedule only allows me to go at night  its tough!',\n",
              " \"Just called Hillsong again - they said they couldn't tell me where I was on the waiting list - I don't know if it's looking so good \",\n",
              " 'has 0g of milky bar left, and around 200ml of coke ',\n",
              " \"@jokerrrr It stillllll hasn't arrived \",\n",
              " 'Mraow, I feel like dancing, but first art school wants to rape me some more. ',\n",
              " \"@karenucol ah! I bet it does I've been like craving to play softball or basketball !!! But I have noo time \",\n",
              " 'Is terrified she accidentally deleted a reference in her management assignment and hopes she doesnt get in trouble when she gets back ',\n",
              " 'amazon s3 plugin not worked in my website . it need PHP 5 . but my hosting provider has only PHP 4.4  . very sad.',\n",
              " \"Argh! I was suuuper sleepy an hour ago, now I'm wide awake.  Hope I don't stay up all night. :-/\",\n",
              " '@austinhill I wish I was!  Sold out   If you have some time let me know, I would love to hear more about what you are up to!',\n",
              " 'Just watched tropic thunder. Dreading tomorrow ',\n",
              " \"@qweendassah no...he's still miss'n... \",\n",
              " 'ChiefDelphi is down ',\n",
              " 'http://twitpic.com/2y2wr - according to my bro, our new puppy had a poo fight and was covered in poop  (picture stolen from him)',\n",
              " \"playing game at home! my new boss didn't call me yet... \",\n",
              " 'Su yin Huen tweeted I feel unbearable guilt. I made my staff cry  http://tinyurl.com/cw2l9t',\n",
              " 'Poor Joshy is sick???   those damn tejanos!',\n",
              " \"My thoughts are with Sandra Cantu's family at this difficult and sad time \",\n",
              " '@FranzGlaus I know, just wanted to let everybody know what was happening  ',\n",
              " \"Michigan who?  I don't know them.                   *sigh*   Shameful!\",\n",
              " 'i have to fill two hours ',\n",
              " '@alicayaba so cuuute! hey, i miss you na!  its not the same not seeing you girls everyday ',\n",
              " '@JonathanRKnight Oh! Did I mention it? &quot;Gooooood Moooorniiiiiiing&quot;  from Germany! Im back in my cage....or better...my office ',\n",
              " 'throat is closing up and i had some string cheese. not a good idea ',\n",
              " 'Aww, Sandra Cantu is found dead in a suitcase  Missing children stories never seem to go good. Poor family.',\n",
              " 'wishing i was home underneath my covers ',\n",
              " 'walking home from school drains all my energy ',\n",
              " \"@ridley1013 I agree. The shapeshifting is a copout. I was so excited for Angela's ep, I thought it was this week.  Noah was awesome tho!\",\n",
              " '@SaveTheStrib Dang! I would have done this if I knew it was there earlier.  Any other outings planned?',\n",
              " \"I wish I was better at writing. It's taking me so long to write this paper. \",\n",
              " '..and of course... I have access to my Halo 3 Mythic Map Pack re-download.. but bad news.. not the Legendary Map Pack... ugh.. 600MS... ',\n",
              " \"@vene2ia ...not yet unfortunately, another few weeks I've been told  How are you? I've been a little bit busy with my latest project.\",\n",
              " \"@thecoolestout Ha the sun's already gone \",\n",
              " \"day 2. a lot harder than day 1. let's see how day 3 goes tomorrow. \",\n",
              " 'My man crush Jake Peavy let me down  #gayforpeavy',\n",
              " '@trishzw megafast trip, you have time during day tom/weds? Or, you going out tonight? Want to see you bad. Tried to warn you, tech fail ',\n",
              " 'michigan state you make me sad ',\n",
              " 'omg. my mouth is in so much pain  i just wanna sleep untill its time to take my braces off.',\n",
              " 'getting annoyed easily today  &gt;&gt;&gt; biofuel proposal: getting annoyed easily today  &gt;&gt;&gt; biof.. http://tinyurl.com/ceprvs',\n",
              " '@MizzChievouz Hey girl. The site is back.  Girlyvue is back and they have even more videos. ',\n",
              " \"@a5hleyf i'm spending time with my grandma early tomorrow and i can't leave skittles by herself. \",\n",
              " 'just got home from watching Michigan State get tromped!   ',\n",
              " \"Oh jew-bus! Two years worth of classes' work is ALOT to organize &gt;_&lt; i'm not finishing tonight, it's not possible...my bones ache \",\n",
              " \"@griffmiester no exchanging for me, my laptop hasn't arrived \",\n",
              " \"@hyperbets i hope this doesn't last too long.  i feel miserable!\",\n",
              " '@rcompo RACHEL! hang outage is neccessary - i was gonna be home this wekend but dumb folk make me work   so im free F and Sat until 4...',\n",
              " '@TheLeagueSF Not Fun &amp; Furious? The new mantra for the Bay 2 Breakers? It was getting 2 rambunctious;the city overreacted &amp; clamped down ',\n",
              " \"@amber_benson  my hubby (for some reason) thinks it's more important he has a good spot for red carpet for the Trek Movie Premiere. Sod!\",\n",
              " \"I swear no matter how long I've been getting up at 5am, it never gets any easier. Man my eyes hurts wah \",\n",
              " '@Jeffree_Star Jeffree! How do you keep your hair one color? My PERMANENT dye fades within the week ',\n",
              " \"@otakusecret my reaction too  whoa, didn't see that coming\",\n",
              " \"still sick. feeling a bit better, got some new medicine.... hope I feel good after a night of sleep. ohh, and it's suppose to snow! WTF! \",\n",
              " '@Dangerm0use I think maybe you should get a couple more hours of sleep, hon. How productive can you be right now if ur dog tired? I worry ',\n",
              " \"@maddyVA Thanks a lot. Learned a lot of new words but didn't find what I was looking for. \",\n",
              " \"Wish I had all the XBLM downloads all on the gamertag 'Hitokyri'. This 5 gamertag thing is nonsense... and I'm tired of it \",\n",
              " 'New Testament Test at 9:30 am   ',\n",
              " '@ScoutBuck tons no hay Troll? ahhhh ',\n",
              " 'stupid movies we watched... mirrors ugggggh... stooopeeed!!! rip off! ',\n",
              " 'http://twitpic.com/2y2yi - I love you, Buck. ',\n",
              " 'last one!!! but still not done!!! ',\n",
              " 'homework.... ',\n",
              " \"I don't understand why things get taken away. I didn't have enough time with him its unfair. I want him back!! He was like my baby \",\n",
              " \"Scratch that: du in heif (two in a half) cookies. My tum just can't take anymore shoog. Poots \",\n",
              " '@cococourtney i was just listening to the sweets for the first time in forever! i miss them so much  can we go to chi town for visits plz?',\n",
              " 'Geez what a busy afternoon. Meetings, emails, meetings and email and more meetings. 6pm and the day is still going! Ah its dark and ',\n",
              " 'DANG!!! ANOTHER SPRING BREAK!!!  HOW COOL IS THAT???  TOO BAD I HAVE TO WORK ALL WEEK  OH WELL, MORE MONEY FOR A PHONE.  ttyl EVERBODY!!!',\n",
              " '@Sara_Kate Im afraid too  ( ur reply about uni from ages ago',\n",
              " 'feeling down ',\n",
              " '@CarVin1 lol they are some emotional ass men!! Omg all this late night eating.. Both of us are broke ',\n",
              " '@nick_carter Aww Nick!! I like your hair longer, why did you cut it off?  Break. My. Heart.',\n",
              " ' wonder if Jon lost the net',\n",
              " \"Wow. The most depressing thing in the world is losing a video that you've created in a matter of seconds.  #FML\",\n",
              " '@nchokkan https://www.mycomicshop.com/search?TID=395031 But all says not in stock ',\n",
              " '@Poohpot lmao im sorry poohpot i ate it all! ',\n",
              " \"Any chance  Softbelly (for @MTUB) isn't loud? \",\n",
              " 'Time to move my posterior  and lose some fat. My articulation are creaking so no more running  but Iï¿½m drool for some swimming',\n",
              " 'listening to nathan cry.... ',\n",
              " \"today sucked. I'm gonna die without chris and callum!  wahhh!\",\n",
              " 'STOU site not update, no info about 2/2552 exam, and open course, I must wait for mail notices and doc. um... ',\n",
              " \"@ohsbrat30...I'm sorry. I'm feeling kinda yucky myself. 5am is going to come too quick \",\n",
              " 'is in love with scrappy and is missin him already ',\n",
              " \"wants to hear @seblefebvre 's song but myspace is messing with me \",\n",
              " 'Bad news was Dad has cancer and is dying   Good news new business started and  I am now a life coach practising holistic weight management',\n",
              " '@duchess_rebecca Man... intervention is soo sad ',\n",
              " \"HELP! I need a new boyfriend... I'm stuck in a rut \",\n",
              " \"I feel like a complete idiot. I'm the only one who doesn't get how this shit works  help me \",\n",
              " 'Saw an ad on Craigslist for a casting call for a female host on G4. I was totally psyched! But realized it was a hoax ',\n",
              " \"Pepperoni rolls in L.A.?: I called Valentino's - they said that they had sausage rolls but no pepperoni rolls  http://tinyurl.com/cec5ka\",\n",
              " \"@soillodge yes, it will be. it's only Monday \",\n",
              " 'i want the new GG episode already ',\n",
              " \"I miss watching Rocko's Modern Life. \",\n",
              " 'RIP Sandra....its so sad    how can someone do something like that??',\n",
              " 'Keeping my fingers crossed for my buddy    He is not feeling well.',\n",
              " \"Wait should I eat?? Or be skinny for vegas!! I'm hungry! \",\n",
              " \"@Marge_Inovera I tried tweetdeck once and I hated it with a passion. Or it hated me, I'm not sure... \",\n",
              " \"@benackerman BTW my iPhone is acting funny, dying quickly and freezing and BS.  I'm not admitting anything, just sayin \",\n",
              " 'Sitting here wondering why &quot;ED&quot; still has such a strong hold on me ',\n",
              " '@bananaface IM SORRY I GOT YOU SICK.  lol. going to bed too. NIGHT!',\n",
              " '@carolrainbow no Internet at home, have to drive into Ox to use Internet because of builders! ',\n",
              " '@Steve_Buscemi the weather in Canada is freezing ',\n",
              " \"twiggassssssss I been out of range all day  I'm back now and hopefully for good.\",\n",
              " '@danadearmond ',\n",
              " \"anyone who reads this pray for my Grandma. She's in pain \",\n",
              " \"#3 woke up and was having an accident - &quot;It's pushing, it's pushing!&quot; he was crying because he couldn't stop from wetting his pants.  \",\n",
              " 'Home from Franklin street, I almost jumped over a fire. Someone kicked it before I could.  Jenny lost her shoe.',\n",
              " '@johnnybeane hey! you just changed your default. ',\n",
              " 'Finally gave in and was bored enough to start this thing. I think the 140 is going to be a problem for me tho.  its like a myspace status.',\n",
              " '@ellievolia If oooonly we were really so lucky, eh? And awh  Definitely too early for work.',\n",
              " 'buttload of homework! ',\n",
              " 'needs another copy of visual studio 2008 ',\n",
              " \"why to we, the only school in the world, be in this week.My school is silly  anyway... look on the bright side. When i'm off, u will be in\",\n",
              " \"omg i've an economics test. and i dont know all the things i have to know and omg im gonna fail \",\n",
              " '@robcthegeek Once upon a time Hundred Islands was the pride of Philippine tourism, but coral/clam/rare fish poaching did it in. Kinda sad ',\n",
              " '@Henkuyinepu yeah, apparently i have really bad taste ',\n",
              " '@hummiemd I KNOW! I was really surprised since everyone recommends them on youtube.  I have to call them tomorrow and figure it all out.',\n",
              " 'Waiting at the airport for my ride while I get harassed by 2 men trying to sell me ugly hats.. Why me?!  I just want to sleep..',\n",
              " 'i left my IDs at the location and now i can not go out to bars  FUCKKKKKKKKKKKKK',\n",
              " \"@celycarmo i'm sorry I don't understand your last comment \",\n",
              " '@OfficialRandL when is the announcement? i stayed up late last night ',\n",
              " '@KishoreK this is strange, illegal torrents avlbl everywhere, legal DVD not in stock  What do I do now???',\n",
              " 'ITS NOT ENOUGH TO SAY THAT IMISS U ',\n",
              " 'This trolley has up packed in like sardines! Padre game and they REMOVE a car?! Good call MTS ',\n",
              " '@RandomlyNat Jeez, I was just trying to help  Haha.',\n",
              " '@SupaMagg that happened to me saturday night. along with my glittery green lighter! ',\n",
              " 'trying to reduce the number of cigarettes in each day! ',\n",
              " 'yea it is so quiet around here cuz everyone has to work im bored to death with nobody to talk to ',\n",
              " 'gotta do my cooking assignment  its too hard',\n",
              " \"@treesahquiche okay, about the applepears, I've talked to a few people and they've ALL had them before. No one ever told me, never \",\n",
              " \"@jennifermf I know!  I'm a night owl by nature, hahaha Am I a time zone behind you? It's almost 1 here\",\n",
              " '@mamasvan lol - nope! but i did have complete #camerafail ',\n",
              " \"@maxime68 @megelder But! I'm useless if I don't sleep  It's not fair! I want all the fun as well!!!\",\n",
              " 'My Pookie has a UTI.  I have to be Nurse Gabbie and get him back to 100%!!! No more sodas!!!!!!!!!!!!!!',\n",
              " '@jillianfish tweet something damn it!  and hang out with me please? ',\n",
              " '@anistorm ',\n",
              " \"I'm SO behind in video games, and everything for that matter. I'm yesterday's news \",\n",
              " '@sleep_til_noon I did, it was the only one left but I got tempted and ate it soon as I got home  I had a chocolate velvet &amp; ate d mocha',\n",
              " 'Is stressing out because my blackberry keeps flashing a red alert status for no reason!! Its faking me out and I hate it!!! ',\n",
              " \"http://twitpic.com/2y34e - I wanna wear my Doc Martens out! Haven't worn them since December. \",\n",
              " 'When to the shoe repair shop and the guy could not find my shoes!  So I have to go back and see if he can find them in a couple days. ',\n",
              " '@B_Barnett I did not really see that coming ',\n",
              " 'just woke up from the most vivid, sketchy, not-cool dreams of my life. time to stare at the wall with the lights on. ',\n",
              " \"it'll take 3 days for my sister to get her passport \",\n",
              " '@nicolerichie OH MY YES!! i miss ',\n",
              " 'Uh oh... I think I am getting sick ',\n",
              " 'Good GOD they ruined my belly button!!!  ',\n",
              " 'Watching Who Framed Roger Rabbit. Makes me miss Toon Town. ',\n",
              " '@akianz renting.. but very cheap renting, and awesome house. We had 3 buying attempts fall through ',\n",
              " 'running nose + spinning head = not a good combination for a meeting! ',\n",
              " '@EazyDoesIt87 NEGATIVE.. you lost my vote of confidence ',\n",
              " 'Nasty budget due and my iphone is being sent to Apple today. ',\n",
              " '@Sofii_Noel thatï¿½s bad ',\n",
              " \"Dammit, episode 3 of Kings won't play for some reason  stopped in the middle now won't do anything\",\n",
              " \"I'm so upset that I missed my chat and quiz online because my free internet has ceased \",\n",
              " \"can't believe it! I'm in disbelief of it all in a way really. How much can I take from people and always get hurt by others!! \",\n",
              " 'Car show season has started without me ',\n",
              " 'my throat is raw. ',\n",
              " \"@KevChoice I just don't get it. What in a persons mind could even have them on some ish like this???  My prayers are with her fam for real\",\n",
              " \"@frago I hate you. I didn't need to see that. I need to call my therapist now. \",\n",
              " \"Twilight didn't come yesterday  fingers crossed for today\",\n",
              " '@NileLegania glad I was able help you feel better. I hate to see you sick  Love you!',\n",
              " 'is tireddddddd. want to sleep but i have an assignment to finish and an exam tomorrow to study for ',\n",
              " 'You know, I was thinking... I need money ',\n",
              " 'omg..its jst teusday ',\n",
              " '@ddlovato @David_Henrie ummmmm i cant find it. ',\n",
              " 'Just heard that they found Sandra Cantu... She was only 8 yrs old ',\n",
              " '@corrosivecandy Ive forgotten how to snoo-snoo  I wonder if snoo-snoo and I will ever meet again...',\n",
              " '@AmaNorris wow that last tweet made me seem like a giant sexist...sorry about that ',\n",
              " 'My bathtub drain is fired: it haz 1 job 2 do, &amp; it iz FAIL. I got all Drano on its ass, &amp; iz STILL NOT DRAINING. I wanna shower, dangit!! ',\n",
              " 'stuck at home ',\n",
              " '@nomadicmatt mine is 1/10  how do you get it up?',\n",
              " \"Duckling in famous children's book stolen from Boston's Public Garden - The Boston Globe http://tinyurl.com/dc2htx via @ShareThis OH NO!! \",\n",
              " '@Appomattox_News Thank you! However, I hate to be on the same list that includes 2 convicts.  ',\n",
              " 'Heading to Altrincham, again! Out of hours install ',\n",
              " 'MORNING!!! Good im bloody knackered!!! Work is not for me today  HELPPP!!!! xxx',\n",
              " \"@jeffreecuntstar  I don't have a garage.  But you can park in my driveway!\",\n",
              " '@lauredhel  What happened?',\n",
              " \"&quot;On popular music&quot; by T.W.Adorno is probably the most difficult reading ever prescribed, I'm actually struggling to continue \",\n",
              " 'http://twitpic.com/2y36e - cant see the flowers falling  i dont have a camera, just my cellphone',\n",
              " \"We've been good. I'm not liking the snow right now, was getting used to the nice Spring-like weather.  How about you?\",\n",
              " \"@brian_armstrong What a pity YouTube is currently blocked in China.  I can't see the vids. \",\n",
              " '@margaretcho what happened to your show it was the hightlight of my life ',\n",
              " \"This is the best leather sofa in the world!  It's in the office though which means I'm still here working \",\n",
              " 'Still 3 more days until my Internet gets uncapped ',\n",
              " \"If he doesn't get better in a few days, he could have something lodged in his belly \",\n",
              " 'i Love my atekinzz so much. &amp;&amp; i soo miss her.. ',\n",
              " 'I wanna sneak into the zoo and play with the kitties ',\n",
              " \"@lolitariot oh no  hope you're not getting sick too!\",\n",
              " '@alejandralei i dont think i can cause its my cousins birthday party ',\n",
              " 'Our sweet little man just fell asleep while waiting up for daddy and big brother to get home!  Poor baby, he missed them so much today!',\n",
              " 'the angel is going to miss the athlete this weekend ',\n",
              " 'trust is hard ',\n",
              " 'have watched that considering today. yaknow. shawnna tomomorrow;i need my bestfriend ',\n",
              " 'Grr i want to keep reading but if i do i wont have anything left to read ',\n",
              " 'atekinzz, where in the world are you?? ',\n",
              " '@RumLover No! u supposed to be my date ',\n",
              " \"pears &amp; Brie, bottle of Cabernet, and &quot;Win a Date With Tad Hamilton&quot;... oh gawwd my life flashed forward to when I'm 40 with my 75 cats \",\n",
              " 'Crap. I need more dresses too. ',\n",
              " '@kaeeeep yeah! i know! it was horrible!!!! ugh. saddening. ',\n",
              " '@Brodhe geez ur no fun are you ',\n",
              " 'I wanna be in a punk rock band again ',\n",
              " \"@jyesmith That's a lot of angst for a Tuesday afternoon \",\n",
              " \"I'm very glad Britney isn't crazy anymore! That was one hell of a show! Now I'm sad that it's over.  Next up...AP at Cook County!\",\n",
              " 'has a huuuge headache! omg I feel like crap! ',\n",
              " '@Anistorm Sorry ',\n",
              " '@cleders sorry...i was rooting for them too... ',\n",
              " 'Man, that took forever. ',\n",
              " '@shandasaurus  I see.',\n",
              " 'I am listing more items on ebay to sell!  Takes forever..meanwhile Coleman is watching The Hills season premier without me.. ',\n",
              " \"Just got my presentation done, 23 slides done...  I'm crying for this week will be the hardest of all weeks.\",\n",
              " 'Just lost $160 ',\n",
              " \"I don't like the previously on skins thing that starts at season two. I like it when it went straight into the intro like before \",\n",
              " \"@Houndour ...i wish i was there...i'm pretty good at scaring the shit out of people \",\n",
              " 'Going to sound vain... but running out of my fav lip gloss ',\n",
              " \"@stuiy never again will I click on a link that screams, &quot;I'm a spider, I'm a spider&quot;. I should have known better. yucky \",\n",
              " 'Why is that when you have time off from work you get sick? ',\n",
              " '@pratama Same iMac came out $320 more in Indonesia than the States. ',\n",
              " 'Dammit... I need to stop buying furniture ',\n",
              " '@Miss_Sil no i was half asleep and turned off the laptop after that ',\n",
              " 'Death is peaceful,  life however, bites ',\n",
              " ' i think @JonathanRKnight lost the net ? sure hope not',\n",
              " 'http://is.gd/r8Zf,  http://is.gd/r8Zy, and  http://is.gd/r8ZG - test footage with my girlfriend (in HD) The dark one is underxposed ',\n",
              " 'Such a tough game to watch tonight for State  Finally going to bed after also staying up to watch the season premiere of the Hills!',\n",
              " 'Seems jRuby support for hpricot is now two versions behind ',\n",
              " \"@JinxCat Unlike my sister...I still don't have one \",\n",
              " 'Fraking app store is pissing me off   http://tinyurl.com/c4ooho',\n",
              " 'Logging out. I need to study.... ',\n",
              " 'anyone else having problems accessing TTB??? I cant get on!!! ',\n",
              " 'I strongly dislike people who make stupid comments and dont know the whole story ',\n",
              " \"@emmaketurah  i'm sorry Emma, is swarley a goldfish? i'm sad for u.\",\n",
              " \"All my tweets are already gone, aren't they  Missed you guys tonight.\",\n",
              " \"Can't sleep again. Face is kinda swollen. Don't let me be allergic to the thing that'll get me to Thursday. School tomorrow? Doubtful. \",\n",
              " \"@Snick_the_Dog If Izzy's on the cat tree, she'll stare him down, but if she's on the floor, he chases and she runs. \",\n",
              " \"I am officially banning godaddy.com from my comp. My head hurts from the small print AND I wasted $10 that could've happily gone to Boba \",\n",
              " '@HumanOpium pretty much just scary for me ',\n",
              " \"@ilovepie mines too... I'm finding it well hard to get fit... \",\n",
              " 'Good morning! Ready 2 go, but I want 2 go back 2 bed ',\n",
              " 'hates waiting for mails ',\n",
              " \"wheat bread from the dollar store just doesn't toast nicely  going over my taxes and calling it an early night\",\n",
              " \"Why Kutner? I mean I knew something was going to happen to someone but it was so sad. I &lt;3 House and it was well done, but I'm still sad \",\n",
              " '@JonathanRKnight aw ok goonite....  ',\n",
              " 'ill so i cant go to the cinema!! ',\n",
              " \"Fell asleep . . . Really didn't mean too  *christina*\",\n",
              " '@KelleyRowe hey, you remember that time we used to be friends?? ;)  ugh. vomit. sick.  i need sleep ',\n",
              " \"my lymph nodes are as massive as rahm emanuel's balls right now \",\n",
              " \"Oh no my computer sucks. I don't think i'll be able to listen to the Xbox 360 Fancast tonite \",\n",
              " 'is missing playing my trumpet ',\n",
              " 'My throat is still really sore. I was meant to be going on a 5 day camp from Friday but not so sure now ',\n",
              " '@sasii I know exactly how you feel! ',\n",
              " 'At work ',\n",
              " 'Well bed time now. 1 am. *sighs* Back to 6 am mornings for a week on Wednesday. ',\n",
              " '@hert Jesus Camp? Yeah... ',\n",
              " '@MaryBethune oh no! with everything that happened today, i forgot we were going dress shopping for the opera tomorrow. ',\n",
              " 'Turtles are better than my Mac - lasts longer and moves faster ',\n",
              " 'I am soaked. This is not pleasant ',\n",
              " '@ginayates Sorry to hear about Maggie.    Thoughts to your mum.',\n",
              " '@ewarden, you may have to email this one to me  I hope you feel better.',\n",
              " '@miamiiboii dead @ yu gettin on wen im leavin ',\n",
              " \"@arlenecd PLEASE TELL ME THAT'S SOMEWHERE CLOSE TO CALIFORNIA!!! LOL! \",\n",
              " '@phlaimeaux where are you? ',\n",
              " \"stupid arranged marriages... i'll convert so you can marry me...love you! \",\n",
              " '@emilyruppe Well he said that he is a looser, and that is what the show implies ',\n",
              " 'Poor Sandra Cantu &amp; the Cantu family! My prayers go out to them! What a sick world we live in. She was only 8 ',\n",
              " 'fuck omg  austins always there though man &lt;3 love you',\n",
              " '@nicolerichie I cried so hard when Matthew died ',\n",
              " \"sad that the 'feet' of my macbook just fell off : sad that the 'feet' of my macbook just fell off \",\n",
              " \"@chordsy - why am I the last to find out about these things? Like that you're on the twitter too. \",\n",
              " '@lovebscott absolutely not!! ',\n",
              " 'http://twitpic.com/2y3cf - Filled with curry  the true indian in me is coming out',\n",
              " 'im soooo cold right now ',\n",
              " '@heidimontag lol I kant believe cam got beat upp sooo embarasssiiiin ',\n",
              " '@JonathanRKnight Good Knight hun! Looking forward to ur tweets again! Hate that i keep missing out on the fun cuz of the time difference ',\n",
              " 'Tumblr: This is exactly how it feels wearing a ï¿½tieï¿½  http://tinyurl.com/c8bvqh',\n",
              " \"@daniela_95616 hahaa!! i just realized &quot;impune&quot; definitely isnt the word i wanted... dang. i'm so unclever. \",\n",
              " 'watching old videos of dance team and such... makes me miss it  ',\n",
              " \"Wahh  no CSI anywhere! DVR'ed I Love Money 2 though - gonna watch it then sleep - Goodnight Tweeters&lt;3\",\n",
              " 'Struggling hard with Inventory ',\n",
              " \"@ddlovato Do you hate us?? Please don't \",\n",
              " '@ballinbitch haha im not THAT ballin. I still got bills to paaaaay ',\n",
              " \"I'm in one of those days when I really just want to work from home.  Crap. \",\n",
              " \"@paul_e_wog Wait...is it a game or just episodes? I'm so confused. \",\n",
              " '@carlyw66 HAHA. I cried...  I guess he did....',\n",
              " \"I don't get statistics!  Its all a bunch of mumbo jumbo for me.\",\n",
              " '@sloanb Got it, sadly, only works for UK &amp; US at the moment ',\n",
              " 'Evicted ',\n",
              " \"doesn't enjoy learning CSS. \",\n",
              " \"@nachojohnny Brian don't make me fuck u up LOL I replied 2 ur message...did u get my # ? I miss u \",\n",
              " \"@heidimontag I  dvr'd it and went to watch it, apparently the dish network went down SO I MISSED IT    I will have to catch a rerun!\",\n",
              " '@JessDubb lmao. U may have to wait for another season to come thru. its summe boo. Hot nd dry ass weather ',\n",
              " \"@LizChavez I can't set my feet on the ground. The missing eyelid people might get me!  \",\n",
              " '@daniela_95616 my english professor would be ashamed. ',\n",
              " \"[-O] I wish the frogs weren't becoming extinct    http://tinyurl.com/cxe8w7\",\n",
              " 'Came home from Cross County, Tired as ',\n",
              " \"I don't want to walk home in this snow. Who wants to pick me up? \",\n",
              " '@heidimontag Lauren is being stubborn. she loves you, you love her.  I feel so bad for you, though. it made me cry  lol!',\n",
              " 'is grouchy. and wants bmar ',\n",
              " 'my heart is broken every morning dropping Foo at pre school, now i understand when moms say &quot;he has my heart broken&quot;. ',\n",
              " 'Not feeling well and back hurts ',\n",
              " 'Im in the mood for some chocolate. I want..... Miniature Reeses cups. Now ',\n",
              " \"I can't take this heat! It's like an oven in here. I feel sick nwo \",\n",
              " '@nick_carter Come to the chat  just 15 minutes  please? http://fanclub.backstreetboys.com/chat.php',\n",
              " 'Boredd. Colddd  Internet keeps stuffing up',\n",
              " \"I had a horrible nightmare last night which affected my sleep, now I'm really tired \",\n",
              " 'im lonely  keep me company! 22 female, new york',\n",
              " '@Born_4_Broadway Lost  and it was St. Ignacius Prepatory School. Haha.',\n",
              " '@birutagme yeah  it was really depressing... stuff like that gets to me',\n",
              " '@whoisariston No problem, tongue-in-cheek remark.  Lots of acronyms, but no NZ ',\n",
              " '@greggrunberg hey you said matt was gonna go all ballistic... i was disappointed  good ep tho mostly',\n",
              " 'ugh horrible ending to the sandra kantu story  prayers go out.',\n",
              " \"@danielledeleasa http://twitpic.com/2y1pe - I hate 2 B allergic  i want a puppy soo bad that i've already thought some cool names\",\n",
              " 'Morning folks 7.00 am ..yawn! Up &amp; away to see to horses - hope Twitter is better behaved today!  Last night was a travesty ',\n",
              " '@QuanDotCom I miss mine too! ',\n",
              " '@AmandaEnglund Sorry to hear about your loss.     There have been many this year so far.',\n",
              " '@nicolerichie Gossip Girl was a repeat ',\n",
              " '@InYourEyes2410 I reckon ',\n",
              " 'finding it really hard to use twitter ',\n",
              " \"I've been stuck in this house for two days \",\n",
              " \"is really sad and doesn't really know y!!??!!! \",\n",
              " '@thousand_miles no ',\n",
              " \"Maybe one of these years I'll get a tax return.  A girl can dream, right?\",\n",
              " 'Back at work, tired as hell and i feel a cold coming ',\n",
              " \"@clarianne @Knot2serious APRIL 9TH ISN'T COMING SOON ENOUGH \",\n",
              " \"@hannahsix cream for his eye and he may have herpes - not ocular herpes, but a different strain.    He's doing okay though.\",\n",
              " 'gotta repeat  whole art folio cuz old one with a whole terms work got wet ',\n",
              " \"I'm ready for the weekend already. It's only Monday. \",\n",
              " \"@lovebscott umm nope..think im an insomniac ..plus i got the flu...i'lll be sleepin like a phuckin fish outta water any minute now! \",\n",
              " 'has Finland sleeping for the night, not really enough time ',\n",
              " \"@lunafiko can't wait to try em but prolly have to wait until next weekend at the earliest \",\n",
              " 'Shiner is taking up all my bed and blankets! ',\n",
              " \"@clarianne APRIL 9TH ISN'T COMING SOON ENOUGH \",\n",
              " 'wants to cry ',\n",
              " 'I need to go to the bank tomorrow before I go broke... ',\n",
              " \"This earthquake in italy has me sadden.  it's only three hours away from naples, where my family is \",\n",
              " 'i should be sleeping, i have a stressed out week coming to me. ',\n",
              " '@dragoneer Yea   I am working tp hack my server to do the 12player thing for folks',\n",
              " 'has hurt her ankle!! and is going to the dr ',\n",
              " '@raymondroman oh noes. how did you manage to send something to the trash can AND empty it without noticing! i feel for ya ',\n",
              " \"Lost my free copy of radioactive so can't put it on my ipod grr!And i can't go out + buy 'nother coz it came with that paper \",\n",
              " 'doing make up shit ',\n",
              " 'Photoshop, I hate it when you crash ',\n",
              " 'vacations makes me feel sick! ',\n",
              " \"you shouldn't have gone \",\n",
              " 'listening to Murd and 9th wonder- just chillen out missing my crazy sex life  ',\n",
              " '@louie094: shooting!?!! be careful, luisa ',\n",
              " \"@hillary006 I'm sure everyone has ruined my gift to you  Whitney has my serious Cell #...We doing easter as well?\",\n",
              " 'is at Beso in Hollywood... so tired ',\n",
              " \"I don't want to wake up early tomorrow.  Damn you, work!\",\n",
              " 'just finished watching the movie Prayers for Bobby. Broke my heart ',\n",
              " '@syekr is myki really horrible? ',\n",
              " '@stephenkruiser i had 2 put my dog down today too  someone ran her over',\n",
              " '@NevadaWolf Sorry to hear about your DNF run tonight. Always a risk to get bad coords on an FTF!! ',\n",
              " '@Honey3223 I did get some disgruntled people when I wrote my ESN, but the 1000 hits in one day made up for it. Bill pulls in 250 tops ',\n",
              " \"@moony394 OHH! OMG. LMAO. I'm crying right now, LOL! KUTNERRRR was the best! \",\n",
              " 'came back from running and took a shower...why does my lower stomach still hurt after exercising? ',\n",
              " 'watching Fallon with mom and working on a project...school is hard ',\n",
              " '56 min till home time and counting! I have a craving to visit the MAC store but they will have closed by the time I get there ',\n",
              " '@stephenkruiser I am so sorry to hear that!  Take care!',\n",
              " '@PaulColes  hmmm...greed is good when it motivates the individual to do better-not so much when it takes away from others ',\n",
              " \"@GABBYiSACTiVE brat! You have to rub it in, don't you.... I want a mocha \",\n",
              " \"KUTNERRRR!  WHY??? WHY??????  And to think that 13 is still on the show?? UGH. Kutner/Kal Penn - you've been the bright star in Ho ...\",\n",
              " '@redvinylgirl my mom has it. I wish you the best of luck ',\n",
              " 'I so hate homeworks -.- My head hurts so bad ',\n",
              " \"got the ebay blues! item i want jumped from no bidders to over $100 in an hour.. still has 3 hours to go. i'd better not get my hopes up \",\n",
              " '@gigdiary I know -  was a little depressed that we ate so much last night there were no leftovers today ',\n",
              " 'well the pc in my living room suffered a fatal partion lost, all my itunes library is gone.. and some docs with pics.... ',\n",
              " 'sad day: manu out for the season ',\n",
              " '@stephenkruiser You poor spunky...its so sad...my Rotti made it to 10 and I had to go down the same path....I know how you feel ',\n",
              " 'im sooo sad right now  i need a hug',\n",
              " 'wants her step brother home  im so worried, you dont even know. i hope he knows how much i care for him...',\n",
              " '@heidimontag just got done watching the hills! loved it! excited for the next episode! and im sad this is the last season! ',\n",
              " '@ryanmwilson aww that stinks!  *hugs*',\n",
              " \"I'm tired. I feel like crap. And the world feels all crummy. Make me happy, USB disco mouse. \",\n",
              " 'i dont want to believe what im reading...buu,so sad ',\n",
              " 'Wondering why gamebattles is down ',\n",
              " 'White trash vs us... We were outnumbered.  http://twitpic.com/2y3jp',\n",
              " \"@emitstop So true, I have it and don't use it \",\n",
              " 'Spring break is here at last, but no one is here to celebrate ',\n",
              " \"Morning! Bah Car won't start.. waiting for the ANWB.... \",\n",
              " \"@katebornstein which is pretty anti memorial tattoos   but for all but the strictest, there's no official BAN, just disapproving family\",\n",
              " \"Balamurugan, a longterm member of the team is leaving this month. We'll miss working with him  hope he does well in his next venture\",\n",
              " '@JustGelo Its sad knowing how they found her body. What a crazy world we live in. No child deserves that ya know. ',\n",
              " 'I wanna rock a Maxi dress @ Coachella, but lacking funding ',\n",
              " 'Of course the baby is screaming in the crib the night before my first day back at work.  So I let him cry it out? Boooo',\n",
              " 'I am home missing my baby  Busy week ahead Fri is a chill day with my guy and kids, Egg hunt Sat, Spiral and DMB Sat night and Easter!',\n",
              " \"@FollowSavvy I never found her. everytime I click on her twitter thing through your myspace..... it goes to some dude's page \",\n",
              " \"@stephenkruiser that's horrible  sorryto hear that.\",\n",
              " \"@David_Henrie i cant find it! it says dtmafiaofficial doesnt exist!there's jus 1 dtmafia i found n u dun seem to b followin it  wht to do?\",\n",
              " 'i thought you would support me on this ',\n",
              " \"augh, eff sarth  i stole some of MIL's nail polish, its pretty! =o\",\n",
              " \"Wishes I was on the Spring Fling Tour with Dawn &amp; neecee Sigh  G'knight\",\n",
              " \"The Hoyts Distribution NZ website isn't working for me. Great. And it HAS to be like this when I need it most \",\n",
              " \"@crummyasshole i don't like that they only had him in the first movie  cillian murphy is hot \",\n",
              " \"wishes for good old cartoons to come back. ie: Captain Planet! Where's Wally! Daria! (sadness  )\",\n",
              " 'not feeling v good abt myself ',\n",
              " 'i just got a text from sarah ',\n",
              " 'Another day at centre point - this time an early start so guessing train will be rammed with commuters ',\n",
              " 'Four games this fall: Modern Warfare 2, Halo 3 ODST, Brutal Legend, and Bioshock 2 I need more cash ',\n",
              " \"@d_castillo ugh, that's disconcerting \",\n",
              " '@Devinthedude007 actually the whole site has finally been taken over by those damn russians ',\n",
              " 'MY TWEETS ARENT GOING THROUGH ',\n",
              " \"Just finished a delicious breakfast, my last in Paris  I'll miss milk, europe has the tastiest milk in the world, I don't drink it in US.\",\n",
              " 'iLearn is down and out, great considering finals are this week... ',\n",
              " \"@Carmonium i'm stressed outttt \",\n",
              " 'Also I shouldve Bern asleep an hour ago ',\n",
              " 'trying to figure out this twitter thing...none of my friends are on  yet. Soo much to see.',\n",
              " 'Re-pinging @Kyle44: Custom icons I made! =] look cool but the edges could be less square  might look bad on a diff background',\n",
              " 'I want to be back in LA ',\n",
              " \"@enterbelladonna i dunno how to use the forum and i get frustrated with it. i'll miss talking to you on here. \",\n",
              " '@lilbucknuts41 not an option ',\n",
              " \"@georgeruiz Unfortunately one of those moments wasn't a giant squid monster. \",\n",
              " '@thestar_rage I want one too    is the branch in MidV open too?',\n",
              " '@daNanner aw, sorry to hear that. ',\n",
              " 'Change of plans, we ordered Macs instead. Time to hit the books! ',\n",
              " '@polhillian YUP. ',\n",
              " \"@NKDreamer did you see Donnie's tweet stats? almost 700 @ replies...and no JRK \",\n",
              " \"@tim_grainger nah, I haven't received my stimulus yet \",\n",
              " '@ikimb0 i just seen ur tweet . plz write bak if u get this. i havnt got one reply bak ',\n",
              " '@McCainBlogette Awwwww and you were trying to go to sleep 3 hours ago ',\n",
              " \"@stephenkruiser I'm so sorry to hear that.  It's always sad when we lose those close to us, as we loved them.\",\n",
              " 'cant sleep but im still feelin like a piece of shit ',\n",
              " \"@stephenkruiser oh  my sympathies. it's a hard decision. i always hope my old border collie will go in her sleep. she's 14 too. *hug*\",\n",
              " '@josephheustess ...well there was this really cool part where... i wont spoil it ',\n",
              " \"@limbecky I'm doing the time warp without you and am sad. \",\n",
              " \"@theresawhite this is true, lol but it's still a slap in the face after such a warm end of march \",\n",
              " 'I hate converting movies just to put em on my itouch ',\n",
              " 'gross i have a pimple ',\n",
              " \"@Torturedlady yea  ma'naaaaaaaaaaaaaaaaaaaam (marwan accent) lol\",\n",
              " 'one less follower tonight ',\n",
              " '@Unholyknight so did your mom last night.  brb while I figure out whether I just burned you or myself the most.',\n",
              " 'I feel like I am the only &quot;twitterer&quot; not on TweetDeck. ',\n",
              " '@Wyldceltic1 He has Karate tournament in 8 weeks  ',\n",
              " \"going to sleep can't be up until 1am again...and no I didn't finish my statistics homework! \",\n",
              " 'North carolina baby!! Aint nothin stopping them but the nba draft ',\n",
              " \"Can't sleep again \",\n",
              " \"I reaaly miss john mayer's twitters.  fuck rude people. Remove him if you don't like his tweets, bitchfucks.\",\n",
              " 'is going to have a late one at MQU today ',\n",
              " 'im so tired of work...i need a life.... ',\n",
              " 'just leavin work, my feet hurt ',\n",
              " '@PlayRadioPlay that was so sad and unexpected.  i totally cried haha.',\n",
              " \"Superneej: Morning! Bah Car won't start.. waiting for the ANWB.... \",\n",
              " 'Still doing my homework!!! ',\n",
              " 'A little sad ',\n",
              " '@deepbluesealove My Mom &amp; Dad both get up around 6...too early for me ',\n",
              " \"should've been asleep two hours ago \",\n",
              " '@stephenkruiser So sorry to hear about your dog. ',\n",
              " 'Funny how the little things make me homesick, criminals breakn n2 a brownstone on LawNOrd CI made me misty ',\n",
              " '@djsoulsister yeah, great vid. I had the 12&quot; single, but sold it a few years ago ',\n",
              " \"im on val's mac in iitsc clubroom. still sweating \",\n",
              " \"@stephenkruiser awww so sad!!!  I'm so sorry!!\",\n",
              " 'UpdatingFFE.  That gives me nothing to do for a good twenty minutes!',\n",
              " 'Hot compress not rily workng for pulled muscle  gng to bed, good night',\n",
              " 'Have an invite for &quot;Healthy Dining&quot; session at Ashok Hotel today with Exec Chef R.Chopra but damn workload - will have to skip it! ',\n",
              " \"@stephenkruiser I'm so sorry to hear about your dog   wishing you happier days to come!\",\n",
              " \"@hellivina I miss 'em too. \",\n",
              " '@misstoriblack cool , i have no tweet apps  for my razr 2',\n",
              " \"I'm off too bed. I gotta wake up hella early tomorrow morning. \",\n",
              " \"still procrastinating... i hate organizing my clothes  there's just so much....\",\n",
              " \"Just been playing with the new Mobbler v0.4.0 and it adds some great new features, but won't play music on my E71, like v0.3.5 did \",\n",
              " \"@latroneb oh but there's one bestie missing \",\n",
              " \"@esuriospiritus time to come back to flawda for double dates! no, seriously, i'm sorry to hear that. \",\n",
              " \"I'm up way to late to be working for a client 12:10 AM  #fb\",\n",
              " 'blegghhhh i have to go to work ',\n",
              " 'Back at work  @ John Muir Dr http://loopt.us/KoqAbg',\n",
              " '@DAChesterFrench I emailed you yesterday and u never responded ',\n",
              " \"It's going to be a long year for A's fans. \",\n",
              " 'Just got done watching the new House episode.Definitely one of the saddest episodes ever. ',\n",
              " \"Man... taxes suck.  I'm horrified that i did something wrong on them.  TurboTax decided to keep around a lot of the stuff I turned off.  \",\n",
              " 'Sleep time.  Tomorrow is gonna suck ',\n",
              " \"WTF Not Kutner!  Oh I'm so pissed @ House.  I mean really WTF   \",\n",
              " '@AmberPacific i know i dont know why i said that ',\n",
              " 'CASH RULES EVERYTHING AROUND ME ',\n",
              " 'Just picked up some oats from the market to eat for breakfast with my boy @adamgoldston now time to do work at USC... late night ',\n",
              " 'i feel sick  too much icecream',\n",
              " \"@faithgg45  this computer doesn't have shockwave...blah  no account yet\",\n",
              " '@RubyRose1 awww wish i could go! but its in sydney ',\n",
              " '@luxuryprgal hahaha suriously! I feel like everyone knows this show is a joke except lc! ',\n",
              " \"I just can't spell today, i totally suck \",\n",
              " 'are you vaccinated against chicken-pox?should I vaccinate my 3 yr old?I am SO confused about this damn thing ',\n",
              " '@ school  at least last day!!!!!!',\n",
              " \"Yawwwn! Gotta get up early tomorrow  who's ready for the weekend???\",\n",
              " 'i miss being at home for calving season...sad that black one died this morning  wish i had some bottle calves!',\n",
              " '@stephenkruiser i so sorry for your loss. my brother dog sam is sick w/cushings disease. ',\n",
              " 'Back to work. I get to spend the next 8 hours alone in the dispatch room ',\n",
              " \"there's a new kind of starburst: favereds. sounds fab, bc cherry and strawberry are MY fav red's but they added watermellon and its yucky \",\n",
              " 'Well, so much for being productive on my 2 days off from Angels ',\n",
              " '@andreabakes Oh gee - insomnia sucks   Have you tried melatonin?',\n",
              " '@vivekg86 Good to hear that we have support in NetBeans. But then its NetBeans you know ',\n",
              " '@heidimontag I wish we would get it the same time at the rest of world. unfornately I am in Cairo and have to wait for mtva to play it ',\n",
              " 'heartbroken over little sandra. prayers are with the family. ',\n",
              " \"@hadtobeyou I'm at 900 words, it's all can do  I'll finish tomorrow maybe\",\n",
              " '@shortiethug how come ur background covers the screen but mine is in the corner? ',\n",
              " 'Wrote exactly three lines of dialogue tonight, then gave up. ',\n",
              " \"@ashman01 My only complaint about Facebook is they've changed it so much it's confusing \",\n",
              " 'Sliced my finger ',\n",
              " 'going thru town and traffic on bypass is stink ',\n",
              " \"Ugh can't sleep.  Wish i had a good cuddle to  Make me ass out \",\n",
              " \"I hate when software update downloads updates without telling me. I never know what's downloading when it is \",\n",
              " 'went to ihop again. Great for a diet   At least there were no kung foo pancakes this time. -Rachel-',\n",
              " \"The internet is hating me. Night i s'pose. \",\n",
              " \"@contactabe I'm so jealous.  I missed all of opening day this year \",\n",
              " \"It's so cruel having to wait for reviews to come in.  So far it looks like Star Trek will be the best film of the year!\",\n",
              " 'Debating if I should just shower now, so I can sleep a little later tomorrow ',\n",
              " 'My stress always culminates with physical pain.  ',\n",
              " 'need to sleep. but cant ',\n",
              " 'my little pinky finger hurts so much.. ',\n",
              " \"@sarahsaturday I'm sorry your gift card ran out.... That suck. \",\n",
              " 'home for spring break. no one is home tho ',\n",
              " \"I accessed oneindia.mobi from a Google phone (Android). It doesn't support Indic languages \",\n",
              " \"Why does school take over your life so much you don't get sleep anymore  .. I am still doing school work and have more to do as well\",\n",
              " \"@MTsiaklides aw I wish I could! I can't really speak to my yia yia because she doesn't speak english \",\n",
              " '@winggato no free comp lol ',\n",
              " 'getting ready to clean the house from top to bottom ',\n",
              " 'crying  my friend is moving away tomorrow ',\n",
              " \"@swiftkaratechop STOP NOMNOMS!!!! ..you didn't share!  Night peoples!!\",\n",
              " 'thinks she is getting a cold that she caught from Daddy.  Oh no, my trip would be ruined. ',\n",
              " '@moony394 yeah  is it bcoz kal penn is a visiting lecturer somewhere n cant be on the show anymore? im gonna miss him ',\n",
              " \"So the procrastination starts early in the quarter. I don't want to reaaaaad and write a paper \",\n",
              " \"What? Apparently it's 52 degress at 11pm in Washington State. I miss winter already \",\n",
              " 'being bored at homee ',\n",
              " \"massage was great. i just spilled coke all over my desk  lame. watching the simpsons as i've finished all my hills dvds.\",\n",
              " \"@nick_carter I will wait for you at fanclub chat.. even tough you're not my favorite \",\n",
              " 'has a mild left inner ear infection.. and its got this irritating &quot;blocked&quot; feeling since sunday.. ',\n",
              " '@JaneBodehouse Hey there! Nope. My cuteness @HoytFortenberry is away for awhile ',\n",
              " \"It's only tuesday \",\n",
              " \"Haha not even yo. I just didn't know how to do that @thang to you on twitter  Haha\",\n",
              " 'Someones alarm clock or a phone woke me up at 3am...Still got my headache from yesterday night ',\n",
              " '@kalichosich awww poor puppy is she ok? ',\n",
              " 'i might break down and eat some buffalo wings tomorrow ',\n",
              " \"Sittin here w/Kayla, I really really reallly dis-like having a brother.  He doesn't know when to stop. I'm waiting for the day when one of\",\n",
              " 'Fed bokkie too many birthday treats-sicko ',\n",
              " \"'s Kinda Bummed. An Agency Just Told Me That I Didn't Have The 'LOOK' That They Were Going For. Ladies, Please Help Me Create The 'LOOK' \",\n",
              " 'Work laptop is officially dead .. Not happy at all.. ',\n",
              " \"My goodness, it's freezing down here !!!!! \",\n",
              " '@heidimontag why do you put up with him!!!!!  You should listen to your mom ',\n",
              " \"is stucked in Paris and can't even travel into France (for work) \",\n",
              " \"@JoannaFBeckett, i don't think there's one close by. Last time I checked, the closest one was 70 miles away! \",\n",
              " 'aaaaand back to my literature review  At least i have a friendly cup of coffee to keep me company.',\n",
              " \"I am worried that I won't get my $900 even though I paid a buttload of tax last year ! \",\n",
              " 'Okay, so.. STILL NO SCHOOL!!!! ',\n",
              " 'IS PHONELESS  ...NOW OFF TOO SLEEP',\n",
              " 'Reeked of alcohol at the dentist this morning + was drunk when i put on my tshirt, realised it had a huge stain. Dentist looked disgusted ',\n",
              " 'it is really cold ',\n",
              " 'cant sleep  she wants to dream!!',\n",
              " \"Can't sleep  I hate these nights when I try to go to bed early and stay awake for hours. Poo!\",\n",
              " '@rootbeersoup Yeah. Too bad people like a certain burrito-eating man exist. ',\n",
              " \"@Cronotriggers  that's sad.\",\n",
              " 'just found out that my mum  and my adopted auntie are on twitter.. check them out my mum is TessM64 and my awesome as auntie is tania38',\n",
              " 'Cannot sleep....WIDE AWAKE!!...and I gotta go to work later too. Boy, am I going to have a crappy day. ',\n",
              " 'struggling with eam law ',\n",
              " \"Why can't I sleep like her  http://twitpic.com/2y3ty\",\n",
              " \"Bouts to start 24. Poor linny couldn't keep her eyes open.  she tired and has to work tomorrow morning. Night @ilovefatsusan.\",\n",
              " \"My 4 year old (18 year old) is driving me around the twist...i don't want to be like this \",\n",
              " 'Well, that sucked. ',\n",
              " 'i have to be out of my place in 3 days...any help i can get packing/painting/cleaning is much appreciated. oh. and RIP my wall  ',\n",
              " 'Opening a partially frozen beer= Beer on the toaster, under the oven and all over the counter. The kitchen smells like we run a speakeasy ',\n",
              " '@stewiebrittany no  i dont even know how to ride it',\n",
              " '@MonaSmith sadly, yes. i think i need counciling now ',\n",
              " \"making myself ready for school...don't feel like going, but have two tests \",\n",
              " \"Smugness gone. My train also failed to turn up so I'm heading for Victoria followed by an unpleasant tube ride to the City. \",\n",
              " 'Anybody know where my iPod went? ',\n",
              " \"aww this earthquake in Italy has made me sad  just saw the pics on the news, it's terrible.\",\n",
              " \"@lilibat never been able to afford to get them out. I'd much rather go through the extraction than continue with what I deal with now. \",\n",
              " ' Why do other pet care people try to run others out of business? Or send suspicious e-mails fishing for info?',\n",
              " \"@kameelahwrites &lt;33 codez....they've been MIA tho \",\n",
              " '@reannaremick doesnt work on my cell  go to sleep! =P',\n",
              " \"it's going to be nice again tomorrow and then the rain comes back. no nice weather for my birthday \",\n",
              " '@taliasunset rock band is hard..on expert!!! ',\n",
              " '@beachbassbone: roomie was home all day. All he had to do was scratch at the door. Comforter has to goto large laundromat machines. ',\n",
              " 'One of the hardest thing with this schedule, no one I can chat with at the end of my day usually ',\n",
              " \"they killed off a character on one of my favorite shows and now i'm upset \",\n",
              " 'jealous of my friends who got to see the new Star Trek film in Austin tonight. ',\n",
              " 'Listening to Q! I got a really bad headache and a drivin lesson in ten mins.... Lucky me  i just wana sleeep!  ',\n",
              " '@Steve_Buscemi SHUT UP you...I am hungry! And in Britain, home of the most boring suckassy breakfast in the world!  I MISS DENNYS!!',\n",
              " 'good morning everybody! pkoi y fais pas beau  bon coffee time!',\n",
              " 'work again ',\n",
              " 'Essay time.... ',\n",
              " '@chauncey78 hey did u talk to mom.. r they home yet? i hope they r ok.. wish i was coming home 4 easter.. ',\n",
              " '@endearingevania I sure wish I could go with you guys tmrw. But as per usual, school interferes. ',\n",
              " \"@widyatarina say what??? kal penn's leaving house?! noooooo!!! awww... i totally missed it tonight \",\n",
              " 'no! i lost a loyal ',\n",
              " 'played another hand very bad and lost half my stack ',\n",
              " \"It's 6.20pm - early days in a looooooong night at work \",\n",
              " \"@yaykimo It's sad it's the last season.  I wanna see when Spencer calls Lauren!\",\n",
              " 'So Im done editing &quot;The Phipstape&quot;. Back 2 crack a brew and see what we got............. no trees though ',\n",
              " \"@rj i don't know what half of that means \",\n",
              " 'homework homework homework ',\n",
              " 'worked his heart out today, doubling my weight at each station. Result: Stiff and pulled muscles... OUCH! ',\n",
              " '@MeLaMachinko now i feel bad for unfollowing. ',\n",
              " 'So... Tired... God I hate the new job, and only two days in ',\n",
              " 'Sad about Kutner being killed off my fav show House! ',\n",
              " 'happy for Coach Stringer (HOF c/o 2009!)...now if I can only finish my term paper on her ',\n",
              " \"I feel like shit. This is NOT the way I want to spend my birthday's eve \",\n",
              " 'so far i have 311 on all my sites put together,  most of them were me checking out the updates i made......',\n",
              " 'has a lot on her mind. I needs to make some moneys. And ideas. Nowhere is hiring! ',\n",
              " '@emiliexclarkex miss you ',\n",
              " \"@stephenkruiser I'm so sorry to hear about your dog \",\n",
              " 'Too much internet. How it plagues me ',\n",
              " 'i miss my ex soo much ',\n",
              " 'Sodding M25   http://twitpic.com/2y3y0',\n",
              " \"oh I thought the pirate bay trial verdict was today :-s apparently it's in 10 days \",\n",
              " '@featherinair call me back. ',\n",
              " 'is in study hall now, and i will log off immediately.  http://plurk.com/p/mzxbg',\n",
              " 'it so tired that im crying for no reason at all. im about to try to get an hour and a half in for tonight. half what i got last night. ',\n",
              " 'I totally have like...  four girl options, and none of them seem viable ',\n",
              " 'so far i have 311 veiws on all my sites put together,  most of them were me checking out the updates i made......',\n",
              " \"Listening to Bjork's All is full of Love... crying \",\n",
              " 'Omg the hills! Then I love money2, aww I think becky buckwild goes ',\n",
              " 'is craving for some tantan nabe  http://plurk.com/p/mzxcs',\n",
              " \"C'mon sean man \",\n",
              " 'Watching &quot;a league of their own&quot;...makes me miss mint chocolate ice cream cones and my grand ma  fuck.',\n",
              " \"Lost my phone some where.maybe in the grass, its just so long, hope it doesn't rain \",\n",
              " \"@tomatosalsa hope you aren't referring to me  say hello to your new stalker LOL\",\n",
              " '@brettyboo why were u sleeping?! Ur gonna be up all night now  how was ur bike ride?',\n",
              " '@SLessard But, but, but . . I wanna listen to the masters too!  ',\n",
              " \"@Sephystryx I've been looking about for good stuff to write, but also been doing loads of uni work \",\n",
              " 'i feel unloved. dropped 2 tweeters ',\n",
              " \"Off to London for the day on Thursday, it's gonna be raining, oh fab  won't see much on the London Eye! Still Robbie won't care bless him\",\n",
              " 'Completely wiped and reloaded the 8900.... Lost all BBM contacts    Going to bed sad.',\n",
              " \"@mykele sayyyy whaaaa? I wasn't invited... \",\n",
              " \"Didn't sleep too bad considering I have a workshop starting today. Beginnings of a sore throat though \",\n",
              " '@astewart87 oh my gosh that made me emotional haha idk why!!! i dont want to get old ',\n",
              " \"We're going to post some stories manually due to Twitterfeed problem. That's why we've been so quiet lately .... \",\n",
              " \"i don't like lukewarm showers \",\n",
              " '@linuxfoundation - Who should I contact if I need a 1099 for freelance work I did on Linux.com throughout 2008? Never got one. ',\n",
              " \"@skylineking722 connor, it's me, febi  are you really really mad at me??\",\n",
              " 'Need some help?! Want to buy a Macbook pro, but still inlove with my old powerbook! ',\n",
              " '@michaeltao man america is so .. borez anyway lol i just realized you sent me msgs on here. i had no idea. i have no flash ',\n",
              " \"@hellivina @IHOPness g'knight lovely ladies. i'm sleepy now \",\n",
              " 'Does anybody know how to get your electrolytes back in order? With a vitamin work? I feel sick. ',\n",
              " \"@sudam08  yes, someone hasn't been reading my posts properly  \",\n",
              " 'Almost through with my Italian homework!  Weeeeee.... now if I only understood what I was doing.  ',\n",
              " 'Who turned the lights on? It will be time to get ip then ',\n",
              " '@therealnph Twitter hates us both then.  ',\n",
              " \"I hate the fact that I'm genuinely excited about my last tweet \",\n",
              " \"@celesteclara i can't sleep either \",\n",
              " \"@TheBlondeTheory Between that and the Italy earthquake, it's been a very sad news day. \",\n",
              " '@champagnemanoir all rain today  . Garden really needs it so not quite so bad.',\n",
              " 'Yawn yawn yawn!! 10 more minutes in bed ',\n",
              " '@MajesticFlame ouch - sounds very sucky ',\n",
              " \"@bengottlieb Great idea with the iTunes promo codes - they don't work in the UK iTunes store though \",\n",
              " '@mattycus  *cry* ',\n",
              " '@RumLover An empty rum barrel is a sad rum barrel. *shakes head* the horror, the horror.  ',\n",
              " 'It was a sleepless night ',\n",
              " '@BillyBush she admitted to being a fake  ',\n",
              " '@BATMANNN  i love chutney......',\n",
              " 'got highly bored today scanning 24 pages for daddy. Had to do it! ',\n",
              " '@misterphipps you cooked risotto without me!!??? ',\n",
              " 'Keeeerrrrriiiiii!!!!  I really have nothing better to do then post on this thing at 224am.....wonderfullll. Says alot.',\n",
              " 'YAY FOR BASEBALL SEASON! boo to yankees losing their first game ',\n",
              " 'LOST sucks  ... because i have to work today',\n",
              " 'omg exams killed me  how could i not know the difference between haif a circle and a hemisphere &lt;/3 &gt;',\n",
              " 'In bed... I suddenly feel  I wish MA was here w/me... Goodnight TwitterFam',\n",
              " \"@RachelCmrn I don't like goodnights \",\n",
              " \"Greaaat my lappy won't turn on  wtffffff\",\n",
              " \"@M4RKM  You stuck in traffic then? My journey was traffic free this morning, if it's any help.\",\n",
              " 'Lookin like an all-nighter. I hate it when I do this to myself ',\n",
              " \"@vernonhamilton You're a stranger   \",\n",
              " 'Debbugging old VB6 code, the day could have started better . . .  ',\n",
              " '@toddlington only a quarter of a percent babe  darn',\n",
              " \"Coming down with a cold or bad allergies. Either way, I'm miserable! \",\n",
              " \"Can't believe Cutner is dead on House! Sad day.  in Santa Rosa, CA http://loopt.us/ORPL3A\",\n",
              " 'Damnit I was really digging this season of Reaper  http://www.tv.com/story/13720.html?ref_story_id=13720&amp;ref_type=1101&amp;ref_name=story',\n",
              " 'Gah, Comcast doubled our cable/internet bill w/out telling us, so we are quitting.  Can anyone suggest an affordable company in bay area?',\n",
              " \"Another early morn with the Duchess, although she hadn't managed to cross her legs this time \",\n",
              " '@alexbigman you left without saying hi! ',\n",
              " \"l want, but I can't sleep \",\n",
              " \"@TracyDowds When an Xbox shows those three red lights, it means it's dead and needs to be fixed for a month at Microsoft HQ. \",\n",
              " 'A king sized bed is nice but sad and lonely with no hubby, puppy, or kitty   I am over this whole conferenceing thing.',\n",
              " 'im boredd. gah  i wish i could just sleep and get it over with but ive had toooo muchh cooooffffeeeeeeeee  bahaha',\n",
              " \"@whyinthehell If I may butt in again.  I'm done being nosey.  sorry your conversation was just so interesting!\",\n",
              " '@smokey_robinson  you fell off my list...did I offend you?  ',\n",
              " '18 weeks till sisters home.. i missed her call, again! its the worst feeling in the world. ',\n",
              " 'gonna try to get some sleep in this hotel room ',\n",
              " \"@chimpytwit brilliant idea. just bring as much as you think you'll spend &amp; I'll swap you. bring a brolly \",\n",
              " \"@SimoneKali Get me an autograph and shout out! You have to record it though. My computer is dead so I can't listen. \",\n",
              " 'rt @KimKardashian Khloe just got fired from the Apprentice ',\n",
              " 'in biology class. my lip hurts ',\n",
              " 'Sorry for the next tweet... ',\n",
              " 'Grr not down to go to school today ',\n",
              " '@jennlopez I had to get an HD tivo and just got it set up tonight in order to get channels 40 - 59. ',\n",
              " '@mouthsex i asked everyone how they were doing yesterday and not a single tweet back ',\n",
              " '@adame ruddy money!! i like it!! still waiting here.... oh what a surprise... by state too?? hmmm....... seriously!! ',\n",
              " '@Kal_Penn I am so sad  Kutner was my favorite of the new team!!',\n",
              " \"@MarcusMims wow i didn't get an &quot;hello&quot; u suck \",\n",
              " 'bedtime, school tomorrow, and i still have no books  being broke suckssss',\n",
              " 'Seating here helping my baby with his papers...well he is forcing me too seat with him  im sleepy',\n",
              " 'Synching my contacts from my old mobile to iPhone. Import does not work well ',\n",
              " \"i can't concentrate \",\n",
              " \"I've just spent 1 hour to enter all the bureaucratic nonsense for March. What a waste of my time \",\n",
              " 'Nw more confused then ever! ',\n",
              " 'Not feeling well again. Stupid migraine making my tummy upset.  and my whole body aches, shoot me now.',\n",
              " 'Reading Buyology before bedtime... great premise but only turning out to be an &quot;OK&quot; book - lots of info I already knew ',\n",
              " 'Home! I really wana sleep, but due to wasting my free line in town I have an assignment to finish ',\n",
              " '@hellobebe I also send some updates in plurk but i upload photos on twitter!  you didnt see any of my updates on plurk? Zero? ',\n",
              " 'omg... &quot;The Reader&quot; is making me ',\n",
              " \"@cloudpimps d'oh! At least you're getting a decent exchange rate at the moment, sterling is still getting flogged \",\n",
              " 'tried to download tweetdeck but it wont download ',\n",
              " \"There's an inch of snow on the ground (and counting). I'm worried about the poor flowers \",\n",
              " \"@dweeman why aren't you a happy camper? \",\n",
              " \"@dkoenigs thanks man.  I'm so very grateful.  I feel unworthy of such attention, though, because I'm in this because of myself... \",\n",
              " \"@t_wolfe  i miss u too. i'm totally comin back tho! Lastnight was sooooooo much fun!\",\n",
              " \"@sniffinglue ohhh. I love it. ps I'm sad we didn't get to hang out \",\n",
              " 'And somehow I still end up in this place ',\n",
              " '@kisluvkis oh that is very sad, poor boy. ',\n",
              " ...]"
            ]
          },
          "metadata": {},
          "execution_count": 52
        }
      ]
    },
    {
      "cell_type": "code",
      "source": [
        "lemmatizer = WordNetLemmatizer()\n",
        "# grouping together the inflected forms (\"better\" -> \"good\")\n",
        "\n",
        "def preprocess(textdata):\n",
        "    processed_texts = []\n",
        "\n",
        "    # Defining regex patterns.\n",
        "    url_pattern = r\"((http://)[^ ]*|(https://)[^ ]*|( www\\.)[^ ]*)\"\n",
        "    user_pattern = '@[^\\s]+'\n",
        "    alpha_pattern = \"[^a-zA-Z0-9]\"\n",
        "    sequence_pattern = r\"(.)\\1\\1+\"\n",
        "    seq_replace_pattern = r\"\\1\\1\"\n",
        "\n",
        "    for tweet in textdata:\n",
        "        tweet = tweet.lower()\n",
        "\n",
        "        # Replace all URls with 'URL'\n",
        "        tweet = re.sub(url_pattern, ' URL', tweet)\n",
        "        # Replace all emojis.\n",
        "        for emoji in emojis.keys():\n",
        "            tweet = tweet.replace(emoji, \"EMOJI\" + emojis[emoji])\n",
        "            # Replace @USERNAME to 'USER'.\n",
        "        tweet = re.sub(user_pattern, ' USER', tweet)\n",
        "        # Replace all non alphabets.\n",
        "        tweet = re.sub(alpha_pattern, \" \", tweet)\n",
        "        # Replace 3 or more consecutive letters by 2 letter.\n",
        "        tweet = re.sub(sequence_pattern, seq_replace_pattern, tweet)\n",
        "\n",
        "        preprocessed_words = []\n",
        "        for word in tweet.split():\n",
        "            # Check if the word is a stopword.\n",
        "            if len(word) > 1 and word not in stopwords:\n",
        "                # Lemmatizing the word.\n",
        "                word = lemmatizer.lemmatize(word)\n",
        "                preprocessed_words.append(word)\n",
        "\n",
        "        processed_texts.append(' '.join(preprocessed_words))\n",
        "\n",
        "    return processed_texts"
      ],
      "metadata": {
        "id": "0GxSj9SdQnIO"
      },
      "execution_count": 56,
      "outputs": []
    },
    {
      "cell_type": "code",
      "source": [
        "processedtext= preprocess (text2)"
      ],
      "metadata": {
        "id": "_b2LbX1QSLhH"
      },
      "execution_count": 57,
      "outputs": []
    },
    {
      "cell_type": "code",
      "source": [
        "print (tweet)"
      ],
      "metadata": {
        "colab": {
          "base_uri": "https://localhost:8080/"
        },
        "id": "c3Kw-QdJQJta",
        "outputId": "6fa4a8e9-5125-49c8-e0b4-a15926e2abcf"
      },
      "execution_count": 58,
      "outputs": [
        {
          "output_type": "stream",
          "name": "stdout",
          "text": [
            "         sentiment                                               text\n",
            "0                0  @switchfoot http://twitpic.com/2y1zl - Awww, t...\n",
            "1                0  is upset that he can't update his Facebook by ...\n",
            "2                0  @Kenichan I dived many times for the ball. Man...\n",
            "3                0    my whole body feels itchy and like its on fire \n",
            "4                0  @nationwideclass no, it's not behaving at all....\n",
            "...            ...                                                ...\n",
            "1599995          1  Just woke up. Having no school is the best fee...\n",
            "1599996          1  TheWDB.com - Very cool to hear old Walt interv...\n",
            "1599997          1  Are you ready for your MoJo Makeover? Ask me f...\n",
            "1599998          1  Happy 38th Birthday to my boo of alll time!!! ...\n",
            "1599999          1  happy #charitytuesday @theNSPCC @SparksCharity...\n",
            "\n",
            "[1600000 rows x 2 columns]\n"
          ]
        }
      ]
    },
    {
      "cell_type": "markdown",
      "metadata": {
        "id": "E9xy8hetm9wG"
      },
      "source": [
        "#Task 8: Perform Data-Split"
      ]
    },
    {
      "cell_type": "code",
      "source": [
        "#Data is splitted in 80% for training method and 20% for testing"
      ],
      "metadata": {
        "id": "QoLHlt-cUgsY"
      },
      "execution_count": null,
      "outputs": []
    },
    {
      "cell_type": "code",
      "metadata": {
        "id": "Swr_A0p1m9r6"
      },
      "source": [
        "X_train, X_test, y_train, y_test = train_test_split(processedtext, sentiment, test_size = 0.05, random_state = 0)"
      ],
      "execution_count": 61,
      "outputs": []
    },
    {
      "cell_type": "markdown",
      "metadata": {
        "id": "CCJo3OYWm9oQ"
      },
      "source": [
        "#Task 9: Choose the ML Method to follow"
      ]
    },
    {
      "cell_type": "code",
      "metadata": {
        "id": "7UJWBSspm9lM",
        "colab": {
          "base_uri": "https://localhost:8080/"
        },
        "outputId": "83f601e5-a62e-4674-c0f3-b66dc375a4b2"
      },
      "source": [
        "vectorizer = TfidfVectorizer(ngram_range=(1,3), max_features = 500000)\n",
        "vectorizer.fit(X_train)"
      ],
      "execution_count": 63,
      "outputs": [
        {
          "output_type": "execute_result",
          "data": {
            "text/plain": [
              "TfidfVectorizer(max_features=500000, ngram_range=(1, 3))"
            ]
          },
          "metadata": {},
          "execution_count": 63
        }
      ]
    },
    {
      "cell_type": "markdown",
      "metadata": {
        "id": "Dmo0wF-vnXzD"
      },
      "source": [
        "#Task 10: Train the ML Model"
      ]
    },
    {
      "cell_type": "code",
      "metadata": {
        "id": "AUVPWfp9nXvl"
      },
      "source": [
        "#train a model = create the model "
      ],
      "execution_count": null,
      "outputs": []
    },
    {
      "cell_type": "code",
      "source": [
        "X_train = vectorizer.transform(X_train)\n",
        "X_test  = vectorizer.transform(X_test)"
      ],
      "metadata": {
        "id": "qT8c6FTCVTja"
      },
      "execution_count": 64,
      "outputs": []
    },
    {
      "cell_type": "markdown",
      "metadata": {
        "id": "RYSfWcCcnXsb"
      },
      "source": [
        "#Task 11: Test the Model"
      ]
    },
    {
      "cell_type": "code",
      "metadata": {
        "id": "ssX8vUw8nXov"
      },
      "source": [
        "#Set up some parameters to evaluate and test the model\n",
        "def model_evaluate(model):\n",
        "    y_pred = model.predict(X_test)\n",
        "    print(classification_report(y_test, y_pred))"
      ],
      "execution_count": 65,
      "outputs": []
    },
    {
      "cell_type": "code",
      "metadata": {
        "id": "2ZDwzmMvnXmA",
        "colab": {
          "base_uri": "https://localhost:8080/"
        },
        "outputId": "d53bf878-e693-4f66-9658-8e920c0dd969"
      },
      "source": [
        "#Let's test with a Logistic Regression Model\n",
        "LRmodel = LogisticRegression(C = 1, max_iter = 100, n_jobs=1)\n",
        "LRmodel.fit(X_train, y_train)\n",
        "model_evaluate(LRmodel)"
      ],
      "execution_count": 66,
      "outputs": [
        {
          "output_type": "stream",
          "name": "stderr",
          "text": [
            "/usr/local/lib/python3.8/dist-packages/sklearn/linear_model/_logistic.py:814: ConvergenceWarning: lbfgs failed to converge (status=1):\n",
            "STOP: TOTAL NO. of ITERATIONS REACHED LIMIT.\n",
            "\n",
            "Increase the number of iterations (max_iter) or scale the data as shown in:\n",
            "    https://scikit-learn.org/stable/modules/preprocessing.html\n",
            "Please also refer to the documentation for alternative solver options:\n",
            "    https://scikit-learn.org/stable/modules/linear_model.html#logistic-regression\n",
            "  n_iter_i = _check_optimize_result(\n"
          ]
        },
        {
          "output_type": "stream",
          "name": "stdout",
          "text": [
            "              precision    recall  f1-score   support\n",
            "\n",
            "           0       0.82      0.80      0.81     39989\n",
            "           1       0.81      0.82      0.82     40011\n",
            "\n",
            "    accuracy                           0.81     80000\n",
            "   macro avg       0.81      0.81      0.81     80000\n",
            "weighted avg       0.81      0.81      0.81     80000\n",
            "\n"
          ]
        }
      ]
    },
    {
      "cell_type": "code",
      "source": [
        "#Accurary level 81%"
      ],
      "metadata": {
        "id": "EN_TM5kKYr0f"
      },
      "execution_count": null,
      "outputs": []
    },
    {
      "cell_type": "code",
      "metadata": {
        "id": "Wl3OIda8nXi6",
        "colab": {
          "base_uri": "https://localhost:8080/"
        },
        "outputId": "c15d80d0-2f2b-4c05-9f53-82df56d32624"
      },
      "source": [
        "#Testing LRM again by increasing the amount of iterations from the module\n",
        "LRmodel = LogisticRegression(C = 1, max_iter = 500, n_jobs=1)\n",
        "LRmodel.fit(X_train, y_train)\n",
        "model_evaluate(LRmodel)"
      ],
      "execution_count": 67,
      "outputs": [
        {
          "output_type": "stream",
          "name": "stderr",
          "text": [
            "/usr/local/lib/python3.8/dist-packages/sklearn/linear_model/_logistic.py:814: ConvergenceWarning: lbfgs failed to converge (status=1):\n",
            "STOP: TOTAL NO. of ITERATIONS REACHED LIMIT.\n",
            "\n",
            "Increase the number of iterations (max_iter) or scale the data as shown in:\n",
            "    https://scikit-learn.org/stable/modules/preprocessing.html\n",
            "Please also refer to the documentation for alternative solver options:\n",
            "    https://scikit-learn.org/stable/modules/linear_model.html#logistic-regression\n",
            "  n_iter_i = _check_optimize_result(\n"
          ]
        },
        {
          "output_type": "stream",
          "name": "stdout",
          "text": [
            "              precision    recall  f1-score   support\n",
            "\n",
            "           0       0.82      0.80      0.81     39989\n",
            "           1       0.81      0.83      0.82     40011\n",
            "\n",
            "    accuracy                           0.82     80000\n",
            "   macro avg       0.82      0.82      0.82     80000\n",
            "weighted avg       0.82      0.82      0.82     80000\n",
            "\n"
          ]
        }
      ]
    },
    {
      "cell_type": "code",
      "metadata": {
        "id": "nZ3uIMaFnXfr"
      },
      "source": [
        "#Accuracy level s 82% a little higher than the first run"
      ],
      "execution_count": null,
      "outputs": []
    },
    {
      "cell_type": "code",
      "source": [
        "#SVC MODEL"
      ],
      "metadata": {
        "id": "y6G3V7mbZ53i"
      },
      "execution_count": null,
      "outputs": []
    },
    {
      "cell_type": "code",
      "metadata": {
        "id": "ufa3Ch6inXcK",
        "colab": {
          "base_uri": "https://localhost:8080/"
        },
        "outputId": "dbb2ec89-7a75-483d-e824-562e7e40683c"
      },
      "source": [
        "SVCmodel = LinearSVC()\n",
        "SVCmodel.fit(X_train, y_train)\n",
        "model_evaluate(SVCmodel)"
      ],
      "execution_count": 68,
      "outputs": [
        {
          "output_type": "stream",
          "name": "stdout",
          "text": [
            "              precision    recall  f1-score   support\n",
            "\n",
            "           0       0.81      0.79      0.80     39989\n",
            "           1       0.80      0.81      0.80     40011\n",
            "\n",
            "    accuracy                           0.80     80000\n",
            "   macro avg       0.80      0.80      0.80     80000\n",
            "weighted avg       0.80      0.80      0.80     80000\n",
            "\n"
          ]
        }
      ]
    },
    {
      "cell_type": "code",
      "source": [
        "#Accuracy level is 80%"
      ],
      "metadata": {
        "id": "EIBG9JCxWp8v"
      },
      "execution_count": null,
      "outputs": []
    },
    {
      "cell_type": "code",
      "source": [
        "BNBmodel = BernoulliNB(alpha = 3)\n",
        "BNBmodel.fit(X_train, y_train)\n",
        "model_evaluate(BNBmodel)"
      ],
      "metadata": {
        "colab": {
          "base_uri": "https://localhost:8080/"
        },
        "id": "DdJvuE1oWp5Q",
        "outputId": "10b89ac7-7176-4bd2-c42b-a4184aaa8fe8"
      },
      "execution_count": 69,
      "outputs": [
        {
          "output_type": "stream",
          "name": "stdout",
          "text": [
            "              precision    recall  f1-score   support\n",
            "\n",
            "           0       0.81      0.78      0.79     39989\n",
            "           1       0.79      0.81      0.80     40011\n",
            "\n",
            "    accuracy                           0.80     80000\n",
            "   macro avg       0.80      0.80      0.80     80000\n",
            "weighted avg       0.80      0.80      0.80     80000\n",
            "\n"
          ]
        }
      ]
    },
    {
      "cell_type": "code",
      "source": [
        "#Accuracy level 80%"
      ],
      "metadata": {
        "id": "EHfH2qpPaDx7"
      },
      "execution_count": null,
      "outputs": []
    },
    {
      "cell_type": "code",
      "source": [
        "X_train, X_test, y_train, y_test = train_test_split(processedtext, sentiment, test_size = 0.05, random_state = 0)\n",
        "\n",
        "pipe = Pipeline([('vectorizer', vectorizer), ('bnb', BNBmodel)])\n",
        "pipe.fit(X_train, y_train)\n",
        "\n",
        "model_evaluate(pipe)"
      ],
      "metadata": {
        "colab": {
          "base_uri": "https://localhost:8080/"
        },
        "id": "p9DxC8IbWp2e",
        "outputId": "0bad62d9-9a68-4153-ea86-bfe6d4f43595"
      },
      "execution_count": 70,
      "outputs": [
        {
          "output_type": "stream",
          "name": "stdout",
          "text": [
            "              precision    recall  f1-score   support\n",
            "\n",
            "           0       0.81      0.78      0.79     39989\n",
            "           1       0.79      0.81      0.80     40011\n",
            "\n",
            "    accuracy                           0.80     80000\n",
            "   macro avg       0.80      0.80      0.80     80000\n",
            "weighted avg       0.80      0.80      0.80     80000\n",
            "\n"
          ]
        }
      ]
    },
    {
      "cell_type": "code",
      "source": [
        "with open('/content/drive/MyDrive/Tweets.csv','wb') as file:\n",
        "    pickle.dump(pipe,file)"
      ],
      "metadata": {
        "id": "Z8vvhYYkeDNz"
      },
      "execution_count": 81,
      "outputs": []
    },
    {
      "cell_type": "code",
      "source": [
        "with open('/content/drive/MyDrive/Tweets.csv','wb') as file:\n",
        "    loaded_pipe= pickle.load"
      ],
      "metadata": {
        "id": "R49hGVZubXRN"
      },
      "execution_count": 82,
      "outputs": []
    },
    {
      "cell_type": "code",
      "source": [
        "model_evaluate(loaded_pipe)"
      ],
      "metadata": {
        "colab": {
          "base_uri": "https://localhost:8080/",
          "height": 270
        },
        "id": "XK7epE6jdv1g",
        "outputId": "3f829dce-cd3f-42ec-dbcc-f1abf0835b86"
      },
      "execution_count": 83,
      "outputs": [
        {
          "output_type": "error",
          "ename": "AttributeError",
          "evalue": "ignored",
          "traceback": [
            "\u001b[0;31m---------------------------------------------------------------------------\u001b[0m",
            "\u001b[0;31mAttributeError\u001b[0m                            Traceback (most recent call last)",
            "\u001b[0;32m<ipython-input-83-a6866d809697>\u001b[0m in \u001b[0;36m<module>\u001b[0;34m\u001b[0m\n\u001b[0;32m----> 1\u001b[0;31m \u001b[0mmodel_evaluate\u001b[0m\u001b[0;34m(\u001b[0m\u001b[0mloaded_pipe\u001b[0m\u001b[0;34m)\u001b[0m\u001b[0;34m\u001b[0m\u001b[0;34m\u001b[0m\u001b[0m\n\u001b[0m",
            "\u001b[0;32m<ipython-input-65-f8c86421795b>\u001b[0m in \u001b[0;36mmodel_evaluate\u001b[0;34m(model)\u001b[0m\n\u001b[1;32m      1\u001b[0m \u001b[0;31m#Set up some parameters to evaluate and test the model\u001b[0m\u001b[0;34m\u001b[0m\u001b[0;34m\u001b[0m\u001b[0;34m\u001b[0m\u001b[0m\n\u001b[1;32m      2\u001b[0m \u001b[0;32mdef\u001b[0m \u001b[0mmodel_evaluate\u001b[0m\u001b[0;34m(\u001b[0m\u001b[0mmodel\u001b[0m\u001b[0;34m)\u001b[0m\u001b[0;34m:\u001b[0m\u001b[0;34m\u001b[0m\u001b[0;34m\u001b[0m\u001b[0m\n\u001b[0;32m----> 3\u001b[0;31m     \u001b[0my_pred\u001b[0m \u001b[0;34m=\u001b[0m \u001b[0mmodel\u001b[0m\u001b[0;34m.\u001b[0m\u001b[0mpredict\u001b[0m\u001b[0;34m(\u001b[0m\u001b[0mX_test\u001b[0m\u001b[0;34m)\u001b[0m\u001b[0;34m\u001b[0m\u001b[0;34m\u001b[0m\u001b[0m\n\u001b[0m\u001b[1;32m      4\u001b[0m     \u001b[0mprint\u001b[0m\u001b[0;34m(\u001b[0m\u001b[0mclassification_report\u001b[0m\u001b[0;34m(\u001b[0m\u001b[0my_test\u001b[0m\u001b[0;34m,\u001b[0m \u001b[0my_pred\u001b[0m\u001b[0;34m)\u001b[0m\u001b[0;34m)\u001b[0m\u001b[0;34m\u001b[0m\u001b[0;34m\u001b[0m\u001b[0m\n",
            "\u001b[0;31mAttributeError\u001b[0m: 'builtin_function_or_method' object has no attribute 'predict'"
          ]
        }
      ]
    },
    {
      "cell_type": "markdown",
      "source": [
        "##Challenges\n",
        "\n",
        "\n",
        "*   My challenges have been several including: trying to keep the dataset in place. My data loading and crashing was the most challenging. Also reading through the errors and trying to identify and implement the codes and parameter for the word cloud, lemmatizer, data dumping and uploading with pickle\n",
        "\n"
      ],
      "metadata": {
        "id": "e8x4FbtsbuvV"
      }
    },
    {
      "cell_type": "code",
      "source": [],
      "metadata": {
        "id": "fIYMFF7IbXNz"
      },
      "execution_count": null,
      "outputs": []
    },
    {
      "cell_type": "markdown",
      "source": [
        "##Conclusion:\n",
        "My conclusion or findings were not completed since I could not go through the last steps in the sentiment analysis.  If I had ran the models after using pickle data dump and load.\n",
        " I would've used SVC Model as my main model to predict the tweets within my dataset since SVC model is more trainable than linear regression from the research that I did. I could have used a tokenizer and better optimization tools. My data was not fully loaded and could not run all the steps."
      ],
      "metadata": {
        "id": "PuK7arPgWqon"
      }
    },
    {
      "cell_type": "code",
      "source": [],
      "metadata": {
        "id": "reZvQ1UwWtH5"
      },
      "execution_count": null,
      "outputs": []
    },
    {
      "cell_type": "markdown",
      "source": [
        "##References\n",
        "https://www.nltk.org/howto/sentiment.html\n",
        "\n",
        "https://www.kaggle.com/code/kritanjalijain/twitter-sentiment-analysis-lstm/notebook\n",
        "\n",
        "https://monkeylearn.com/blog/data-cleaning-python/#:~:text=Data%20Cleaning%20With%20Python%201%201.%20Importing%20Libraries,Detect%20Outliers%20...%206%206.%20Normalize%20Casing%20\n",
        "\n",
        "https://stackoverflow.com/questions/20626028/sklearn-import-error-cannot-import-name-tfidfvectorizer\n",
        "\n",
        "https://www.w3schools.com/python/python_ml_train_test.asp\n",
        "\n",
        "https://scikit-learn.org/stable/modules/generated/sklearn.linear_model.LogisticRegression.html#sklearn.linear_model.LogisticRegression\n",
        "\n",
        "https://scikit-learn.org/stable/modules/preprocessing_targets.html#:~:text=The%20MultiLabelBinarizer%20transformer%20can%20be%20used%20to%20convert,of%20collections%20of%20labels%20and%20the%20indicator%20format%3A\n",
        "\n",
        "https://scikit-learn.org/stable/modules/preprocessing.html\n",
        "\n",
        "https://scikit-learn.org/stable/modules/linear_model.html#logistic-regression\n",
        "\n",
        "https://towardsdatascience.com/sentiment-analysis-concept-analysis-and-applications-6c94d6f58c17\n",
        "\n",
        "\n"
      ],
      "metadata": {
        "id": "YZu2RzQsWtlz"
      }
    }
  ]
}